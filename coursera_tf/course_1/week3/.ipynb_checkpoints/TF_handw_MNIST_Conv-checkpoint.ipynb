{
 "cells": [
  {
   "cell_type": "markdown",
   "metadata": {},
   "source": [
    "## Tensorflow MNIST with Convolutions\n",
    "---"
   ]
  },
  {
   "cell_type": "code",
   "execution_count": 11,
   "metadata": {},
   "outputs": [
    {
     "name": "stdout",
     "output_type": "stream",
     "text": [
      "Epoch 1/20\n",
      "59584/60000 [============================>.] - ETA: 0s - loss: 0.1393 - acc: 0.9580logs: {'loss': 0.13879022309506933, 'acc': 0.95808333}\n",
      "60000/60000 [==============================] - 7s 124us/sample - loss: 0.1388 - acc: 0.9581\n",
      "Epoch 2/20\n",
      "59648/60000 [============================>.] - ETA: 0s - loss: 0.0480 - acc: 0.9848logs: {'loss': 0.04803442708722626, 'acc': 0.98478335}\n",
      "60000/60000 [==============================] - 7s 122us/sample - loss: 0.0480 - acc: 0.9848\n",
      "Epoch 3/20\n",
      "59552/60000 [============================>.] - ETA: 0s - loss: 0.0292 - acc: 0.9907logs: {'loss': 0.029143268585484473, 'acc': 0.9907}\n",
      "60000/60000 [==============================] - 7s 121us/sample - loss: 0.0291 - acc: 0.9907\n",
      "Epoch 4/20\n",
      "59840/60000 [============================>.] - ETA: 0s - loss: 0.0185 - acc: 0.9937logs: {'loss': 0.01849906302234934, 'acc': 0.99373335}\n",
      "60000/60000 [==============================] - 7s 123us/sample - loss: 0.0185 - acc: 0.9937\n",
      "Epoch 5/20\n",
      "59616/60000 [============================>.] - ETA: 0s - loss: 0.0121 - acc: 0.9960logs: {'loss': 0.01212114167777278, 'acc': 0.99595}\n",
      "60000/60000 [==============================] - 7s 122us/sample - loss: 0.0121 - acc: 0.9959\n",
      "Epoch 6/20\n",
      "59680/60000 [============================>.] - ETA: 0s - loss: 0.0080 - acc: 0.9973logs: {'loss': 0.00807325415925249, 'acc': 0.9973}\n",
      "60000/60000 [==============================] - 7s 120us/sample - loss: 0.0081 - acc: 0.9973\n",
      "Epoch 7/20\n",
      "59968/60000 [============================>.] - ETA: 0s - loss: 0.0072 - acc: 0.9975logs: {'loss': 0.007189048637759333, 'acc': 0.9975333}\n",
      "60000/60000 [==============================] - 7s 122us/sample - loss: 0.0072 - acc: 0.9975\n",
      "Epoch 8/20\n",
      "59808/60000 [============================>.] - ETA: 0s - loss: 0.0068 - acc: 0.9978logs: {'loss': 0.006735285287621794, 'acc': 0.99778336}\n",
      "60000/60000 [==============================] - 7s 121us/sample - loss: 0.0067 - acc: 0.9978\n",
      "Epoch 9/20\n",
      "59776/60000 [============================>.] - ETA: 0s - loss: 0.0036 - acc: 0.9988logs: {'loss': 0.003641271298130967, 'acc': 0.99881667}\n",
      "60000/60000 [==============================] - 7s 119us/sample - loss: 0.0036 - acc: 0.9988\n",
      "10000/10000 [==============================] - 1s 68us/sample - loss: 0.0502 - acc: 0.9875\n"
     ]
    },
    {
     "data": {
      "text/plain": [
       "[0.05022032378073974, 0.9875]"
      ]
     },
     "execution_count": 11,
     "metadata": {},
     "output_type": "execute_result"
    }
   ],
   "source": [
    "import tensorflow as tf\n",
    "import numpy as np\n",
    "from tensorflow import keras\n",
    "\n",
    "class ModelCallback(tf.keras.callbacks.Callback):\n",
    "    def __init__(self, loss=0.0, acc=0.0):\n",
    "        self.loss = loss\n",
    "        self.acc = acc\n",
    "    def on_epoch_end(self, epoch, logs={}):\n",
    "        if (self.loss>0.0 and logs['loss']<self.loss) or \\\n",
    "           (self.acc>0.0 and logs['acc']>self.acc):\n",
    "            self.model.stop_training = True\n",
    "\n",
    "# Tensorflow/CUDA session config\n",
    "config = tf.ConfigProto()\n",
    "config.gpu_options.allow_growth = True\n",
    "sess = tf.Session(config=config)    \n",
    "\n",
    "# data\n",
    "mnist = tf.keras.datasets.mnist\n",
    "(train_data, train_labels), (test_data, test_labels) = mnist.load_data()\n",
    "\n",
    "train_data = train_data/255.0\n",
    "test_data = test_data/255.0\n",
    "\n",
    "# data reshape for convolutions: (60.000, 28, 28) --> (60.000, 28, 28, 1)\n",
    "train_data = train_data.reshape(60000, 28, 28, 1)\n",
    "test_data = test_data.reshape(10000, 28, 28, 1)\n",
    "\n",
    "# model\n",
    "model = tf.keras.models.Sequential([\n",
    "    tf.keras.layers.Conv2D(64, (3,3), activation='relu', input_shape=(28,28,1)),\n",
    "    tf.keras.layers.MaxPooling2D(2,2),\n",
    "    tf.keras.layers.Flatten(),\n",
    "    tf.keras.layers.Dense(128, activation=tf.nn.relu),\n",
    "    tf.keras.layers.Dense(10, activation=tf.nn.softmax)\n",
    "    ])\n",
    "model.compile(optimizer=tf.keras.optimizers.Adam(),\n",
    "                loss='sparse_categorical_crossentropy',\n",
    "                metrics=['accuracy'])\n",
    "\n",
    "# train\n",
    "callbacks = ModelCallback(acc=0.998)\n",
    "model.fit(train_data, train_labels, epochs=20, callbacks=[callbacks])\n",
    "\n",
    "# evaluate\n",
    "model.evaluate(test_data, test_labels) "
   ]
  },
  {
   "cell_type": "markdown",
   "metadata": {},
   "source": [
    "---\n",
    "### Predicciones"
   ]
  },
  {
   "cell_type": "code",
   "execution_count": 12,
   "metadata": {},
   "outputs": [
    {
     "name": "stdout",
     "output_type": "stream",
     "text": [
      "prediction: 7 3 8 8 2 2 3 4 1 4 "
     ]
    },
    {
     "data": {
      "image/png": "[encoded data removed]",
      "text/plain": [
       "<Figure size 720x72 with 10 Axes>"
      ]
     },
     "metadata": {
      "needs_background": "light"
     },
     "output_type": "display_data"
    }
   ],
   "source": [
    "import numpy as np\n",
    "import matplotlib.pyplot as plt\n",
    "\n",
    "predictions = model.predict(test_data)\n",
    "\n",
    "fig, axis = plt.subplots(nrows=1, ncols=10, figsize=(10,1))\n",
    "\n",
    "nums = []\n",
    "for i in range(10):\n",
    "    nums.append(np.random.randint(0, test_data.shape[0]+1))\n",
    "    axis[i].imshow(test_data[nums[i],:].reshape(28, 28, order=\"F\"), cmap=\"gray_r\")\n",
    "    axis[i].axis(\"off\")\n",
    "\n",
    "print(\"prediction:\", end=\" \")\n",
    "for i in nums:\n",
    "    print(np.argmax(predictions[i]), end=\" \")"
   ]
  }
 ],
 "metadata": {
  "kernelspec": {
   "display_name": "Python 3",
   "language": "python",
   "name": "python3"
  },
  "language_info": {
   "codemirror_mode": {
    "name": "ipython",
    "version": 3
   },
   "file_extension": ".py",
   "mimetype": "text/x-python",
   "name": "python",
   "nbconvert_exporter": "python",
   "pygments_lexer": "ipython3",
   "version": "3.6.9"
  }
 },
 "nbformat": 4,
 "nbformat_minor": 4
}
