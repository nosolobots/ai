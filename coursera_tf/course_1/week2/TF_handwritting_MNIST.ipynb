{
 "cells": [
  {
   "cell_type": "markdown",
   "metadata": {},
   "source": [
    "## Tensorflow MNIST\n",
    "---"
   ]
  },
  {
   "cell_type": "code",
   "execution_count": 2,
   "metadata": {},
   "outputs": [
    {
     "name": "stdout",
     "output_type": "stream",
     "text": [
      "Epoch 1/10\n",
      "60000/60000 [==============================] - 5s 91us/sample - loss: 0.2506 - acc: 0.9287\n",
      "Epoch 2/10\n",
      "60000/60000 [==============================] - 5s 90us/sample - loss: 0.1105 - acc: 0.9675\n",
      "Epoch 3/10\n",
      "60000/60000 [==============================] - 5s 91us/sample - loss: 0.0772 - acc: 0.9762\n",
      "Epoch 4/10\n",
      "60000/60000 [==============================] - 5s 90us/sample - loss: 0.0583 - acc: 0.9819\n",
      "Epoch 5/10\n",
      "60000/60000 [==============================] - 5s 90us/sample - loss: 0.0452 - acc: 0.9855\n",
      "Epoch 6/10\n",
      "60000/60000 [==============================] - 5s 91us/sample - loss: 0.0355 - acc: 0.9889\n",
      "Epoch 7/10\n",
      "60000/60000 [==============================] - 5s 90us/sample - loss: 0.0283 - acc: 0.9909\n",
      "10000/10000 [==============================] - 1s 57us/sample - loss: 0.0895 - acc: 0.9729\n"
     ]
    },
    {
     "data": {
      "text/plain": [
       "[0.08948575189474504, 0.9729]"
      ]
     },
     "execution_count": 2,
     "metadata": {},
     "output_type": "execute_result"
    }
   ],
   "source": [
    "import tensorflow as tf\n",
    "import numpy as np\n",
    "from tensorflow import keras\n",
    "\n",
    "class ModelCallback(tf.keras.callbacks.Callback):\n",
    "    def __init__(self, loss=0.0, acc=0.0):\n",
    "        self.loss = loss\n",
    "        self.acc = acc\n",
    "    def on_epoch_end(self, epoch, logs={}):\n",
    "        if (self.loss>0.0 and logs.get('loss')<self.loss) or \\\n",
    "           (self.acc>0.0 and logs.get('acc')>self.acc):\n",
    "            self.model.stop_training = True\n",
    "            \n",
    "# data\n",
    "mnist = tf.keras.datasets.mnist\n",
    "(train_data, train_labels), (test_data, test_labels) = mnist.load_data()\n",
    "train_data = train_data/255.0\n",
    "test_data = test_data/255.0\n",
    "\n",
    "# model\n",
    "model = tf.keras.models.Sequential([\n",
    "    tf.keras.layers.Flatten(),\n",
    "    tf.keras.layers.Dense(128, activation=tf.nn.relu),\n",
    "    tf.keras.layers.Dense(10, activation=tf.nn.softmax)\n",
    "    ])\n",
    "model.compile(optimizer=tf.keras.optimizers.Adam(),\n",
    "                loss='sparse_categorical_crossentropy',\n",
    "                metrics=['accuracy'])\n",
    "\n",
    "# train\n",
    "callbacks = ModelCallback(acc=0.99)\n",
    "model.fit(train_data, train_labels, epochs=10, callbacks=[callbacks])\n",
    "\n",
    "# evaluate\n",
    "model.evaluate(test_data, test_labels) "
   ]
  },
  {
   "cell_type": "markdown",
   "metadata": {},
   "source": [
    "---\n",
    "### Predicciones\n"
   ]
  },
  {
   "cell_type": "code",
   "execution_count": 13,
   "metadata": {},
   "outputs": [
    {
     "name": "stdout",
     "output_type": "stream",
     "text": [
      "prediction: 8 3 6 5 5 9 3 7 0 6 "
     ]
    },
    {
     "data": {
      "image/png": "[encoded data removed]",
      "text/plain": [
       "<Figure size 720x72 with 10 Axes>"
      ]
     },
     "metadata": {
      "needs_background": "light"
     },
     "output_type": "display_data"
    }
   ],
   "source": [
    "import numpy as np\n",
    "import matplotlib.pyplot as plt\n",
    "\n",
    "predictions = model.predict(test_data)\n",
    "\n",
    "fig, axis = plt.subplots(nrows=1, ncols=10, figsize=(10,1))\n",
    "\n",
    "nums = []\n",
    "for i in range(10):\n",
    "    nums.append(np.random.randint(0, test_data.shape[0]+1))\n",
    "    axis[i].imshow(test_data[nums[i],:].reshape(28, 28, order=\"F\"), cmap=\"gray_r\")\n",
    "    axis[i].axis(\"off\")\n",
    "\n",
    "print(\"prediction:\", end=\" \")\n",
    "for i in nums:\n",
    "    print(np.argmax(predictions[i]), end=\" \")"
   ]
  }
 ],
 "metadata": {
  "kernelspec": {
   "display_name": "Python 3",
   "language": "python",
   "name": "python3"
  },
  "language_info": {
   "codemirror_mode": {
    "name": "ipython",
    "version": 3
   },
   "file_extension": ".py",
   "mimetype": "text/x-python",
   "name": "python",
   "nbconvert_exporter": "python",
   "pygments_lexer": "ipython3",
   "version": "3.6.9"
  }
 },
 "nbformat": 4,
 "nbformat_minor": 4
}
