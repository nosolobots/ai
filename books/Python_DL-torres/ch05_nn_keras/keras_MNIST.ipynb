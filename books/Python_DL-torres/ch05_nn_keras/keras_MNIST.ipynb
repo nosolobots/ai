{
 "cells": [
  {
   "cell_type": "markdown",
   "id": "f94036c6",
   "metadata": {
    "toc": true
   },
   "source": [
    "<h1>Table of Contents<span class=\"tocSkip\"></span></h1>\n",
    "<div class=\"toc\"><ul class=\"toc-item\"><li><span><a href=\"#Reconocimiento-de-dígitos-(MNIST-dataset)-con-Keras/Tensorflow\" data-toc-modified-id=\"Reconocimiento-de-dígitos-(MNIST-dataset)-con-Keras/Tensorflow-1\">Reconocimiento de dígitos (MNIST <em>dataset</em>) con Keras/Tensorflow</a></span><ul class=\"toc-item\"><li><span><a href=\"#dataset:-MNIST-handwritten-digit-dataset\" data-toc-modified-id=\"dataset:-MNIST-handwritten-digit-dataset-1.1\"><em>dataset</em>: MNIST <em>handwritten digit dataset</em></a></span></li><li><span><a href=\"#0.-Importación-de-librerías\" data-toc-modified-id=\"0.-Importación-de-librerías-1.2\">0. Importación de librerías</a></span></li><li><span><a href=\"#1.-Precarga-del-dataset-(keras)\" data-toc-modified-id=\"1.-Precarga-del-dataset-(keras)-1.3\">1. Precarga del <em>dataset</em> (keras)</a></span><ul class=\"toc-item\"><li><ul class=\"toc-item\"><li><span><a href=\"#--datasets-info:\" data-toc-modified-id=\"--datasets-info:-1.3.0.1\">- <em>datasets info</em>:</a></span></li><li><span><a href=\"#--sample:\" data-toc-modified-id=\"--sample:-1.3.0.2\">- <em>sample</em>:</a></span></li></ul></li></ul></li><li><span><a href=\"#2.-Preprocesado-del-dataset-(normalización,-redimensionado)\" data-toc-modified-id=\"2.-Preprocesado-del-dataset-(normalización,-redimensionado)-1.4\">2. Preprocesado del <em>dataset</em> (normalización, redimensionado)</a></span><ul class=\"toc-item\"><li><span><a href=\"#2.1.-Normalización-y-redimensionado-de-las-imágenes\" data-toc-modified-id=\"2.1.-Normalización-y-redimensionado-de-las-imágenes-1.4.1\">2.1. Normalización y redimensionado de las imágenes</a></span></li><li><span><a href=\"#2.2.-Codificación-one-hot-de-las-etiquetas\" data-toc-modified-id=\"2.2.-Codificación-one-hot-de-las-etiquetas-1.4.2\">2.2. Codificación <em>one-hot</em> de las etiquetas</a></span></li></ul></li><li><span><a href=\"#3.-Creación-del-modelo\" data-toc-modified-id=\"3.-Creación-del-modelo-1.5\">3. Creación del modelo</a></span><ul class=\"toc-item\"><li><span><a href=\"#3.1.-Visualizando-las-neuronas-(pre-training)\" data-toc-modified-id=\"3.1.-Visualizando-las-neuronas-(pre-training)-1.5.1\">3.1. Visualizando las neuronas (pre-training)</a></span></li></ul></li><li><span><a href=\"#4.-Compilación-del-modelo\" data-toc-modified-id=\"4.-Compilación-del-modelo-1.6\">4. Compilación del modelo</a></span></li><li><span><a href=\"#5.-Entrenamiento-del-modelo\" data-toc-modified-id=\"5.-Entrenamiento-del-modelo-1.7\">5. Entrenamiento del modelo</a></span><ul class=\"toc-item\"><li><span><a href=\"#5.1.-Visualizando-las-neuronas-(post-training)\" data-toc-modified-id=\"5.1.-Visualizando-las-neuronas-(post-training)-1.7.1\">5.1. Visualizando las neuronas (post-training)</a></span></li></ul></li><li><span><a href=\"#6.-Evaluación-del-modelo\" data-toc-modified-id=\"6.-Evaluación-del-modelo-1.8\">6. Evaluación del modelo</a></span><ul class=\"toc-item\"><li><span><a href=\"#6.1.-Análisis-de-resultados-(confusion-matrix)\" data-toc-modified-id=\"6.1.-Análisis-de-resultados-(confusion-matrix)-1.8.1\">6.1. Análisis de resultados (<em>confusion matrix</em>)</a></span></li></ul></li><li><span><a href=\"#7.-Haciendo-predicciones\" data-toc-modified-id=\"7.-Haciendo-predicciones-1.9\">7. Haciendo predicciones</a></span></li></ul></li></ul></div>"
   ]
  },
  {
   "cell_type": "markdown",
   "id": "83798084",
   "metadata": {},
   "source": [
    "## Reconocimiento de dígitos (MNIST _dataset_) con Keras/Tensorflow"
   ]
  },
  {
   "cell_type": "markdown",
   "id": "76c38f39",
   "metadata": {},
   "source": [
    "### _dataset_: MNIST _handwritten digit dataset_\n",
    "---"
   ]
  },
  {
   "cell_type": "markdown",
   "id": "760ef44d",
   "metadata": {},
   "source": [
    "Es una colección de imágenes de dígitos escritos a mano usada para el entrenamiento y testeo de sistemas y algoritmos de procesado de imágenes, especialmente en el campo de aprendizaje automático.\n",
    "\n",
    "<br>Consta de **70.000** imágenes (60.000 en el _training dataset_ y 10.000 en el _test dataset_) de **28x28** píxels en **escala de grises** con un valor entre **\\[0, 255]**\n",
    "\n",
    "<br><img src=\"https://upload.wikimedia.org/wikipedia/commons/2/27/MnistExamples.png\" width=\"600\"/>"
   ]
  },
  {
   "cell_type": "markdown",
   "id": "a8851c07",
   "metadata": {},
   "source": [
    "### 0. Importación de librerías\n",
    "---"
   ]
  },
  {
   "cell_type": "code",
   "execution_count": 1,
   "id": "182e9d8f",
   "metadata": {},
   "outputs": [
    {
     "name": "stdout",
     "output_type": "stream",
     "text": [
      "tensorflow version: 2.7.0\n",
      "tensorflow GPU support: yes\n",
      "\t[0] - name: /physical_device:GPU:0\n"
     ]
    }
   ],
   "source": [
    "import numpy as np\n",
    "import random\n",
    "import matplotlib.pyplot as plt\n",
    "import tensorflow as tf\n",
    "\n",
    "# versión de tensorflow\n",
    "print(f\"tensorflow version: {tf.__version__}\")\n",
    "\n",
    "# soporte de GPU\n",
    "gpu_list = tf.config.list_physical_devices('GPU')\n",
    "print(f\"tensorflow GPU support: {'yes' if len(gpu_list) else 'no'}\")\n",
    "for i,gpu in enumerate(gpu_list):\n",
    "    print(f\"\\t[{i}] - name: {gpu[0]}\")"
   ]
  },
  {
   "cell_type": "markdown",
   "id": "0170d6f0",
   "metadata": {},
   "source": [
    "### 1. Precarga del _dataset_ (keras)\n",
    "---"
   ]
  },
  {
   "cell_type": "code",
   "execution_count": 2,
   "id": "7e95fb21",
   "metadata": {},
   "outputs": [],
   "source": [
    "mnist = tf.keras.datasets.mnist\n",
    "\n",
    "# creación de los datasets de entrenamiento y test\n",
    "(x_train, y_train), (x_test, y_test) = mnist.load_data()"
   ]
  },
  {
   "cell_type": "markdown",
   "id": "7ce83512",
   "metadata": {},
   "source": [
    "##### - _datasets info_:"
   ]
  },
  {
   "cell_type": "code",
   "execution_count": 3,
   "id": "55a929dc",
   "metadata": {
    "scrolled": true
   },
   "outputs": [
    {
     "name": "stdout",
     "output_type": "stream",
     "text": [
      "x_train: uint8 (60000, 28, 28)\n",
      "y_train [labels]: uint8 (60000,)\n",
      "x_test: uint8 (10000, 28, 28)\n",
      "y_test [labels]: uint8 (10000,)\n"
     ]
    }
   ],
   "source": [
    "print(f\"x_train: {x_train.dtype} {x_train.shape}\")\n",
    "print(f\"y_train [labels]: {y_train.dtype} {y_train.shape}\")\n",
    "print(f\"x_test: {x_test.dtype} {x_test.shape}\")\n",
    "print(f\"y_test [labels]: {y_test.dtype} {y_test.shape}\")"
   ]
  },
  {
   "cell_type": "markdown",
   "id": "78c6599c",
   "metadata": {},
   "source": [
    "##### - _sample_:"
   ]
  },
  {
   "cell_type": "code",
   "execution_count": 4,
   "id": "bf570750",
   "metadata": {},
   "outputs": [],
   "source": [
    "def show_image(data, label, labels=None):\n",
    "    \"\"\"Muestra la imagen seleccionada del training dataset.\"\"\"\n",
    "    # label\n",
    "    print(f\"Label: {label} {'(' + labels[label] + ')' if labels else ''}\")\n",
    "\n",
    "    # image\n",
    "    print(\"\\nImage:\", end=\"\")\n",
    "    plt.figure(figsize=(3,3))\n",
    "    plt.imshow(data, cmap=plt.cm.binary)\n",
    "    plt.show()\n",
    "    \n",
    "    # data matrix\n",
    "    print(\"\\nData:\")\n",
    "    for i in range(len(data)):\n",
    "        for j in range(len(data[0])):\n",
    "            print(f\"{data[i,j]:^5d}\", end=\" \")\n",
    "        print()"
   ]
  },
  {
   "cell_type": "code",
   "execution_count": 5,
   "id": "4a2f380f",
   "metadata": {
    "scrolled": false
   },
   "outputs": [
    {
     "name": "stdout",
     "output_type": "stream",
     "text": [
      "Label: 5 \n",
      "\n",
      "Image:"
     ]
    },
    {
     "data": {
      "image/png": "[encoded data removed]",
      "text/plain": [
       "<Figure size 216x216 with 1 Axes>"
      ]
     },
     "metadata": {
      "needs_background": "light"
     },
     "output_type": "display_data"
    },
    {
     "name": "stdout",
     "output_type": "stream",
     "text": [
      "\n",
      "Data:\n",
      "  0     0     0     0     0     0     0     0     0     0     0     0     0     0     0     0     0     0     0     0     0     0     0     0     0     0     0     0   \n",
      "  0     0     0     0     0     0     0     0     0     0     0     0     0     0     0     0     0     0     0     0     0     0     0     0     0     0     0     0   \n",
      "  0     0     0     0     0     0     0     0     0     0     0     0     0     0     0     0     0     0     0     0     0     0     0     0     0     0     0     0   \n",
      "  0     0     0     0     0     0     0     0     0     0     0     0     0     0     0     0     0     0     0     0     0     0     0     0     0     0     0     0   \n",
      "  0     0     0     0     0     0     0     0     0     0     0     0     0     0     0     0     0     0     0     0     0     0     0     0     0     0     0     0   \n",
      "  0     0     0     0     0     0     0     0     0     0     0     0     0     0     0     0     0     0     0     0     0     0     0     0     0     0     0     0   \n",
      "  0     0     0     0     0     0     0     0     0     0     0     0     0     0     0    191   255   255   128   64     0     0     0     0     0     0     0     0   \n",
      "  0     0     0     0     0     0     0     0     0     0     0     0     0     0    255   255   255   255   255   255   255   255   255   191   191   255   191    0   \n",
      "  0     0     0     0     0     0     0     0     0     0     0     0    128   255   255   128   128   255   255   255   255   255   255   255   255   255   128    0   \n",
      "  0     0     0     0     0     0     0     0     0     0    64    191   255   255   191    0     0     0    64    128   128   255   191   128   128   64     0     0   \n",
      "  0     0     0     0     0     0     0     0    64    128   255   255   255   128    0     0     0     0     0     0     0     0     0     0     0     0     0     0   \n",
      "  0     0     0     0     0     0     0     0    64    255   255   255   128    0     0     0     0     0     0     0     0     0     0     0     0     0     0     0   \n",
      "  0     0     0     0     0     0     0    64    255   255   255   64     0     0     0     0     0     0     0     0     0     0     0     0     0     0     0     0   \n",
      "  0     0     0     0     0     0     0    191   255   255   64     0     0     0     0     0     0     0     0     0     0     0     0     0     0     0     0     0   \n",
      "  0     0     0     0     0     0     0    191   255   255   64     0     0     0     0     0     0     0     0     0     0     0     0     0     0     0     0     0   \n",
      "  0     0     0     0     0     0     0    64    255   255   255   128    0     0     0     0     0     0     0     0     0     0     0     0     0     0     0     0   \n",
      "  0     0     0     0     0     0     0     0    128   255   255   255   191   64     0     0     0     0     0     0     0     0     0     0     0     0     0     0   \n",
      "  0     0     0     0     0     0     0     0     0    128   255   255   255   191   64     0     0     0     0     0     0     0     0     0     0     0     0     0   \n",
      "  0     0     0     0     0     0     0     0     0     0    128   255   255   255   191   128    0     0     0     0     0     0     0     0     0     0     0     0   \n",
      "  0     0     0     0     0     0     0     0     0     0     0     0    191   255   255   255   64     0     0     0     0     0     0     0     0     0     0     0   \n",
      "  0     0     0     0     0     0     0     0     0     0     0     0     0    255   255   255   64     0     0     0     0     0     0     0     0     0     0     0   \n",
      "  0     0     0     0     0     0     0     0     0     0     0     0     0    128   255   255   128    0     0     0     0     0     0     0     0     0     0     0   \n",
      "  0     0     0     0     0     0     0     0    64     0     0     0    128   255   255   255   128    0     0     0     0     0     0     0     0     0     0     0   \n",
      "  0     0     0     0     0     0     0     0    128   255   255   255   255   255   255   128    0     0     0     0     0     0     0     0     0     0     0     0   \n",
      "  0     0     0     0     0     0     0     0    64    128   255   255   255   191   64     0     0     0     0     0     0     0     0     0     0     0     0     0   \n",
      "  0     0     0     0     0     0     0     0     0     0    64    128   64     0     0     0     0     0     0     0     0     0     0     0     0     0     0     0   \n",
      "  0     0     0     0     0     0     0     0     0     0     0     0     0     0     0     0     0     0     0     0     0     0     0     0     0     0     0     0   \n",
      "  0     0     0     0     0     0     0     0     0     0     0     0     0     0     0     0     0     0     0     0     0     0     0     0     0     0     0     0   \n"
     ]
    }
   ],
   "source": [
    "i = random.randint(0, len(x_train)-1)\n",
    "show_image(x_train[i], y_train[i])"
   ]
  },
  {
   "cell_type": "markdown",
   "id": "c6b5cc3d",
   "metadata": {},
   "source": [
    "### 2. Preprocesado del _dataset_ (normalización, redimensionado)\n",
    "---"
   ]
  },
  {
   "cell_type": "markdown",
   "id": "b8901e55",
   "metadata": {},
   "source": [
    "#### 2.1. Normalización y redimensionado de las imágenes\n",
    "---"
   ]
  },
  {
   "cell_type": "code",
   "execution_count": 6,
   "id": "1a1b466b",
   "metadata": {
    "scrolled": true
   },
   "outputs": [
    {
     "name": "stdout",
     "output_type": "stream",
     "text": [
      "xn_train: float32 (60000, 784)\n",
      "xn_test: float32 (10000, 784)\n"
     ]
    }
   ],
   "source": [
    "# Normalizamos los valores de las imágenes al rango [0, 1]\n",
    "xn_train = x_train.astype('float32')/255\n",
    "xn_test = x_test.astype('float32')/255\n",
    "\n",
    "# Redimensionado (aplanamiento 1D de las imágenes)\n",
    "xn_train = xn_train.reshape(60000, 28*28)\n",
    "xn_test = xn_test.reshape(10000, 28*28)\n",
    "\n",
    "print(f\"xn_train: {xn_train.dtype} {xn_train.shape}\")\n",
    "print(f\"xn_test: {xn_test.dtype} {xn_test.shape}\")"
   ]
  },
  {
   "cell_type": "markdown",
   "id": "4bd553be",
   "metadata": {},
   "source": [
    "#### 2.2. Codificación _one-hot_ de las etiquetas\n",
    "---"
   ]
  },
  {
   "cell_type": "code",
   "execution_count": 7,
   "id": "f3c2bee7",
   "metadata": {},
   "outputs": [
    {
     "name": "stdout",
     "output_type": "stream",
     "text": [
      "yn_train [labels]: uint8 (60000,)\n",
      "yn_test [labels]: uint8 (10000,)\n"
     ]
    }
   ],
   "source": [
    "from tensorflow.keras.utils import to_categorical\n",
    "\n",
    "# one-hot encoding a 10 clases (1 por cada posible dígito)\n",
    "yn_train = to_categorical(y_train, num_classes=10)\n",
    "yn_test = to_categorical(y_test, num_classes=10)\n",
    "\n",
    "print(f\"yn_train [labels]: {y_train.dtype} {y_train.shape}\")\n",
    "print(f\"yn_test [labels]: {y_test.dtype} {y_test.shape}\")"
   ]
  },
  {
   "cell_type": "code",
   "execution_count": 8,
   "id": "a6666ab3",
   "metadata": {},
   "outputs": [
    {
     "name": "stdout",
     "output_type": "stream",
     "text": [
      "label: 3 --> one-hot: [0. 0. 0. 1. 0. 0. 0. 0. 0. 0.]\n"
     ]
    }
   ],
   "source": [
    "# sample\n",
    "i = random.randint(0, len(y_train)-1)\n",
    "print(f\"label: {y_train[i]} --> one-hot: {yn_train[i]}\")"
   ]
  },
  {
   "cell_type": "markdown",
   "id": "fa2365eb",
   "metadata": {},
   "source": [
    "### 3. Creación del modelo\n",
    "---"
   ]
  },
  {
   "cell_type": "markdown",
   "id": "fdc58f75",
   "metadata": {},
   "source": [
    "El modelo **fully-connected** constará de las siguientes capas/neuronas:\n",
    "\n",
    "\n",
    "<br>- **Input Layer:** 784 units\n",
    "\n",
    "<br>- **Hidden Layer:** 10 units (input: 784 output: 10) con activación **sigmoid**\n",
    "\n",
    "<br>- **Output Layer:** 10 units (input: 10, output: 10) con activación **softmax**\n",
    "\n",
    "<br><img src=\"https://torres.ai/wp-content/uploads/2020/05/MNIST-deep-learning-example.png\"/>\n"
   ]
  },
  {
   "cell_type": "code",
   "execution_count": 9,
   "id": "30e57f63",
   "metadata": {},
   "outputs": [
    {
     "name": "stdout",
     "output_type": "stream",
     "text": [
      "Model: \"MNIST_model\"\n",
      "_________________________________________________________________\n",
      " Layer (type)                Output Shape              Param #   \n",
      "=================================================================\n",
      " hidden (Dense)              (None, 10)                7850      \n",
      "                                                                 \n",
      " output (Dense)              (None, 10)                110       \n",
      "                                                                 \n",
      "=================================================================\n",
      "Total params: 7,960\n",
      "Trainable params: 7,960\n",
      "Non-trainable params: 0\n",
      "_________________________________________________________________\n"
     ]
    }
   ],
   "source": [
    "from tensorflow.keras import Sequential\n",
    "from tensorflow.keras.layers import Dense\n",
    "\n",
    "# Modelo\n",
    "model = Sequential(name=\"MNIST_model\")\n",
    "model.add(Dense(10, activation=\"sigmoid\", input_shape=(784,), name=\"hidden\"))\n",
    "model.add(Dense(10, activation=\"softmax\", name=\"output\"))\n",
    "\n",
    "# Descripción del modelo\n",
    "model.summary()"
   ]
  },
  {
   "cell_type": "markdown",
   "id": "6d242c23",
   "metadata": {},
   "source": [
    "#### 3.1. Visualizando las neuronas (pre-training)\n",
    "---"
   ]
  },
  {
   "cell_type": "code",
   "execution_count": 10,
   "id": "5c0f9d3c",
   "metadata": {},
   "outputs": [],
   "source": [
    "def show_neurons(model, layer, units, unit_size, fig_dim, fig_size):\n",
    "    _INPUT_PARAMS = 0\n",
    "\n",
    "    rows, cols = fig_dim\n",
    "    fig,ax = plt.subplots(rows, cols, figsize=fig_size)\n",
    "\n",
    "    for unit in range(units):\n",
    "        layer_input_weights = model.layers[layer].get_weights()[_INPUT_PARAMS]\n",
    "        unit_w = layer_input_weights[:, unit]\n",
    "        ax[unit // cols, unit % cols].imshow(np.reshape(unit_w, (-1,unit_size)), cmap=plt.cm.binary)\n",
    "        ax[unit // cols, unit % cols].set_xlabel(f'neuron-{unit:02}')"
   ]
  },
  {
   "cell_type": "code",
   "execution_count": 11,
   "id": "94924745",
   "metadata": {},
   "outputs": [
    {
     "data": {
      "image/png": "[encoded data removed]",
      "text/plain": [
       "<Figure size 1440x576 with 10 Axes>"
      ]
     },
     "metadata": {
      "needs_background": "light"
     },
     "output_type": "display_data"
    }
   ],
   "source": [
    "show_neurons(model, layer=0, units=10, unit_size=28, fig_dim=(2,5), fig_size=(20,8))"
   ]
  },
  {
   "cell_type": "markdown",
   "id": "f1433b56",
   "metadata": {},
   "source": [
    "### 4. Compilación del modelo\n",
    "---"
   ]
  },
  {
   "cell_type": "markdown",
   "id": "54495aef",
   "metadata": {},
   "source": [
    "Una vez creado el modelo, debemos configurar el proceso de aprendizaje. Es decir, la **función de coste** (_loss function_) que determina el error de la predicción, el **optimizador** que se empleará para la actualización de los parámetros y la **métrica** empleada para monitorizar el proceso de aprendizaje:\n",
    "\n",
    "<br>- **loss**: categorical_crossentropy (clasificador multicapa)\n",
    "\n",
    "<br>- **optimizer**: sgd (Stochastic Gradient Descent)\n",
    "\n",
    "<br>- **metrics**: accuracy (ratio de positivos verdaderos)"
   ]
  },
  {
   "cell_type": "code",
   "execution_count": 12,
   "id": "459fe13d",
   "metadata": {},
   "outputs": [],
   "source": [
    "model.compile(loss='categorical_crossentropy', optimizer='sgd', metrics=['accuracy'])"
   ]
  },
  {
   "cell_type": "markdown",
   "id": "f56b6e34",
   "metadata": {},
   "source": [
    "### 5. Entrenamiento del modelo\n",
    "---"
   ]
  },
  {
   "cell_type": "markdown",
   "id": "c954c7c4",
   "metadata": {},
   "source": [
    "Una vez descrito y compilado el modelo, iniciaremos el entrenamiento mediante el cual la red determinará el valor correspondiente a los diferentes parámetros (**_pesos_**) de entrada de las neuronas. \n",
    "\n",
    "<br>Para ello, le suministraremos los datos de entrenamiento que, al tratarse de **aprendizaje supervisado**, incluirán tanto las imágenes del **_training dataset_** como la lista de etiquetas correspondientes a cada imagen (**_yn\\_train_**).\n",
    "\n",
    "<br>Además, indicaremos el número de **_epochs_** o \"pasadas\" que se harán sobre el conjunto de datos durante el entrenamiento. Básicamente, en cada una de estas iteraciones, se \"pasarán\" las imágenes de entrenamiento por la red, se obtendrá el resultado correspondiente, se comparará con el valor esperado y, en un proceso \"hacia atrás\" (_back propagation_) se calculará el **_loss_** (error) en cada neurona y se ajustarán sus parámetros convenientemente mediante el **_optimizer_** seleccionado de forma que se vaya reduciendo el error en cada iteración."
   ]
  },
  {
   "cell_type": "code",
   "execution_count": 13,
   "id": "c6f1b1d0",
   "metadata": {},
   "outputs": [
    {
     "name": "stdout",
     "output_type": "stream",
     "text": [
      "Epoch 1/10\n",
      "1875/1875 [==============================] - 6s 3ms/step - loss: 1.8680 - accuracy: 0.5167\n",
      "Epoch 2/10\n",
      "1875/1875 [==============================] - 5s 3ms/step - loss: 1.2501 - accuracy: 0.7527\n",
      "Epoch 3/10\n",
      "1875/1875 [==============================] - 5s 3ms/step - loss: 0.9158 - accuracy: 0.8098\n",
      "Epoch 4/10\n",
      "1875/1875 [==============================] - 5s 3ms/step - loss: 0.7401 - accuracy: 0.8385\n",
      "Epoch 5/10\n",
      "1875/1875 [==============================] - 5s 2ms/step - loss: 0.6354 - accuracy: 0.8569\n",
      "Epoch 6/10\n",
      "1875/1875 [==============================] - 5s 2ms/step - loss: 0.5659 - accuracy: 0.8702\n",
      "Epoch 7/10\n",
      "1875/1875 [==============================] - 4s 2ms/step - loss: 0.5167 - accuracy: 0.8789\n",
      "Epoch 8/10\n",
      "1875/1875 [==============================] - 4s 2ms/step - loss: 0.4802 - accuracy: 0.8855\n",
      "Epoch 9/10\n",
      "1875/1875 [==============================] - 5s 3ms/step - loss: 0.4524 - accuracy: 0.8902\n",
      "Epoch 10/10\n",
      "1875/1875 [==============================] - 4s 2ms/step - loss: 0.4304 - accuracy: 0.8936\n"
     ]
    },
    {
     "data": {
      "text/plain": [
       "<keras.callbacks.History at 0x7fd09c116790>"
      ]
     },
     "execution_count": 13,
     "metadata": {},
     "output_type": "execute_result"
    }
   ],
   "source": [
    "model.fit(xn_train, yn_train, epochs=10)"
   ]
  },
  {
   "cell_type": "markdown",
   "id": "d83ac38f",
   "metadata": {},
   "source": [
    "#### 5.1. Visualizando las neuronas (post-training)\n",
    "---"
   ]
  },
  {
   "cell_type": "code",
   "execution_count": null,
   "id": "4a9474e1",
   "metadata": {
    "scrolled": false
   },
   "outputs": [],
   "source": [
    "print(\"Layer-0 (hidden):\")\n",
    "show_neurons(model, layer=0, units=10, unit_size=28, fig_dim=(2,5), fig_size=(20,8))\n",
    "\n",
    "print(\"Layer-1 (output):\")\n",
    "show_neurons(model, layer=1, units=10, unit_size=10, fig_dim=(2,5), fig_size=(25,3))"
   ]
  },
  {
   "cell_type": "markdown",
   "id": "d7a89106",
   "metadata": {},
   "source": [
    "### 6. Evaluación del modelo\n",
    "---"
   ]
  },
  {
   "cell_type": "markdown",
   "id": "fc877f20",
   "metadata": {},
   "source": [
    "Para evaluar el modelo se emplea el _testing dataset_ que se separó inicialmente del _dataset_ original por lo que el modelo no \"vio\" durante el entrenamiento"
   ]
  },
  {
   "cell_type": "code",
   "execution_count": null,
   "id": "6590bb93",
   "metadata": {
    "scrolled": true
   },
   "outputs": [],
   "source": [
    "test_loss, test_acc = model.evaluate(xn_test, yn_test)\n",
    "\n",
    "print(f\"Precisión: {test_acc*100.0:.2f}%\")"
   ]
  },
  {
   "cell_type": "markdown",
   "id": "14073fae",
   "metadata": {},
   "source": [
    "#### 6.1. Análisis de resultados (_confusion matrix_)\n",
    "---"
   ]
  },
  {
   "cell_type": "markdown",
   "id": "0d200b4c",
   "metadata": {},
   "source": [
    "Para un clasificador binario, se establece la matriz de confusión como:\n",
    "\n",
    "<br>\n",
    "\n",
    "| | Actual: YES | Actual: NO |\n",
    "|--- | --- | --- |\n",
    "| **Predicted: YES** | True Positive | False Positive |\n",
    "| **Predicted: NO** | False Negative | True Negative |\n",
    "\n",
    "<br>- **True Positive (TP)**: número de muestras positivas clasificadas **correctamente**\n",
    "\n",
    "<br>- **True Negative (TN)**: número de muestras negativas clasificadas **correctamente**\n",
    "\n",
    "<br>- **False Negative (FN)**: número de muestras positivas clasificadas **incorrectamente** como negativas\n",
    "\n",
    "<br>- **False Positive (TN)**: número de muestras negativas clasificadas **incorrectamente** como positivas\n",
    "\n",
    "<br>A partir de esta matriz, podemos calcular la **precisión** (_accuracy_) como **aciertos/total**:\n",
    "\n",
    "<br>$Precision = \\frac{TP + TN}{TP + FP + TN + FN}$\n",
    "\n",
    "<br>Sin embargo, en determinadas problemas, emplear sólo la precisión no es un buen indicador pues no distinguimos entre errores de falsos positivos y falsos negativos (por ejemplo, clasificación de setas venenosas o tumores cancerígenos). Así, otro indicador denominado **recall**, nos indica cómo de bien nuestro modelo evita los **falsos negativos**\n",
    "\n",
    "<br>$Recall = \\frac{TP}{TP + FN} = \\frac{True Positives}{Total Positives}$"
   ]
  },
  {
   "cell_type": "code",
   "execution_count": null,
   "id": "a29303fc",
   "metadata": {
    "scrolled": true
   },
   "outputs": [],
   "source": [
    "from sklearn.metrics import confusion_matrix, ConfusionMatrixDisplay\n",
    "\n",
    "predictions = model.predict(xn_test)\n",
    "cm = confusion_matrix(y_test, predictions.argmax(axis=1))\n",
    "img = ConfusionMatrixDisplay(confusion_matrix=cm)\n",
    "img.plot()\n",
    "plt.title(\"Confusion Matrix\")\n",
    "plt.show()"
   ]
  },
  {
   "cell_type": "markdown",
   "id": "23cd320a",
   "metadata": {},
   "source": [
    "### 7. Haciendo predicciones\n",
    "---"
   ]
  },
  {
   "cell_type": "markdown",
   "id": "f4cebbfb",
   "metadata": {},
   "source": [
    "Vamos a selecciona aleatoriamente una imagen del conjunto de prueba y ver qué predice el modelo:"
   ]
  },
  {
   "cell_type": "code",
   "execution_count": null,
   "id": "52ea9920",
   "metadata": {},
   "outputs": [],
   "source": [
    "i = random.randint(0, len(x_test)-1)\n",
    "plt.imshow(x_test[i], cmap=plt.cm.binary)\n",
    "plt.show()"
   ]
  },
  {
   "cell_type": "code",
   "execution_count": null,
   "id": "48157002",
   "metadata": {},
   "outputs": [],
   "source": [
    "#prediction = model.predict(np.array([xn_test[i]]))\n",
    "probs = model.predict(np.expand_dims(xn_test[i], axis=0))\n",
    "print(f\"Predicted Label: {np.argmax(probs)}\")\n",
    "print(f\"Actual Label: {y_test[i]}\")\n",
    "print(f\"Confidence:\")\n",
    "for i, p in enumerate(probs[0]):\n",
    "    print(f\"\\t{i}: {p*100:.2f}%\")"
   ]
  }
 ],
 "metadata": {
  "kernelspec": {
   "display_name": "Python 3",
   "language": "python",
   "name": "python3"
  },
  "language_info": {
   "codemirror_mode": {
    "name": "ipython",
    "version": 3
   },
   "file_extension": ".py",
   "mimetype": "text/x-python",
   "name": "python",
   "nbconvert_exporter": "python",
   "pygments_lexer": "ipython3",
   "version": "3.8.10"
  },
  "toc": {
   "base_numbering": 1,
   "nav_menu": {},
   "number_sections": false,
   "sideBar": true,
   "skip_h1_title": false,
   "title_cell": "Table of Contents",
   "title_sidebar": "Contents",
   "toc_cell": true,
   "toc_position": {},
   "toc_section_display": true,
   "toc_window_display": false
  }
 },
 "nbformat": 4,
 "nbformat_minor": 5
}
