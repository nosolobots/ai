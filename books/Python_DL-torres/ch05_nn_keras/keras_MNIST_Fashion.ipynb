{
 "cells": [
  {
   "cell_type": "markdown",
   "id": "88fe5892",
   "metadata": {
    "toc": true
   },
   "source": [
    "<h1>Table of Contents<span class=\"tocSkip\"></span></h1>\n",
    "<div class=\"toc\"><ul class=\"toc-item\"><li><span><a href=\"#Reconocimiento-de-prendas-(Fashion-MNIST-dataset)-con-keras/tensorflow\" data-toc-modified-id=\"Reconocimiento-de-prendas-(Fashion-MNIST-dataset)-con-keras/tensorflow-1\">Reconocimiento de prendas (Fashion MNIST <em>dataset</em>) con keras/tensorflow</a></span><ul class=\"toc-item\"><li><span><a href=\"#dataset:-Fashion-MNIST-dataset\" data-toc-modified-id=\"dataset:-Fashion-MNIST-dataset-1.1\"><em>dataset</em>: Fashion-MNIST <em>dataset</em></a></span></li><li><span><a href=\"#0.-Importación-de-librerías\" data-toc-modified-id=\"0.-Importación-de-librerías-1.2\">0. Importación de librerías</a></span></li><li><span><a href=\"#1.-Precarga-del-dataset-(keras)\" data-toc-modified-id=\"1.-Precarga-del-dataset-(keras)-1.3\">1. Precarga del <em>dataset</em> (keras)</a></span><ul class=\"toc-item\"><li><ul class=\"toc-item\"><li><span><a href=\"#--datasets-info:\" data-toc-modified-id=\"--datasets-info:-1.3.0.1\">- <em>datasets info</em>:</a></span></li><li><span><a href=\"#--sample:\" data-toc-modified-id=\"--sample:-1.3.0.2\">- <em>sample</em>:</a></span></li></ul></li></ul></li><li><span><a href=\"#2.-Preprocesado-del-dataset\" data-toc-modified-id=\"2.-Preprocesado-del-dataset-1.4\">2. Preprocesado del <em>dataset</em></a></span><ul class=\"toc-item\"><li><span><a href=\"#2.1.-Normalización-de-las-imágenes\" data-toc-modified-id=\"2.1.-Normalización-de-las-imágenes-1.4.1\">2.1. Normalización de las imágenes</a></span></li><li><span><a href=\"#2.2.-Condificación-one-hot-de-las-etiquetas\" data-toc-modified-id=\"2.2.-Condificación-one-hot-de-las-etiquetas-1.4.2\">2.2. Condificación <em>one-hot</em> de las etiquetas</a></span></li></ul></li><li><span><a href=\"#3.-Creación-del-modelo\" data-toc-modified-id=\"3.-Creación-del-modelo-1.5\">3. Creación del modelo</a></span></li><li><span><a href=\"#4.-Compilación-del-modelo\" data-toc-modified-id=\"4.-Compilación-del-modelo-1.6\">4. Compilación del modelo</a></span></li><li><span><a href=\"#5.-Entrenamiento-del-modelo\" data-toc-modified-id=\"5.-Entrenamiento-del-modelo-1.7\">5. Entrenamiento del modelo</a></span></li><li><span><a href=\"#6.-Evaluación-del-modelo\" data-toc-modified-id=\"6.-Evaluación-del-modelo-1.8\">6. Evaluación del modelo</a></span><ul class=\"toc-item\"><li><span><a href=\"#6.1.-Confusion-matrix\" data-toc-modified-id=\"6.1.-Confusion-matrix-1.8.1\">6.1. Confusion matrix</a></span></li></ul></li><li><span><a href=\"#7.-Haciendo-predicciones\" data-toc-modified-id=\"7.-Haciendo-predicciones-1.9\">7. Haciendo predicciones</a></span></li><li><span><a href=\"#6.-Evaluación-del-modelo\" data-toc-modified-id=\"6.-Evaluación-del-modelo-1.10\">6. Evaluación del modelo</a></span></li></ul></li></ul></div>"
   ]
  },
  {
   "cell_type": "markdown",
   "id": "0ea1e4fe",
   "metadata": {},
   "source": [
    "## Reconocimiento de prendas (Fashion MNIST _dataset_) con keras/tensorflow"
   ]
  },
  {
   "cell_type": "markdown",
   "id": "9d60707e",
   "metadata": {},
   "source": [
    "### _dataset_: Fashion-MNIST _dataset_\n",
    "---"
   ]
  },
  {
   "cell_type": "markdown",
   "id": "f9e88465",
   "metadata": {},
   "source": [
    "Es una colección de imágenes de prendas de vestir proporcionada por [Zalando Research](https://corporate.zalando.com/en/company/research-zalando) usada para el entrenamiento y testeo de sistemas y algoritmos de procesado de imágenes, especialmente en el campo de aprendizaje automático.\n",
    "\n",
    "<br>Al igual que su laureado y reconocido predecesor (MNIST), **[Fashion-MNIST](https://www.kaggle.com/datasets/zalando-research/fashionmnist)** se compone de imágenes en **escala de grises**, de **28×28** pixeles. En concreto, este _dataset_ está compuesto por **70.000**, repartidas en **10 categorías**, donde **60.000** de ellas son para entrenamiento y las restantes **10.000** para pruebas. Todas las categorías (10) poseen el mismo número de imágenes (7.000), lo que implica que el dataset está **balanceado**.\n",
    "\n",
    "<br>Las 10 categorías son:\n",
    "\n",
    "- 0: T-shirt/top (Camiseta o top)\n",
    "\n",
    "- 1: Trouser/pants (Pantalones)\n",
    "\n",
    "- 2: Pullover shirt (Pullover)\n",
    "\n",
    "- 3: Dress (Vestido)\n",
    "\n",
    "- 4: Coat (Abrigo)\n",
    "\n",
    "- 5: Sandal (Sandalias)\n",
    "\n",
    "- 6: Shirt (Camisa)\n",
    "\n",
    "- 7: Sneaker (Zapatos deportivos)\n",
    "\n",
    "- 8: Bag (Bolso o maleta)\n",
    "\n",
    "- 9: Ankle boot (Botines)\n",
    "\n",
    "<br>En la imagen inferior se observan muestras para cada una de las categorías (cada prenda se halla representada por 3 filas de la foto):\n",
    "\n",
    "<br><img src=\"https://raw.githubusercontent.com/zalandoresearch/fashion-mnist/master/doc/img/fashion-mnist-sprite.png\"/>"
   ]
  },
  {
   "cell_type": "markdown",
   "id": "b2eec4cf",
   "metadata": {},
   "source": [
    "### 0. Importación de librerías\n",
    "---"
   ]
  },
  {
   "cell_type": "code",
   "execution_count": 68,
   "id": "9b970254",
   "metadata": {},
   "outputs": [
    {
     "name": "stdout",
     "output_type": "stream",
     "text": [
      "tensorflow version: 2.7.0\n",
      "tensorflow GPU support: yes\n",
      "\t[0] - name: /physical_device:GPU:0\n"
     ]
    }
   ],
   "source": [
    "import numpy as np\n",
    "import tensorflow as tf\n",
    "import matplotlib.pyplot as plt\n",
    "import random\n",
    "\n",
    "# version de tensorflow\n",
    "print(f\"tensorflow version: {tf.__version__}\")\n",
    "\n",
    "# soporte GPU\n",
    "gpu_list = tf.config.list_physical_devices('GPU')\n",
    "print(f\"tensorflow GPU support: {'yes' if len(gpu_list) else 'no'}\")\n",
    "for i,gpu in enumerate(gpu_list):\n",
    "    print(f\"\\t[{i}] - name: {gpu[0]}\")"
   ]
  },
  {
   "cell_type": "markdown",
   "id": "20ed3f48",
   "metadata": {},
   "source": [
    "### 1. Precarga del _dataset_ (keras)\n",
    "---"
   ]
  },
  {
   "cell_type": "code",
   "execution_count": 69,
   "id": "71e44c09",
   "metadata": {},
   "outputs": [],
   "source": [
    "# creación de los dataset de entrenamiento y test\n",
    "(x_train, y_train), (x_test, y_test) = tf.keras.datasets.fashion_mnist.load_data()\n",
    "\n",
    "# lista de categorías\n",
    "categories = [\"t-shirt/top\", \"trouser\", \"pullover\", \"dress\", \"coat\", \"sandal\", \"shirt\", \"sneaker\", \"bag\", \"ankle boot\"]"
   ]
  },
  {
   "cell_type": "markdown",
   "id": "824c79aa",
   "metadata": {},
   "source": [
    "##### - _datasets info_:"
   ]
  },
  {
   "cell_type": "code",
   "execution_count": 70,
   "id": "d7dd36b8",
   "metadata": {},
   "outputs": [
    {
     "name": "stdout",
     "output_type": "stream",
     "text": [
      "x_train: uint8 (60000, 28, 28)\n",
      "y_train: uint8 (60000,)\n",
      "x_test: uint8 (10000, 28, 28)\n",
      "y_test: uint8 (10000,)\n"
     ]
    }
   ],
   "source": [
    "# datasets info\n",
    "print(f\"x_train: {x_train.dtype} {x_train.shape}\")\n",
    "print(f\"y_train: {y_train.dtype} {y_train.shape}\")\n",
    "print(f\"x_test: {x_test.dtype} {x_test.shape}\")\n",
    "print(f\"y_test: {y_test.dtype} {y_test.shape}\")"
   ]
  },
  {
   "cell_type": "markdown",
   "id": "9b5d3f99",
   "metadata": {},
   "source": [
    "##### - _sample_:"
   ]
  },
  {
   "cell_type": "code",
   "execution_count": 71,
   "id": "6f92df35",
   "metadata": {},
   "outputs": [],
   "source": [
    "def show_image(data, label, labels=None):\n",
    "    \"\"\"Muestra la imagen seleccionada del training dataset.\"\"\"\n",
    "    # label\n",
    "    print(f\"Label: {label} {'(' + labels[label] + ')' if labels else ''}\")\n",
    "\n",
    "    # image\n",
    "    print(\"\\nImage:\", end=\"\")\n",
    "    plt.figure(figsize=(2,2))\n",
    "    plt.imshow(data, cmap=plt.cm.binary)\n",
    "    plt.show()\n",
    "    \n",
    "    # data matrix\n",
    "    print(\"\\nData:\")\n",
    "    for i in range(len(data)):\n",
    "        for j in range(len(data[0])):\n",
    "            print(f\"{data[i,j]:^5d}\", end=\" \")\n",
    "        print()"
   ]
  },
  {
   "cell_type": "code",
   "execution_count": 72,
   "id": "68b81bf8",
   "metadata": {},
   "outputs": [
    {
     "name": "stdout",
     "output_type": "stream",
     "text": [
      "Label: 9 (ankle boot)\n",
      "\n",
      "Image:"
     ]
    },
    {
     "data": {
      "image/png": "[encoded data removed]",
      "text/plain": [
       "<Figure size 144x144 with 1 Axes>"
      ]
     },
     "metadata": {
      "needs_background": "light"
     },
     "output_type": "display_data"
    },
    {
     "name": "stdout",
     "output_type": "stream",
     "text": [
      "\n",
      "Data:\n",
      "  0     0     0     0     0     0     0     0     0     0     0     0     0     0     0     0     0     0     0     0     0     0     0     0     0     0     0     0   \n",
      "  0     0     0     0     0     0     0     0     0     0     0    37    95    97    120   140   48     0     0     0    20    49    71    89    79     0     0     0   \n",
      "  0     0     0     0     0     0     0     0     0     8     0    149   254   235   255   255   255   191   209   201   255   255   229   255   226    0     0     0   \n",
      "  0     0     0     0     0     0     0     0     0     3     0    130   239   219   223   215   255   249   226   168   255   152   91    254   202    0     0     0   \n",
      "  0     0     0     0     0     0     0     0     0     0     0    171   245   233   245   250   187   144   199   193   213   223   206   183   239   42     0     0   \n",
      "  0     0     0     0     0     0     0     0     0     0     0    162   185   171   194   176   150   167   166   160   165   192   139   58    186   114    0     0   \n",
      "  0     0     0     0     0     0     0     0     1     0     0    160   150   157   192   159   167   219   169   177   189   209   155   66    143   218    0     0   \n",
      "  0     0     0     0     0     0     0     0     1     0     0    186   176   159   188   179   171   185   177   190   176   224   139   108   247   255   53     0   \n",
      "  0     0     0     0     0     0     0     0     1     0     0    235   255   243   247   255   156   137   192   231   247   255   255   255   233   236   224    0   \n",
      "  0     0     0     0     0     0     0     0     2     0     0    255   236   221   226   234   255   224   198   179   212   235   229   226   230   230   255   24   \n",
      "  0     0     0     0     0     0     0     0     1     0    12    255   228   233   232   231   231   184   186   145   194   249   232   228   230   229   255   93   \n",
      "  0     0     0     0     0     0     0     0     1     0    95    255   218   239   229   236   240   199   185   171   202   245   230   239   235   222   255   116  \n",
      "  0     0     0     0     0     0     0     0     0     0    196   255   222   234   236   236   236   194   191   177   209   241   233   235   229   221   255   127  \n",
      "  0     0     0     0     0     0     0     1     0     3    255   230   229   229   240   244   231   179   188   169   199   246   233   228   239   228   255   60   \n",
      "  0     0     0     0     0     0     0     0     0    112   255   219   233   231   238   239   234   191   202   177   204   240   234   235   224   217   254   16   \n",
      "  0     0     0     0     0     0     0     0     0    231   240   230   232   235   235   233   233   188   185   154   216   255   229   228   207   216   245    0   \n",
      "  0     0     0     0     4     2     5     0    90    255   221   230   233   237   232   235   239   180   175   191   255   79    98    255   203   230   229    0   \n",
      "  0     0     0     4     6     3     0     0    254   238   224   232   234   231   230   238   233   158   215   182   37     0    111   255   198   221   210    0   \n",
      "  0     2     0     0     0     0     0    218   255   216   226   229   230   233   230   236   229   212   126    0     0     0    129   255   208   226   190    0   \n",
      "  0     0     0    28    79    158   236   255   214   221   226   230   230   232   237   228   255   112    0     0     8     0    110   255   208   228   161    0   \n",
      "  0    113   249   255   255   255   221   212   218   225   229   234   233   236   222   255   221    0     0     0     2     0    105   231   206   230   128    0   \n",
      " 107   255   223   220   208   205   211   220   223   228   232   231   223   233   243   255   36     0     0     0     1     0    100   230   203   235   100    0   \n",
      " 168   248   224   246   238   237   233   230   228   228   229   235   245   233   255   99     0     0     0     0     2     0    92    231   205   229   69     0   \n",
      " 115   192   198   206   223   226   235   245   246   244   246   238   218   225   200    0     0     0     0     0     2     0    86    233   208   227   34     0   \n",
      " 157   238   180   174   169   169   178   190   194   194   195   183   176   245   47     0     9     0     0     0     2     0    82    230   204   224   25     0   \n",
      " 22    180   243   252   243   238   212   211   195   191   189   199   255   139    0     0     0     0     0     0     3     0    82    245   218   232   21     0   \n",
      "  0     0     0    49    132   166   201   219   235   255   239   249   149    0     0     1     2     0     0     0     4     0    40    216   163   185    0     0   \n",
      "  0     2     0     0     0     0     0     0     0    30    23    11     0     0     0     0     0     2     0     0     0     0     0     0     0     0     0     0   \n"
     ]
    }
   ],
   "source": [
    "i = random.randint(0, len(x_train)-1)\n",
    "show_image(x_train[i], y_train[i], categories)"
   ]
  },
  {
   "cell_type": "markdown",
   "id": "b3d31555",
   "metadata": {},
   "source": [
    "### 2. Preprocesado del _dataset_\n",
    "---"
   ]
  },
  {
   "cell_type": "markdown",
   "id": "bc1cadd8",
   "metadata": {},
   "source": [
    "#### 2.1. Normalización de las imágenes\n",
    "---"
   ]
  },
  {
   "cell_type": "code",
   "execution_count": 73,
   "id": "110212cd",
   "metadata": {},
   "outputs": [
    {
     "name": "stdout",
     "output_type": "stream",
     "text": [
      "xn_train: float32 (60000, 28, 28)\n",
      "xn_test: float32 (10000, 28, 28)\n"
     ]
    }
   ],
   "source": [
    "# Normalización de los valores de los píxels de las imágenes al rango [0,1]\n",
    "xn_train = x_train.astype('float32')/255\n",
    "xn_test = x_test.astype('float32')/255\n",
    "\n",
    "print(f\"xn_train: {xn_train.dtype} {xn_train.shape}\")\n",
    "print(f\"xn_test: {xn_test.dtype} {xn_test.shape}\")"
   ]
  },
  {
   "cell_type": "markdown",
   "id": "0da4c7bb",
   "metadata": {},
   "source": [
    "#### 2.2. Condificación _one-hot_ de las etiquetas\n",
    "---"
   ]
  },
  {
   "cell_type": "code",
   "execution_count": 74,
   "id": "be129e08",
   "metadata": {},
   "outputs": [
    {
     "name": "stdout",
     "output_type": "stream",
     "text": [
      "yn_train: float32 (60000, 10)\n",
      "yn_test: float32 (10000, 10)\n"
     ]
    }
   ],
   "source": [
    "from tensorflow.keras.utils import to_categorical\n",
    "\n",
    "# one-hot encodind a 10-clases\n",
    "yn_train = to_categorical(y_train, num_classes=10)\n",
    "yn_test = to_categorical(y_test, num_classes=10)\n",
    "\n",
    "print(f\"yn_train: {yn_train.dtype} {yn_train.shape}\")\n",
    "print(f\"yn_test: {yn_test.dtype} {yn_test.shape}\")"
   ]
  },
  {
   "cell_type": "code",
   "execution_count": 75,
   "id": "74f15b5d",
   "metadata": {},
   "outputs": [
    {
     "name": "stdout",
     "output_type": "stream",
     "text": [
      "label: 8 --> one-hot: [0. 0. 0. 0. 0. 0. 0. 0. 1. 0.]\n"
     ]
    }
   ],
   "source": [
    "#sample\n",
    "i = random.randint(0, len(y_train)-1)\n",
    "print(f\"label: {y_train[i]} --> one-hot: {yn_train[i]}\")"
   ]
  },
  {
   "cell_type": "markdown",
   "id": "f670eace",
   "metadata": {},
   "source": [
    "### 3. Creación del modelo\n",
    "---"
   ]
  },
  {
   "cell_type": "code",
   "execution_count": 76,
   "id": "347f56e9",
   "metadata": {},
   "outputs": [
    {
     "name": "stdout",
     "output_type": "stream",
     "text": [
      "Model: \"mnist_fashion_model\"\n",
      "_________________________________________________________________\n",
      " Layer (type)                Output Shape              Param #   \n",
      "=================================================================\n",
      " input (Flatten)             (None, 784)               0         \n",
      "                                                                 \n",
      " hidden (Dense)              (None, 10)                7850      \n",
      "                                                                 \n",
      " ouput (Dense)               (None, 10)                110       \n",
      "                                                                 \n",
      "=================================================================\n",
      "Total params: 7,960\n",
      "Trainable params: 7,960\n",
      "Non-trainable params: 0\n",
      "_________________________________________________________________\n"
     ]
    }
   ],
   "source": [
    "# model definition\n",
    "model = tf.keras.Sequential(name=\"mnist_fashion_model\")\n",
    "# añadimos una capa para convertir la entrada a un vector-1D (flatten)\n",
    "model.add(tf.keras.layers.Flatten(input_shape=(28,28), name=\"input\"))\n",
    "model.add(tf.keras.layers.Dense(10, activation=\"relu\", name=\"hidden\"))\n",
    "model.add(tf.keras.layers.Dense(10, activation=\"softmax\", name=\"ouput\"))\n",
    "\n",
    "# model description\n",
    "model.summary()"
   ]
  },
  {
   "cell_type": "markdown",
   "id": "968726f7",
   "metadata": {},
   "source": [
    "### 4. Compilación del modelo\n",
    "---"
   ]
  },
  {
   "cell_type": "code",
   "execution_count": 77,
   "id": "bdb9ea37",
   "metadata": {},
   "outputs": [],
   "source": [
    "model.compile(loss=\"categorical_crossentropy\", optimizer=\"adam\", metrics=['accuracy'])"
   ]
  },
  {
   "cell_type": "markdown",
   "id": "7a2c47f0",
   "metadata": {},
   "source": [
    "### 5. Entrenamiento del modelo\n",
    "---"
   ]
  },
  {
   "cell_type": "code",
   "execution_count": 78,
   "id": "de6ff4ea",
   "metadata": {
    "scrolled": true
   },
   "outputs": [
    {
     "name": "stdout",
     "output_type": "stream",
     "text": [
      "Epoch 1/10\n",
      "1875/1875 [==============================] - 6s 3ms/step - loss: 0.7194 - accuracy: 0.7505\n",
      "Epoch 2/10\n",
      "1875/1875 [==============================] - 5s 3ms/step - loss: 0.4716 - accuracy: 0.8368\n",
      "Epoch 3/10\n",
      "1875/1875 [==============================] - 5s 3ms/step - loss: 0.4382 - accuracy: 0.8487\n",
      "Epoch 4/10\n",
      "1875/1875 [==============================] - 5s 3ms/step - loss: 0.4202 - accuracy: 0.8548\n",
      "Epoch 5/10\n",
      "1875/1875 [==============================] - 5s 3ms/step - loss: 0.4075 - accuracy: 0.8587\n",
      "Epoch 6/10\n",
      "1875/1875 [==============================] - 5s 3ms/step - loss: 0.3978 - accuracy: 0.8619\n",
      "Epoch 7/10\n",
      "1875/1875 [==============================] - 5s 3ms/step - loss: 0.3906 - accuracy: 0.8645\n",
      "Epoch 8/10\n",
      "1875/1875 [==============================] - 5s 3ms/step - loss: 0.3855 - accuracy: 0.8659\n",
      "Epoch 9/10\n",
      "1875/1875 [==============================] - 5s 3ms/step - loss: 0.3813 - accuracy: 0.8663\n",
      "Epoch 10/10\n",
      "1875/1875 [==============================] - 5s 3ms/step - loss: 0.3766 - accuracy: 0.8673\n"
     ]
    },
    {
     "data": {
      "text/plain": [
       "<keras.callbacks.History at 0x7f92082f0d60>"
      ]
     },
     "execution_count": 78,
     "metadata": {},
     "output_type": "execute_result"
    }
   ],
   "source": [
    "model.fit(xn_train, yn_train, epochs=10)"
   ]
  },
  {
   "cell_type": "markdown",
   "id": "770304a8",
   "metadata": {},
   "source": [
    "### 6. Evaluación del modelo\n",
    "---"
   ]
  },
  {
   "cell_type": "code",
   "execution_count": 79,
   "id": "f0d75982",
   "metadata": {},
   "outputs": [
    {
     "name": "stdout",
     "output_type": "stream",
     "text": [
      "313/313 [==============================] - 1s 2ms/step - loss: 0.4267 - accuracy: 0.8504\n",
      "Precision: 85.04%\n"
     ]
    }
   ],
   "source": [
    "loss, acc = model.evaluate(xn_test, yn_test)\n",
    "\n",
    "print(f\"Precision: {acc*100.0:.2f}%\")"
   ]
  },
  {
   "cell_type": "markdown",
   "id": "cce6bb16",
   "metadata": {},
   "source": [
    "#### 6.1. Confusion matrix\n",
    "---"
   ]
  },
  {
   "cell_type": "code",
   "execution_count": 80,
   "id": "4fad6638",
   "metadata": {},
   "outputs": [
    {
     "data": {
      "image/png": "[encoded data removed]",
      "text/plain": [
       "<Figure size 432x288 with 2 Axes>"
      ]
     },
     "metadata": {
      "needs_background": "light"
     },
     "output_type": "display_data"
    }
   ],
   "source": [
    "from sklearn.metrics import confusion_matrix, ConfusionMatrixDisplay\n",
    "\n",
    "predictions = model.predict(xn_test)\n",
    "cm = confusion_matrix(y_test, predictions.argmax(axis=1))\n",
    "img = ConfusionMatrixDisplay(confusion_matrix=cm)\n",
    "img.plot()\n",
    "plt.title(\"Confusion Matrix\")\n",
    "plt.show()"
   ]
  },
  {
   "cell_type": "markdown",
   "id": "abdca757",
   "metadata": {},
   "source": [
    "### 7. Haciendo predicciones\n",
    "---"
   ]
  },
  {
   "cell_type": "code",
   "execution_count": 81,
   "id": "c9501fa2",
   "metadata": {},
   "outputs": [
    {
     "data": {
      "image/png": "[encoded data removed]",
      "text/plain": [
       "<Figure size 144x144 with 1 Axes>"
      ]
     },
     "metadata": {
      "needs_background": "light"
     },
     "output_type": "display_data"
    }
   ],
   "source": [
    "i = random.randint(0, len(xn_test))\n",
    "\n",
    "plt.figure(figsize = (2,2))\n",
    "plt.imshow(xn_test[i], cmap=plt.cm.binary)\n",
    "plt.show()"
   ]
  },
  {
   "cell_type": "code",
   "execution_count": 82,
   "id": "1ce6ddd0",
   "metadata": {},
   "outputs": [
    {
     "name": "stdout",
     "output_type": "stream",
     "text": [
      "Predicted Label: 9 (ankle boot)\n",
      "Actual Label: 9 (ankle boot)\n",
      "Confidence:\n",
      "\t0 (t-shirt/top): 0.00%\n",
      "\t1 (trouser    ): 0.00%\n",
      "\t2 (pullover   ): 0.00%\n",
      "\t3 (dress      ): 0.00%\n",
      "\t4 (coat       ): 0.00%\n",
      "\t5 (sandal     ): 0.13%\n",
      "\t6 (shirt      ): 0.00%\n",
      "\t7 (sneaker    ): 0.22%\n",
      "\t8 (bag        ): 0.00%\n",
      "\t9 (ankle boot ): 99.65%\n"
     ]
    }
   ],
   "source": [
    "probs = model.predict(np.array([xn_test[i]]))\n",
    "predicted_label = np.argmax(probs)\n",
    "actual_label = y_test[i]\n",
    "print(f\"Predicted Label: {predicted_label} ({categories[predicted_label]})\")\n",
    "print(f\"Actual Label: {actual_label} ({categories[actual_label]})\")\n",
    "print(f\"Confidence:\")\n",
    "for i, p in enumerate(probs[0]):\n",
    "    print(f\"\\t{i} ({categories[i]:11}): {p*100:.2f}%\")"
   ]
  }
 ],
 "metadata": {
  "kernelspec": {
   "display_name": "Python 3",
   "language": "python",
   "name": "python3"
  },
  "language_info": {
   "codemirror_mode": {
    "name": "ipython",
    "version": 3
   },
   "file_extension": ".py",
   "mimetype": "text/x-python",
   "name": "python",
   "nbconvert_exporter": "python",
   "pygments_lexer": "ipython3",
   "version": "3.8.10"
  },
  "toc": {
   "base_numbering": 1,
   "nav_menu": {},
   "number_sections": false,
   "sideBar": true,
   "skip_h1_title": false,
   "title_cell": "Table of Contents",
   "title_sidebar": "Contents",
   "toc_cell": true,
   "toc_position": {},
   "toc_section_display": true,
   "toc_window_display": false
  }
 },
 "nbformat": 4,
 "nbformat_minor": 5
}
