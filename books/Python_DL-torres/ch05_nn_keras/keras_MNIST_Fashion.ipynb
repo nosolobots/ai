{
 "cells": [
  {
   "cell_type": "markdown",
   "id": "88fe5892",
   "metadata": {
    "toc": true
   },
   "source": [
    "<h1>Table of Contents<span class=\"tocSkip\"></span></h1>\n",
    "<div class=\"toc\"><ul class=\"toc-item\"><li><span><a href=\"#Reconocimiento-de-prendas-(Fashion-MNIST-dataset)-con-keras/tensorflow\" data-toc-modified-id=\"Reconocimiento-de-prendas-(Fashion-MNIST-dataset)-con-keras/tensorflow-1\">Reconocimiento de prendas (Fashion MNIST <em>dataset</em>) con keras/tensorflow</a></span><ul class=\"toc-item\"><li><span><a href=\"#dataset:-Fashion-MNIST-dataset\" data-toc-modified-id=\"dataset:-Fashion-MNIST-dataset-1.1\"><em>dataset</em>: Fashion-MNIST <em>dataset</em></a></span></li><li><span><a href=\"#0.-Importación-de-librerías\" data-toc-modified-id=\"0.-Importación-de-librerías-1.2\">0. Importación de librerías</a></span></li><li><span><a href=\"#1.-Precarga-del-dataset-(keras)\" data-toc-modified-id=\"1.-Precarga-del-dataset-(keras)-1.3\">1. Precarga del <em>dataset</em> (keras)</a></span><ul class=\"toc-item\"><li><ul class=\"toc-item\"><li><span><a href=\"#--datasets-info:\" data-toc-modified-id=\"--datasets-info:-1.3.0.1\">- <em>datasets info</em>:</a></span></li><li><span><a href=\"#--sample:\" data-toc-modified-id=\"--sample:-1.3.0.2\">- <em>sample</em>:</a></span></li></ul></li></ul></li><li><span><a href=\"#2.-Preprocesado-del-dataset\" data-toc-modified-id=\"2.-Preprocesado-del-dataset-1.4\">2. Preprocesado del <em>dataset</em></a></span><ul class=\"toc-item\"><li><span><a href=\"#2.1.-Normalización-de-las-imágenes\" data-toc-modified-id=\"2.1.-Normalización-de-las-imágenes-1.4.1\">2.1. Normalización de las imágenes</a></span></li><li><span><a href=\"#2.2.-Codificación-one-hot-de-las-etiquetas\" data-toc-modified-id=\"2.2.-Codificación-one-hot-de-las-etiquetas-1.4.2\">2.2. Codificación <em>one-hot</em> de las etiquetas</a></span></li></ul></li><li><span><a href=\"#3.-Creación-del-modelo\" data-toc-modified-id=\"3.-Creación-del-modelo-1.5\">3. Creación del modelo</a></span></li><li><span><a href=\"#4.-Compilación-del-modelo\" data-toc-modified-id=\"4.-Compilación-del-modelo-1.6\">4. Compilación del modelo</a></span></li><li><span><a href=\"#5.-Entrenamiento-del-modelo\" data-toc-modified-id=\"5.-Entrenamiento-del-modelo-1.7\">5. Entrenamiento del modelo</a></span></li><li><span><a href=\"#6.-Evaluación-del-modelo\" data-toc-modified-id=\"6.-Evaluación-del-modelo-1.8\">6. Evaluación del modelo</a></span><ul class=\"toc-item\"><li><span><a href=\"#6.1.-Confusion-matrix\" data-toc-modified-id=\"6.1.-Confusion-matrix-1.8.1\">6.1. Confusion matrix</a></span></li></ul></li><li><span><a href=\"#7.-Haciendo-predicciones\" data-toc-modified-id=\"7.-Haciendo-predicciones-1.9\">7. Haciendo predicciones</a></span></li></ul></li></ul></div>"
   ]
  },
  {
   "cell_type": "markdown",
   "id": "0ea1e4fe",
   "metadata": {},
   "source": [
    "## Reconocimiento de prendas (Fashion MNIST _dataset_) con keras/tensorflow"
   ]
  },
  {
   "cell_type": "markdown",
   "id": "9d60707e",
   "metadata": {},
   "source": [
    "### _dataset_: Fashion-MNIST _dataset_\n",
    "---"
   ]
  },
  {
   "cell_type": "markdown",
   "id": "f9e88465",
   "metadata": {},
   "source": [
    "Es una colección de imágenes de prendas de vestir proporcionada por [Zalando Research](https://corporate.zalando.com/en/company/research-zalando) usada para el entrenamiento y testeo de sistemas y algoritmos de procesado de imágenes, especialmente en el campo de aprendizaje automático.\n",
    "\n",
    "<br>Al igual que su laureado y reconocido predecesor (MNIST), **[Fashion-MNIST](https://www.kaggle.com/datasets/zalando-research/fashionmnist)** se compone de imágenes en **escala de grises**, de **28×28** pixeles. En concreto, este _dataset_ está compuesto por **70.000**, repartidas en **10 categorías**, donde **60.000** de ellas son para entrenamiento y las restantes **10.000** para pruebas. Todas las categorías (10) poseen el mismo número de imágenes (7.000), lo que implica que el dataset está **balanceado**.\n",
    "\n",
    "<br>Las 10 categorías son:\n",
    "\n",
    "- 0: T-shirt/top (Camiseta o top)\n",
    "\n",
    "- 1: Trouser/pants (Pantalones)\n",
    "\n",
    "- 2: Pullover shirt (Pullover)\n",
    "\n",
    "- 3: Dress (Vestido)\n",
    "\n",
    "- 4: Coat (Abrigo)\n",
    "\n",
    "- 5: Sandal (Sandalias)\n",
    "\n",
    "- 6: Shirt (Camisa)\n",
    "\n",
    "- 7: Sneaker (Zapatos deportivos)\n",
    "\n",
    "- 8: Bag (Bolso o maleta)\n",
    "\n",
    "- 9: Ankle boot (Botines)\n",
    "\n",
    "<br>En la imagen inferior se observan muestras para cada una de las categorías (cada prenda se halla representada por 3 filas de la foto):\n",
    "\n",
    "<br><img src=\"https://raw.githubusercontent.com/zalandoresearch/fashion-mnist/master/doc/img/fashion-mnist-sprite.png\"/>"
   ]
  },
  {
   "cell_type": "markdown",
   "id": "b2eec4cf",
   "metadata": {},
   "source": [
    "### 0. Importación de librerías\n",
    "---"
   ]
  },
  {
   "cell_type": "code",
   "execution_count": 1,
   "id": "9b970254",
   "metadata": {},
   "outputs": [
    {
     "name": "stdout",
     "output_type": "stream",
     "text": [
      "tensorflow version: 2.7.0\n",
      "tensorflow GPU support: yes\n",
      "\t[0] - name: /physical_device:GPU:0\n"
     ]
    }
   ],
   "source": [
    "import numpy as np\n",
    "import tensorflow as tf\n",
    "import matplotlib.pyplot as plt\n",
    "import random\n",
    "\n",
    "# version de tensorflow\n",
    "print(f\"tensorflow version: {tf.__version__}\")\n",
    "\n",
    "# soporte GPU\n",
    "gpu_list = tf.config.list_physical_devices('GPU')\n",
    "print(f\"tensorflow GPU support: {'yes' if len(gpu_list) else 'no'}\")\n",
    "for i,gpu in enumerate(gpu_list):\n",
    "    print(f\"\\t[{i}] - name: {gpu[0]}\")"
   ]
  },
  {
   "cell_type": "markdown",
   "id": "20ed3f48",
   "metadata": {},
   "source": [
    "### 1. Precarga del _dataset_ (keras)\n",
    "---"
   ]
  },
  {
   "cell_type": "code",
   "execution_count": 12,
   "id": "71e44c09",
   "metadata": {},
   "outputs": [],
   "source": [
    "# creación de los dataset de entrenamiento y test\n",
    "(x_train, y_train), (x_test, y_test) = tf.keras.datasets.fashion_mnist.load_data()\n",
    "\n",
    "# lista de categorías\n",
    "categories = [\"t-shirt/top\", \"trouser\", \"pullover\", \"dress\", \"coat\", \"sandal\", \"shirt\", \"sneaker\", \"bag\", \"ankle boot\"]"
   ]
  },
  {
   "cell_type": "markdown",
   "id": "824c79aa",
   "metadata": {},
   "source": [
    "##### - _datasets info_:"
   ]
  },
  {
   "cell_type": "code",
   "execution_count": 3,
   "id": "d7dd36b8",
   "metadata": {},
   "outputs": [
    {
     "name": "stdout",
     "output_type": "stream",
     "text": [
      "x_train: uint8 (60000, 28, 28)\n",
      "y_train: uint8 (60000,)\n",
      "x_test: uint8 (10000, 28, 28)\n",
      "y_test: uint8 (10000,)\n"
     ]
    }
   ],
   "source": [
    "# datasets info\n",
    "print(f\"x_train: {x_train.dtype} {x_train.shape}\")\n",
    "print(f\"y_train: {y_train.dtype} {y_train.shape}\")\n",
    "print(f\"x_test: {x_test.dtype} {x_test.shape}\")\n",
    "print(f\"y_test: {y_test.dtype} {y_test.shape}\")"
   ]
  },
  {
   "cell_type": "markdown",
   "id": "9b5d3f99",
   "metadata": {},
   "source": [
    "##### - _sample_:"
   ]
  },
  {
   "cell_type": "code",
   "execution_count": 4,
   "id": "6f92df35",
   "metadata": {},
   "outputs": [],
   "source": [
    "def show_image(data, label, labels=None):\n",
    "    \"\"\"Muestra la imagen seleccionada del training dataset.\"\"\"\n",
    "    # label\n",
    "    print(f\"Label: {label} {'(' + labels[label] + ')' if labels else ''}\")\n",
    "\n",
    "    # image\n",
    "    print(\"\\nImage:\", end=\"\")\n",
    "    plt.figure(figsize=(2,2))\n",
    "    plt.imshow(data, cmap=plt.cm.binary)\n",
    "    plt.show()\n",
    "    \n",
    "    # data matrix\n",
    "    print(\"\\nData:\")\n",
    "    for i in range(len(data)):\n",
    "        for j in range(len(data[0])):\n",
    "            print(f\"{data[i,j]:^5d}\", end=\" \")\n",
    "        print()"
   ]
  },
  {
   "cell_type": "code",
   "execution_count": 5,
   "id": "68b81bf8",
   "metadata": {},
   "outputs": [
    {
     "name": "stdout",
     "output_type": "stream",
     "text": [
      "Label: 3 (dress)\n",
      "\n",
      "Image:"
     ]
    },
    {
     "data": {
      "image/png": "[encoded data removed]",
      "text/plain": [
       "<Figure size 144x144 with 1 Axes>"
      ]
     },
     "metadata": {
      "needs_background": "light"
     },
     "output_type": "display_data"
    },
    {
     "name": "stdout",
     "output_type": "stream",
     "text": [
      "\n",
      "Data:\n",
      "  0     0     0     0     0     0     0    188   227   211   210   201   194   192   190   187   194   207   212   223   142    0     0     0     0     0     0     0   \n",
      "  0     0     0     0     0     0     0    206   236   231   230   231   233   239   237   235   237   238   233   245   228    0     0     0     0     0     0     0   \n",
      "  0     0     0     0     0     0     4    226   232   233   220   222   226   227   225   222   224   230   236   237   218    0     0     0     0     0     0     0   \n",
      "  0     0     0     0     0     0    25    248   234   233   238   230   235   232   237   233   233   238   224   242   243   17     0     0     0     0     0     0   \n",
      "  0     0     0     0     0     0     3    143   215   205   235   231   235   233   238   236   240   239   190   238   245   62     0     0     0     0     0     0   \n",
      "  0     0     0     0     0     0    51    107   188   156   250   231   236   233   238   232   235   251   187   200   192   80     0     0     0     0     0     0   \n",
      "  0     0     0     0     0     0    84    167   207   150   223   239   229   229   239   231   240   235   134   210   189   75     0     0     0     0     0     0   \n",
      "  0     0     0     0     0     0    121   192   230   216   226   241   227   230   237   229   236   231   248   226   234   128    0     0     0     0     0     0   \n",
      "  0     0     0     0     0     0    129   40    87    107   250   240   232   239   246   234   242   245   110   69    192   66     0     0     0     0     0     0   \n",
      "  0     0     0     0     0     0     0     0     0     0    255   228   234   238   233   226   234   255    0     0     0     0     0     0     0     0     0     0   \n",
      "  0     0     0     0     0     0     0     0     0    163   245   228   234   225   233   235   229   251   126    0     0     0     0     0     0     0     0     0   \n",
      "  0     0     0     0     0     0     1     0     0    207   236   230   238   238   236   234   232   242   234    0     0     0     0     0     0     0     0     0   \n",
      "  0     0     0     0     0     0     5     0    27    238   226   228   238   242   241   236   233   234   223    0     0     2     0     0     0     0     0     0   \n",
      "  0     0     0     0     0     0     4     0    44    246   225   229   236   240   237   233   233   234   234    5     0     4     0     0     0     0     0     0   \n",
      "  0     0     0     0     0     0     4     0    68    245   230   242   233   239   239   231   236   236   239   20     0     5     0     0     0     0     0     0   \n",
      "  0     0     0     0     0     0     4     0    77    247   225   237   237   237   236   237   235   232   247   31     0     3     0     0     0     0     0     0   \n",
      "  0     0     0     0     0     0     3     0    75    251   230   233   236   237   234   239   236   232   243   23     0     3     0     0     0     0     0     0   \n",
      "  0     0     0     0     0     0     3     0    55    250   232   235   237   237   235   238   236   235   235    7     0     2     0     0     0     0     0     0   \n",
      "  0     0     0     0     0     0     3     0    34    242   231   235   234   230   227   231   235   235   235   10     0     4     0     0     0     0     0     0   \n",
      "  0     0     0     0     0     0     4     0    16    241   237   246   243   248   255   241   238   245   241   12     0     4     0     0     0     0     0     0   \n",
      "  0     0     0     0     0     0     3     0     8    185   226   186   190   235   153   197   227   185   206   26     0     5     0     0     0     0     0     0   \n",
      "  0     0     0     0     0     0     3     0     5    197   131   79    106   130   118   167   125   78    176   38     0     4     0     0     0     0     0     0   \n",
      "  0     0     0     0     0     0     3     0     8    213   64    181   168   104   120   148   153   124   148   35     0     4     0     0     0     0     0     0   \n",
      "  0     0     0     0     0     0     2     0    13    149   106   158   181   102   50    171   163   125   164   27     0     4     0     0     0     0     0     0   \n",
      "  0     0     0     0     0     0     2     0     7    187   115   157   153   147   134   141   165   140   191   21     0     4     0     0     0     0     0     0   \n",
      "  0     0     0     0     0     0     2     0     0    168   126   179   183   178   149   164   180   124   195   31     0     5     0     0     0     0     0     0   \n",
      "  0     0     0     0     0     0     3     0     0    215   147   180   213   211   216   199   199   172   221   46     0     6     0     0     0     0     0     0   \n",
      "  0     0     0     0     0     0     2     0     0    156   62    88    112   51    49    35    197   94    112   45     0     5     0     0     0     0     0     0   \n"
     ]
    }
   ],
   "source": [
    "i = random.randint(0, len(x_train)-1)\n",
    "show_image(x_train[i], y_train[i], categories)"
   ]
  },
  {
   "cell_type": "markdown",
   "id": "b3d31555",
   "metadata": {},
   "source": [
    "### 2. Preprocesado del _dataset_\n",
    "---"
   ]
  },
  {
   "cell_type": "markdown",
   "id": "bc1cadd8",
   "metadata": {},
   "source": [
    "#### 2.1. Normalización de las imágenes\n",
    "---"
   ]
  },
  {
   "cell_type": "code",
   "execution_count": 19,
   "id": "110212cd",
   "metadata": {},
   "outputs": [
    {
     "name": "stdout",
     "output_type": "stream",
     "text": [
      "xn_train: float32 (60000, 28, 28)\n",
      "xn_test: float32 (10000, 28, 28)\n"
     ]
    }
   ],
   "source": [
    "# Normalización de los valores de los píxels de las imágenes al rango [0,1] (no se realiza aplanamiento 1D)\n",
    "xn_train = x_train.astype('float32')/255\n",
    "xn_test = x_test.astype('float32')/255\n",
    "\n",
    "print(f\"xn_train: {xn_train.dtype} {xn_train.shape}\")\n",
    "print(f\"xn_test: {xn_test.dtype} {xn_test.shape}\")"
   ]
  },
  {
   "cell_type": "markdown",
   "id": "0da4c7bb",
   "metadata": {},
   "source": [
    "#### 2.2. Codificación _one-hot_ de las etiquetas\n",
    "---\n",
    "En este caso, no emplearemos codificación _one-hot_, por lo que no es necesario realizar ningún tipo de transformación sobre las etiquetas.\n",
    "\n",
    "<br>Como función de pérdida, deberemos usar **_sparse\\_categorical\\_crossentropy_**"
   ]
  },
  {
   "cell_type": "markdown",
   "id": "f670eace",
   "metadata": {},
   "source": [
    "### 3. Creación del modelo\n",
    "---"
   ]
  },
  {
   "cell_type": "code",
   "execution_count": 20,
   "id": "347f56e9",
   "metadata": {},
   "outputs": [
    {
     "name": "stdout",
     "output_type": "stream",
     "text": [
      "Model: \"mnist_fashion_model\"\n",
      "_________________________________________________________________\n",
      " Layer (type)                Output Shape              Param #   \n",
      "=================================================================\n",
      " input (Flatten)             (None, 784)               0         \n",
      "                                                                 \n",
      " hidden (Dense)              (None, 10)                7850      \n",
      "                                                                 \n",
      " ouput (Dense)               (None, 10)                110       \n",
      "                                                                 \n",
      "=================================================================\n",
      "Total params: 7,960\n",
      "Trainable params: 7,960\n",
      "Non-trainable params: 0\n",
      "_________________________________________________________________\n"
     ]
    }
   ],
   "source": [
    "# model definition\n",
    "model = tf.keras.Sequential(name=\"mnist_fashion_model\")\n",
    "# añadimos una capa para convertir la entrada a un vector-1D (flatten)\n",
    "model.add(tf.keras.layers.Flatten(input_shape=(28,28), name=\"input\"))\n",
    "model.add(tf.keras.layers.Dense(10, activation=\"relu\", name=\"hidden\"))\n",
    "model.add(tf.keras.layers.Dense(10, activation=\"softmax\", name=\"ouput\"))\n",
    "\n",
    "# model description\n",
    "model.summary()"
   ]
  },
  {
   "cell_type": "markdown",
   "id": "968726f7",
   "metadata": {},
   "source": [
    "### 4. Compilación del modelo\n",
    "---"
   ]
  },
  {
   "cell_type": "code",
   "execution_count": 21,
   "id": "bdb9ea37",
   "metadata": {},
   "outputs": [],
   "source": [
    "model.compile(loss=\"sparse_categorical_crossentropy\", optimizer=\"adam\", metrics=['accuracy'])"
   ]
  },
  {
   "cell_type": "markdown",
   "id": "7a2c47f0",
   "metadata": {},
   "source": [
    "### 5. Entrenamiento del modelo\n",
    "---"
   ]
  },
  {
   "cell_type": "code",
   "execution_count": 22,
   "id": "de6ff4ea",
   "metadata": {
    "scrolled": true
   },
   "outputs": [
    {
     "name": "stdout",
     "output_type": "stream",
     "text": [
      "Epoch 1/10\n",
      "1875/1875 [==============================] - 5s 3ms/step - loss: 0.6813 - accuracy: 0.7756\n",
      "Epoch 2/10\n",
      "1875/1875 [==============================] - 5s 3ms/step - loss: 0.4993 - accuracy: 0.8281\n",
      "Epoch 3/10\n",
      "1875/1875 [==============================] - 5s 3ms/step - loss: 0.4664 - accuracy: 0.8389\n",
      "Epoch 4/10\n",
      "1875/1875 [==============================] - 5s 3ms/step - loss: 0.4532 - accuracy: 0.8439\n",
      "Epoch 5/10\n",
      "1875/1875 [==============================] - 5s 3ms/step - loss: 0.4391 - accuracy: 0.8470\n",
      "Epoch 6/10\n",
      "1875/1875 [==============================] - 5s 3ms/step - loss: 0.4333 - accuracy: 0.8500\n",
      "Epoch 7/10\n",
      "1875/1875 [==============================] - 5s 3ms/step - loss: 0.4260 - accuracy: 0.8515\n",
      "Epoch 8/10\n",
      "1875/1875 [==============================] - 5s 3ms/step - loss: 0.4202 - accuracy: 0.8538\n",
      "Epoch 9/10\n",
      "1875/1875 [==============================] - 5s 3ms/step - loss: 0.4146 - accuracy: 0.8551\n",
      "Epoch 10/10\n",
      "1875/1875 [==============================] - 5s 3ms/step - loss: 0.4122 - accuracy: 0.8567\n"
     ]
    },
    {
     "data": {
      "text/plain": [
       "<keras.callbacks.History at 0x7fcf89f8fb50>"
      ]
     },
     "execution_count": 22,
     "metadata": {},
     "output_type": "execute_result"
    }
   ],
   "source": [
    "model.fit(xn_train, y_train, epochs=10)"
   ]
  },
  {
   "cell_type": "markdown",
   "id": "770304a8",
   "metadata": {},
   "source": [
    "### 6. Evaluación del modelo\n",
    "---"
   ]
  },
  {
   "cell_type": "code",
   "execution_count": 23,
   "id": "f0d75982",
   "metadata": {},
   "outputs": [
    {
     "name": "stdout",
     "output_type": "stream",
     "text": [
      "313/313 [==============================] - 1s 2ms/step - loss: 0.4724 - accuracy: 0.8353\n",
      "Precision: 83.53%\n"
     ]
    }
   ],
   "source": [
    "loss, acc = model.evaluate(xn_test, y_test)\n",
    "\n",
    "print(f\"Precision: {acc*100.0:.2f}%\")"
   ]
  },
  {
   "cell_type": "markdown",
   "id": "cce6bb16",
   "metadata": {},
   "source": [
    "#### 6.1. Confusion matrix\n",
    "---"
   ]
  },
  {
   "cell_type": "code",
   "execution_count": 24,
   "id": "4fad6638",
   "metadata": {},
   "outputs": [
    {
     "data": {
      "image/png": "[encoded data removed]",
      "text/plain": [
       "<Figure size 432x288 with 2 Axes>"
      ]
     },
     "metadata": {
      "needs_background": "light"
     },
     "output_type": "display_data"
    }
   ],
   "source": [
    "from sklearn.metrics import confusion_matrix, ConfusionMatrixDisplay\n",
    "\n",
    "predictions = model.predict(xn_test)\n",
    "cm = confusion_matrix(y_test, predictions.argmax(axis=1))\n",
    "img = ConfusionMatrixDisplay(confusion_matrix=cm)\n",
    "img.plot()\n",
    "plt.title(\"Confusion Matrix\")\n",
    "plt.show()"
   ]
  },
  {
   "cell_type": "markdown",
   "id": "abdca757",
   "metadata": {},
   "source": [
    "### 7. Haciendo predicciones\n",
    "---"
   ]
  },
  {
   "cell_type": "code",
   "execution_count": 25,
   "id": "c9501fa2",
   "metadata": {},
   "outputs": [
    {
     "data": {
      "image/png": "[encoded data removed]",
      "text/plain": [
       "<Figure size 144x144 with 1 Axes>"
      ]
     },
     "metadata": {
      "needs_background": "light"
     },
     "output_type": "display_data"
    }
   ],
   "source": [
    "i = random.randint(0, len(xn_test))\n",
    "\n",
    "plt.figure(figsize = (2,2))\n",
    "plt.imshow(xn_test[i], cmap=plt.cm.binary)\n",
    "plt.show()"
   ]
  },
  {
   "cell_type": "code",
   "execution_count": 26,
   "id": "1ce6ddd0",
   "metadata": {},
   "outputs": [
    {
     "name": "stdout",
     "output_type": "stream",
     "text": [
      "Predicted Label: 5 (sandal)\n",
      "Actual Label: 5 (sandal)\n",
      "Confidence:\n",
      "\t0 (t-shirt/top): 0.00%\n",
      "\t1 (trouser    ): 0.00%\n",
      "\t2 (pullover   ): 0.01%\n",
      "\t3 (dress      ): 0.00%\n",
      "\t4 (coat       ): 0.00%\n",
      "\t5 (sandal     ): 61.44%\n",
      "\t6 (shirt      ): 0.02%\n",
      "\t7 (sneaker    ): 36.15%\n",
      "\t8 (bag        ): 2.03%\n",
      "\t9 (ankle boot ): 0.35%\n"
     ]
    }
   ],
   "source": [
    "probs = model.predict(np.array([xn_test[i]]))\n",
    "predicted_label = np.argmax(probs)\n",
    "actual_label = y_test[i]\n",
    "print(f\"Predicted Label: {predicted_label} ({categories[predicted_label]})\")\n",
    "print(f\"Actual Label: {actual_label} ({categories[actual_label]})\")\n",
    "print(f\"Confidence:\")\n",
    "for i, p in enumerate(probs[0]):\n",
    "    print(f\"\\t{i} ({categories[i]:11}): {p*100:.2f}%\")"
   ]
  }
 ],
 "metadata": {
  "kernelspec": {
   "display_name": "Python 3",
   "language": "python",
   "name": "python3"
  },
  "language_info": {
   "codemirror_mode": {
    "name": "ipython",
    "version": 3
   },
   "file_extension": ".py",
   "mimetype": "text/x-python",
   "name": "python",
   "nbconvert_exporter": "python",
   "pygments_lexer": "ipython3",
   "version": "3.8.10"
  },
  "toc": {
   "base_numbering": 1,
   "nav_menu": {},
   "number_sections": false,
   "sideBar": true,
   "skip_h1_title": false,
   "title_cell": "Table of Contents",
   "title_sidebar": "Contents",
   "toc_cell": true,
   "toc_position": {},
   "toc_section_display": true,
   "toc_window_display": false
  }
 },
 "nbformat": 4,
 "nbformat_minor": 5
}
