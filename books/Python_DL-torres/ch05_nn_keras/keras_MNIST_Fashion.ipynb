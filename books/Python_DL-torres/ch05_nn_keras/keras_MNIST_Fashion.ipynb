{
 "cells": [
  {
   "cell_type": "markdown",
   "id": "88fe5892",
   "metadata": {
    "toc": true
   },
   "source": [
    "<h1>Table of Contents<span class=\"tocSkip\"></span></h1>\n",
    "<div class=\"toc\"><ul class=\"toc-item\"><li><span><a href=\"#Reconocimiento-de-prendas-(Fashion-MNIST-dataset)-con-keras/tensorflow\" data-toc-modified-id=\"Reconocimiento-de-prendas-(Fashion-MNIST-dataset)-con-keras/tensorflow-1\">Reconocimiento de prendas (Fashion MNIST <em>dataset</em>) con keras/tensorflow</a></span><ul class=\"toc-item\"><li><span><a href=\"#dataset:-Fashion-MNIST-dataset\" data-toc-modified-id=\"dataset:-Fashion-MNIST-dataset-1.1\"><em>dataset</em>: Fashion-MNIST <em>dataset</em></a></span></li><li><span><a href=\"#0.-Importación-de-librerías\" data-toc-modified-id=\"0.-Importación-de-librerías-1.2\">0. Importación de librerías</a></span></li><li><span><a href=\"#1.-Precarga-del-dataset-(keras)\" data-toc-modified-id=\"1.-Precarga-del-dataset-(keras)-1.3\">1. Precarga del <em>dataset</em> (keras)</a></span><ul class=\"toc-item\"><li><ul class=\"toc-item\"><li><span><a href=\"#--datasets-info:\" data-toc-modified-id=\"--datasets-info:-1.3.0.1\">- <em>datasets info</em>:</a></span></li><li><span><a href=\"#--sample:\" data-toc-modified-id=\"--sample:-1.3.0.2\">- <em>sample</em>:</a></span></li></ul></li></ul></li><li><span><a href=\"#2.-Preprocesado-del-dataset\" data-toc-modified-id=\"2.-Preprocesado-del-dataset-1.4\">2. Preprocesado del <em>dataset</em></a></span><ul class=\"toc-item\"><li><span><a href=\"#2.1.-Normalización-de-las-imágenes\" data-toc-modified-id=\"2.1.-Normalización-de-las-imágenes-1.4.1\">2.1. Normalización de las imágenes</a></span></li><li><span><a href=\"#2.2.-Condificación-one-hot-de-las-etiquetas\" data-toc-modified-id=\"2.2.-Condificación-one-hot-de-las-etiquetas-1.4.2\">2.2. Condificación <em>one-hot</em> de las etiquetas</a></span></li></ul></li></ul></li></ul></div>"
   ]
  },
  {
   "cell_type": "markdown",
   "id": "0ea1e4fe",
   "metadata": {},
   "source": [
    "## Reconocimiento de prendas (Fashion MNIST _dataset_) con keras/tensorflow"
   ]
  },
  {
   "cell_type": "markdown",
   "id": "9d60707e",
   "metadata": {},
   "source": [
    "### _dataset_: Fashion-MNIST _dataset_\n",
    "---"
   ]
  },
  {
   "cell_type": "markdown",
   "id": "f9e88465",
   "metadata": {},
   "source": [
    "Es una colección de imágenes de prendas de vestir proporcionada por [Zalando Research](https://corporate.zalando.com/en/company/research-zalando) usada para el entrenamiento y testeo de sistemas y algoritmos de procesado de imágenes, especialmente en el campo de aprendizaje automático.\n",
    "\n",
    "<br>Al igual que su laureado y reconocido predecesor (MNIST), **[Fashion-MNIST](https://www.kaggle.com/datasets/zalando-research/fashionmnist)** se compone de imágenes en **escala de grises**, de **28×28** pixeles. En concreto, este _dataset_ está compuesto por **70.000**, repartidas en **10 categorías**, donde **60.000** de ellas son para entrenamiento y las restantes **10.000** para pruebas. Todas las categorías (10) poseen el mismo número de imágenes (7.000), lo que implica que el dataset está **balanceado**.\n",
    "\n",
    "<br>Las 10 categorías son:\n",
    "\n",
    "- 0: T-shirt/top (Camiseta o top)\n",
    "\n",
    "- 1: Trouser/pants (Pantalones)\n",
    "\n",
    "- 2: Pullover shirt (Pullover)\n",
    "\n",
    "- 3: Dress (Vestido)\n",
    "\n",
    "- 4: Coat (Abrigo)\n",
    "\n",
    "- 5: Sandal (Sandalias)\n",
    "\n",
    "- 6: Shirt (Camisa)\n",
    "\n",
    "- 7: Sneaker (Zapatos deportivos)\n",
    "\n",
    "- 8: Bag (Bolso o maleta)\n",
    "\n",
    "- 9: Ankle boot (Botines)\n",
    "\n",
    "<br>En la imagen inferior se observan muestras para cada una de las categorías (cada prenda se halla representada por 3 filas de la foto):\n",
    "\n",
    "<br><img src=\"https://raw.githubusercontent.com/zalandoresearch/fashion-mnist/master/doc/img/fashion-mnist-sprite.png\"/>"
   ]
  },
  {
   "cell_type": "markdown",
   "id": "b2eec4cf",
   "metadata": {},
   "source": [
    "### 0. Importación de librerías\n",
    "---"
   ]
  },
  {
   "cell_type": "code",
   "execution_count": 16,
   "id": "9b970254",
   "metadata": {},
   "outputs": [
    {
     "name": "stdout",
     "output_type": "stream",
     "text": [
      "tensorflow version: 2.7.0\n",
      "tensorflow GPU support: yes\n",
      "\t[0] - name: /physical_device:GPU:0\n"
     ]
    }
   ],
   "source": [
    "import numpy as np\n",
    "import tensorflow as tf\n",
    "import matplotlib.pyplot as plt\n",
    "import random\n",
    "\n",
    "# version de tensorflow\n",
    "print(f\"tensorflow version: {tf.__version__}\")\n",
    "\n",
    "# soporte GPU\n",
    "gpu_list = tf.config.list_physical_devices('GPU')\n",
    "print(f\"tensorflow GPU support: {'yes' if len(gpu_list) else 'no'}\")\n",
    "for i,gpu in enumerate(gpu_list):\n",
    "    print(f\"\\t[{i}] - name: {gpu[0]}\")"
   ]
  },
  {
   "cell_type": "markdown",
   "id": "20ed3f48",
   "metadata": {},
   "source": [
    "### 1. Precarga del _dataset_ (keras)\n",
    "---"
   ]
  },
  {
   "cell_type": "code",
   "execution_count": 38,
   "id": "71e44c09",
   "metadata": {},
   "outputs": [],
   "source": [
    "# creación de los dataset de entrenamiento y test\n",
    "(x_train, y_train), (x_test, y_test) = tf.keras.datasets.fashion_mnist.load_data()\n",
    "\n",
    "# lista de categorías\n",
    "categories = [\"t-shirt/top\", \"trouser\", \"pullover\", \"dress\", \"coat\", \"sandal\", \"shirt\", \"sneaker\", \"bag\", \"ankle boot\"]"
   ]
  },
  {
   "cell_type": "markdown",
   "id": "824c79aa",
   "metadata": {},
   "source": [
    "##### - _datasets info_:"
   ]
  },
  {
   "cell_type": "code",
   "execution_count": 39,
   "id": "d7dd36b8",
   "metadata": {},
   "outputs": [
    {
     "name": "stdout",
     "output_type": "stream",
     "text": [
      "x_train: uint8 (60000, 28, 28)\n",
      "y_train: uint8 (60000,)\n",
      "x_test: uint8 (10000, 28, 28)\n",
      "y_test: uint8 (10000,)\n"
     ]
    }
   ],
   "source": [
    "# datasets info\n",
    "print(f\"x_train: {x_train.dtype} {x_train.shape}\")\n",
    "print(f\"y_train: {y_train.dtype} {y_train.shape}\")\n",
    "print(f\"x_test: {x_test.dtype} {x_test.shape}\")\n",
    "print(f\"y_test: {y_test.dtype} {y_test.shape}\")"
   ]
  },
  {
   "cell_type": "markdown",
   "id": "9b5d3f99",
   "metadata": {},
   "source": [
    "##### - _sample_:"
   ]
  },
  {
   "cell_type": "code",
   "execution_count": 42,
   "id": "6f92df35",
   "metadata": {},
   "outputs": [],
   "source": [
    "def show_image(data, label, labels=None):\n",
    "    \"\"\"Muestra la imagen seleccionada del training dataset.\"\"\"\n",
    "    # label\n",
    "    print(f\"Label: {label} {'(' + labels[label] + ')' if labels else ''}\")\n",
    "\n",
    "    # data matrix\n",
    "    print(\"\\nData:\")\n",
    "    for i in range(len(data)):\n",
    "        for j in range(len(data[0])):\n",
    "            print(f\"{data[i,j]:^5d}\", end=\" \")\n",
    "        print()\n",
    "\n",
    "    # image\n",
    "    print(\"\\nImage:\", end=\"\")\n",
    "    plt.imshow(data, cmap=plt.cm.binary)"
   ]
  },
  {
   "cell_type": "code",
   "execution_count": 43,
   "id": "68b81bf8",
   "metadata": {},
   "outputs": [
    {
     "name": "stdout",
     "output_type": "stream",
     "text": [
      "Label: 8 (bag)\n",
      "\n",
      "Data:\n",
      "  0     0     0     0     0     0     0     0     0     1     0     0    67    111   102    0     0     2     0     0     0     0     0     0     0     0     0     0   \n",
      "  0     0     0     0     0     0     0     0     0     0     0    97    71     0    78    116    8     0     2     0     0     0     0     0     0     0     0     0   \n",
      "  0     0     0     0     0     0     0     0     4     0    58    80     0     0     0    25    117    0     0     0     0     0     0     0     0     0     0     0   \n",
      "  0     0     0     0     0     0     0     0     0     0    114    0     0     4     6     0    83    37     0     4     1     0     0     0     0     0     0     0   \n",
      "  0     0     0     0     0     0     0     1     0     9    71     0     2     0     1     0    16    78     0     2     0     0     0     0     0     0     0     0   \n",
      "  0     0     0     0     0     0     0     4     0    45    66     0     4     0     0     0     0    97     0     0     1     0     0     0     0     0     0     0   \n",
      "  0     0     0     0     0     0     0     4     0    67    41     0     2     0     0     1     0    79     6     0     1     0     0     0     0     0     0     0   \n",
      "  0     0     0     0     0     0     0     4     0    90    29     0     4     0     0     4     0    71    36     0     2     0     0     0     0     0     0     0   \n",
      "  0     0     0     0     0     0     0     4     0    74    20     0     1     0     0     4     0    58    40     0     2     0     0     0     0     0     0     0   \n",
      "  0     0     0     0     0     0     1     2     0    103   35     0     2     0     0     1     0    87    71     0     2     0     0     0     0     0     0     0   \n",
      "  0     0     0     1     1     2     2     0     0    118   74     0     2     2     2     0     0    62    106    0     2     2     2     2     0     0     0     0   \n",
      "  0     0     0     0     0     0     0     0    68    99    103    0     0     0     0     0     0    78    83    28     0     0     0     0     0     0     0     0   \n",
      "  0     0     0     0    26     0     0     0    82    82    124   80    58    45    44    36    24    113   113   103   39    26    12     1     0     0     0     0   \n",
      "  0     0     0    37    107   79    70    51    74    101   117   80    78    60    64    64    56    75    83    124   76    58    72    79    87     0     0     0   \n",
      "  0     0     0    102   196   171   163   82    67    62    58    47    64    49    48    53    51    62    68    58    48    106   134   151   116    0     0     0   \n",
      "  0     0     0    121   126    6    43    75    97    126   91    67    68    78    70    62    58    80    99    76    70    136   94    105   82     0     0     0   \n",
      "  0     0     0    153   55    101   70    114   79    87    53    59    58    45    58    64    58    67    91    106   121   70    58    76    132    0     0     0   \n",
      "  0     0     0    32    110   199   106   155   90    195   174   136   136   151   145   147   151   174   136   95    144   105   134   25     0     0     0     0   \n",
      "  0     0     0    109   83    143   109   121   106   144   70    97    93    71    80    80    66    59    51    134   121   102   155   47     0     0     0     0   \n",
      "  0     0     0    76    74    140   86    87    140   120   78    86    95    103   117   110   97    98    78    132   148   111   124   44     0     0     0     0   \n",
      "  0     0     0     0    110   172   175   179   121   103   85    110   107   101   109   98    99    113   99    133   143   125   113   37     0     0     0     0   \n",
      "  0     0     0     0    71    196   144   72    114   125   134   129   144   134   138   122   120   111   107   118   148   124   122   36     0     0     0     0   \n",
      "  0     0     0     0    71    137   68    114   156   106   113   147   151   132   126   118   141   111   126   120   140   129   130   21     0     0     0     0   \n",
      "  0     0     0     0     0    138   147   110   130   128   137   148   147   126   148   148   134   128   125   128   132   136   121    0     0     0     0     0   \n",
      "  0     0     0     0     5    175   159   187   228   245   217   211   198   167   152   134   137   132   125   128   132   137   134    5     0     0     0     0   \n",
      "  0     0     0     0     0    129   126   159   190   229   255   250   228   152   107   141   125   121   116   103   98    103   95    13     0     0     0     0   \n",
      "  0     0     0     0     4    141   126   129   106   94    105   113   126   128    0     0     0     0     0     0     0     0     0     0     0     0     0     0   \n",
      "  0     0     0     0     0     0     8    56    110   124   134   143   126   80     0     0     0     0     0     0     0     0     5     1     0     0     0     0   \n",
      "\n",
      "Image:"
     ]
    },
    {
     "data": {
      "image/png": "[encoded data removed]",
      "text/plain": [
       "<Figure size 432x288 with 1 Axes>"
      ]
     },
     "metadata": {
      "needs_background": "light"
     },
     "output_type": "display_data"
    }
   ],
   "source": [
    "i = random.randint(0, len(x_train)-1)\n",
    "show_image(x_train[i], y_train[i], categories)"
   ]
  },
  {
   "cell_type": "markdown",
   "id": "b3d31555",
   "metadata": {},
   "source": [
    "### 2. Preprocesado del _dataset_\n",
    "---"
   ]
  },
  {
   "cell_type": "markdown",
   "id": "bc1cadd8",
   "metadata": {},
   "source": [
    "#### 2.1. Normalización de las imágenes\n",
    "---"
   ]
  },
  {
   "cell_type": "code",
   "execution_count": 45,
   "id": "110212cd",
   "metadata": {},
   "outputs": [
    {
     "name": "stdout",
     "output_type": "stream",
     "text": [
      "xn_train: float32 (60000, 28, 28)\n",
      "xn_test: float32 (10000, 28, 28)\n"
     ]
    }
   ],
   "source": [
    "# Normalización de los valores de los píxels de las imágenes al rango [0,1]\n",
    "xn_train = x_train.astype('float32')/255\n",
    "xn_test = x_test.astype('float32')/255\n",
    "\n",
    "print(f\"xn_train: {xn_train.dtype} {xn_train.shape}\")\n",
    "print(f\"xn_test: {xn_test.dtype} {xn_test.shape}\")"
   ]
  },
  {
   "cell_type": "markdown",
   "id": "0da4c7bb",
   "metadata": {},
   "source": [
    "#### 2.2. Condificación _one-hot_ de las etiquetas\n",
    "---"
   ]
  },
  {
   "cell_type": "code",
   "execution_count": 46,
   "id": "be129e08",
   "metadata": {},
   "outputs": [
    {
     "name": "stdout",
     "output_type": "stream",
     "text": [
      "yn_train: float32 (60000, 10)\n",
      "yn_test: float32 (10000, 10)\n"
     ]
    }
   ],
   "source": [
    "from tensorflow.keras.utils import to_categorical\n",
    "\n",
    "# one-hot encodind a 10-clases\n",
    "yn_train = to_categorical(y_train, num_classes=10)\n",
    "yn_test = to_categorical(y_test, num_classes=10)\n",
    "\n",
    "print(f\"yn_train: {yn_train.dtype} {yn_train.shape}\")\n",
    "print(f\"yn_test: {yn_test.dtype} {yn_test.shape}\")"
   ]
  },
  {
   "cell_type": "code",
   "execution_count": 48,
   "id": "74f15b5d",
   "metadata": {},
   "outputs": [
    {
     "name": "stdout",
     "output_type": "stream",
     "text": [
      "label: 4 --> one-hot: [0. 0. 0. 0. 1. 0. 0. 0. 0. 0.]\n"
     ]
    }
   ],
   "source": [
    "#sample\n",
    "i = random.randint(0, len(y_train)-1)\n",
    "print(f\"label: {y_train[i]} --> one-hot: {yn_train[i]}\")"
   ]
  }
 ],
 "metadata": {
  "kernelspec": {
   "display_name": "Python 3",
   "language": "python",
   "name": "python3"
  },
  "language_info": {
   "codemirror_mode": {
    "name": "ipython",
    "version": 3
   },
   "file_extension": ".py",
   "mimetype": "text/x-python",
   "name": "python",
   "nbconvert_exporter": "python",
   "pygments_lexer": "ipython3",
   "version": "3.8.10"
  },
  "toc": {
   "base_numbering": 1,
   "nav_menu": {},
   "number_sections": false,
   "sideBar": true,
   "skip_h1_title": false,
   "title_cell": "Table of Contents",
   "title_sidebar": "Contents",
   "toc_cell": true,
   "toc_position": {},
   "toc_section_display": true,
   "toc_window_display": false
  }
 },
 "nbformat": 4,
 "nbformat_minor": 5
}
