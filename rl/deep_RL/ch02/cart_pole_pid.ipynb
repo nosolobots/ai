{
 "cells": [
  {
   "cell_type": "markdown",
   "metadata": {},
   "source": [
    "## PID control\n",
    "---"
   ]
  },
  {
   "cell_type": "markdown",
   "metadata": {},
   "source": [
    "Para monitorizar la ejecución del agente y generar un vídeo de la misma, descomentar la creación del **Monitor** (sus parámetros son: entorno a monitorizar, carpeta destino, sobreescribir destino si existe)"
   ]
  },
  {
   "cell_type": "code",
   "execution_count": 2,
   "metadata": {},
   "outputs": [
    {
     "name": "stdout",
     "output_type": "stream",
     "text": [
      "Episode done in 500 steps, total reward 500.00 \n"
     ]
    }
   ],
   "source": [
    "import gym\n",
    "import time\n",
    "\n",
    "_MAX_EPISODES = 1000\n",
    "_KP = 1.0\n",
    "_KD = 1.7\n",
    "_KI = 0.25\n",
    "\n",
    "env = gym.make('CartPole-v1')\n",
    "env = gym.wrappers.Monitor(env, \"recording_pid\", force=True)\n",
    "\n",
    "env._max_episode_steps = _MAX_EPISODES\n",
    "\n",
    "total_reward = 0\n",
    "total_steps = 0\n",
    "\n",
    "obs = env.reset()\n",
    "env.render()\n",
    "\n",
    "action = 0\n",
    "\n",
    "tic = time.perf_counter()\n",
    "err_acum = 0\n",
    "\n",
    "last_error = 0\n",
    "while True:\n",
    "    error = 0 - 0.1*obs[0] - obs[2]\n",
    "    new_tic = time.perf_counter()\n",
    "    err_acum += error*(new_tic - tic)\n",
    "    tic = new_tic\n",
    "    next_action = _KP*error + _KD*(error - last_error) + _KI*err_acum\n",
    "    last_error = error\n",
    "\n",
    "    if next_action < 0:\n",
    "        action = 1\n",
    "    else:\n",
    "        action = 0\n",
    "\n",
    "    obs, reward, done, _ = env.step(action)\n",
    "    total_reward += reward\n",
    "    total_steps += 1\n",
    "\n",
    "    env.render()\n",
    "\n",
    "    if done:\n",
    "        break\n",
    "\n",
    "print(f'Episode done in {total_steps} steps, total reward {total_reward:.2f} ')\n",
    "\n",
    "env.close()"
   ]
  }
 ],
 "metadata": {
  "kernelspec": {
   "display_name": "Python 3",
   "language": "python",
   "name": "python3"
  },
  "language_info": {
   "codemirror_mode": {
    "name": "ipython",
    "version": 3
   },
   "file_extension": ".py",
   "mimetype": "text/x-python",
   "name": "python",
   "nbconvert_exporter": "python",
   "pygments_lexer": "ipython3",
   "version": "3.6.9"
  }
 },
 "nbformat": 4,
 "nbformat_minor": 4
}
