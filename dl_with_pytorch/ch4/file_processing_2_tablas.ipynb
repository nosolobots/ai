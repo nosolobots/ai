{
 "cells": [
  {
   "cell_type": "markdown",
   "metadata": {},
   "source": [
    "## Procesado de Ficheros II\n",
    "---\n"
   ]
  },
  {
   "cell_type": "markdown",
   "metadata": {},
   "source": [
    "### 2. Tablas\n",
    "---\n",
    "Las formatos más simples de datos que nos encontraremos consistirán en hojas de cálculo, archivos CSV o bases de datos. \n",
    "\n",
    "Los datos estarán dispuestos en tablas donde cada columna contiene una pieza de información y cada registro o fila se corresponde con una muestra (_sample_) del _dataset_.\n",
    "\n",
    "Las columnas pueden contener tanto datos numéricos como texto. Sin embargo, los tensores de PyTorch sólo pueden contener valores numéricos, por lo que será necesaria cierta conversión."
   ]
  },
  {
   "cell_type": "markdown",
   "metadata": {},
   "source": [
    "#### 2.1 Usando datos reales\n",
    "---\n",
    "Para nuestro ejemplo, vamos a usar un _dataset_ con información acerca de la composición química de una serie de muestras de _vinho verde_ del norte de Portugal.\n",
    "\n",
    "El fichero contiene una colección de muestras, organizadas en 12 columnas. Las 11 primeras columnas contienen medidas relacionadas con la composición química de la muestra, y la última columna una calificación del vino desde 0 (muy malo) a 10 (excelente).\n",
    "\n",
    "Las 12 columnas son las siguientes:\n",
    "\n",
    "- fixed acidity\n",
    "- volatile acidity\n",
    "- citric acid\n",
    "- residual sugar\n",
    "- chlorides\n",
    "- free sulfur dioxide\n",
    "- total sulfur dioxide\n",
    "- density\n",
    "- pH\n",
    "- sulphates\n",
    "- alcohol\n",
    "- quality\n",
    "\n",
    "Una posible aplicación de ML sería la de predecir la calidad del vino a partir de su caracterización química.\n",
    "\n",
    "<br>\n",
    "\n",
    "![](data/image-lect/wine_predict.png)\n",
    "\n",
    "<br>\n"
   ]
  },
  {
   "cell_type": "markdown",
   "metadata": {},
   "source": [
    "#### 2.2 Cargando los datos\n",
    "---\n",
    "Antes de que podamos procesar los datos con PyTorch es necesario que los carguemos de alguna manera. En Python tenemos las siguientes opciones:\n",
    "\n",
    "- El módulo _csv_ de Python\n",
    "- Pandas\n",
    "- NumPy\n",
    "\n",
    "Habitualmente emplearemos Pandas para realizar este trabajo. Sin embargo, debido a la magnífica interoperabilidad de PyTorch y NumPy, vamos a emplear éste último (en este caso).\n"
   ]
  },
  {
   "cell_type": "code",
   "execution_count": 39,
   "metadata": {},
   "outputs": [
    {
     "data": {
      "text/plain": [
       "array([[ 7.  ,  0.27,  0.36, ...,  0.45,  8.8 ,  6.  ],\n",
       "       [ 6.3 ,  0.3 ,  0.34, ...,  0.49,  9.5 ,  6.  ],\n",
       "       [ 8.1 ,  0.28,  0.4 , ...,  0.44, 10.1 ,  6.  ],\n",
       "       ...,\n",
       "       [ 6.5 ,  0.24,  0.19, ...,  0.46,  9.4 ,  6.  ],\n",
       "       [ 5.5 ,  0.29,  0.3 , ...,  0.38, 12.8 ,  7.  ],\n",
       "       [ 6.  ,  0.21,  0.38, ...,  0.32, 11.8 ,  6.  ]], dtype=float32)"
      ]
     },
     "execution_count": 39,
     "metadata": {},
     "output_type": "execute_result"
    }
   ],
   "source": [
    "import csv\n",
    "import numpy as np\n",
    "\n",
    "wine_path = \"data/tabular/winequality-white.csv\"\n",
    "\n",
    "# Leemos el archivo usando ; como delimitador y omitiendo la fila de encabezados (skiprows)\n",
    "wineq_numpy = np.loadtxt(wine_path, dtype=np.float32, delimiter=\";\", skiprows=1)\n",
    "\n",
    "# column names\n",
    "col_list = next(csv.reader(open(wine_path), delimiter=';'))\n",
    "\n",
    "wineq_numpy"
   ]
  },
  {
   "cell_type": "markdown",
   "metadata": {},
   "source": [
    "Ahora podemos convertir el array de NumPy en un tensor de PyTorch"
   ]
  },
  {
   "cell_type": "code",
   "execution_count": 5,
   "metadata": {},
   "outputs": [
    {
     "data": {
      "text/plain": [
       "(torch.Size([4898, 12]), torch.float32)"
      ]
     },
     "execution_count": 5,
     "metadata": {},
     "output_type": "execute_result"
    }
   ],
   "source": [
    "import torch\n",
    "\n",
    "wineq = torch.from_numpy(wineq_numpy)\n",
    "\n",
    "wineq.shape, wineq.dtype"
   ]
  },
  {
   "cell_type": "markdown",
   "metadata": {},
   "source": [
    "### 2.3 Tipos de valores\n",
    "---\n",
    "A la hora de procesar los datos, debemos tener en cuenta cuál es su naturaleza y escala de medida, es decir, si son valores **continuos**, **ordinales** o **nominales** (categóricos).\n",
    "\n",
    "Los valores **continuos** están ordenados y la diferencia (separación) entre ello es significativa. Por ejemplo, si decimos que el paquete A es 2kg más pesado que el paquete B, la diferencia tiene un significado fijo, con independencia de que A pese 5 ó 500 kg. En general, los valores que tengan asociado una unidad, son continuos.\n",
    "\n",
    "Los valores **ordinales** están ordenados pero no existen relaciones fijas entre ellos. Por ejemplo, si hacemos una clasificación de tamaños XS, S, M, L, XL, a la que le asignamos los valores de 1 a 5, sabemos que algo de tamaño 3 (M) es más grande que algo de tamaño 1 (XS), pero no \"cuánto\". Es importante recordar que no podemos **\"operar matemáticamente\"** con estos valores. Son simples clasificaciones de orden. En nuestro ejemplo, tratar de calcular la media de los tamaños no tendría ningún sentido.\n",
    "\n",
    "Por último, los valores **categóricos** (discretos o nominales) ni presentan ordenación ni tienen significado numérico. Por ejemplo, la asignación de los valores 1 al _agua_, 2 al _café_, 3 a la _leche_ y 4 a un _refresco_ no aporta ninguna información de tipo numérico (orden o valor)"
   ]
  },
  {
   "cell_type": "markdown",
   "metadata": {},
   "source": [
    "#### 2.3.1 Representando la puntuación\n",
    "---\n",
    "En nuestro caso, podemos tratar la puntuación (_quality_) del vino como un valor continuo y realizar la predicción mediante un proceso de **regresión lineal**, o tratarla como un valor nominal (_label_) y realizar la predicción mediante una **regresión logística o clasificación**.\n",
    "\n",
    "Tanto en un caso como en otro, eliminaremos la columna de la puntuación del _dataset_ de entrada y la mantendremos en un tensor aparte."
   ]
  },
  {
   "cell_type": "code",
   "execution_count": 7,
   "metadata": {},
   "outputs": [
    {
     "name": "stdout",
     "output_type": "stream",
     "text": [
      "input data: torch.Size([4898, 11])\n",
      "target: torch.Size([4898])\n"
     ]
    }
   ],
   "source": [
    "data = wineq[:, :-1]\n",
    "print(\"input data:\", data.shape)\n",
    "\n",
    "target = wineq[:, -1]\n",
    "print(\"target:\", target.shape)"
   ]
  },
  {
   "cell_type": "markdown",
   "metadata": {},
   "source": [
    "Si quisiéramos transformar nuestro tensor _target_ en un tensor de _etiquetas_ (para hacer una regresión logística) tenemos dos opciones:\n",
    "\n",
    "La más simple es convertir sus valores a un valor entero (podríamos hacer lo mismo si fueran eqtiquetas de texto):\n"
   ]
  },
  {
   "cell_type": "code",
   "execution_count": 8,
   "metadata": {},
   "outputs": [
    {
     "data": {
      "text/plain": [
       "tensor([6, 6, 6,  ..., 6, 7, 6])"
      ]
     },
     "execution_count": 8,
     "metadata": {},
     "output_type": "execute_result"
    }
   ],
   "source": [
    "target = wineq[:, -1].long()\n",
    "target"
   ]
  },
  {
   "cell_type": "markdown",
   "metadata": {},
   "source": [
    "#### 2.3.2 One-hot encoding\n",
    "---\n",
    "La otra opción es contruir una _codificación one-hot_ de las puntuaciones. Consiste en construir, por cada puntuación, un vector binario con tantos elementos como puntuaciones posibles (en nuestro caso 11, de 0 a 10) incializados a 0 salvo para la columna de la puntuación correspondiente, que estará a 1. \n",
    "\n",
    "Por ejemplo, una puntuación de **5** se correspondería con el vector: \\[0,0,0,0,0,**1**,0,0,0,0,0\\]\n",
    "\n",
    "Fíjate que el hecho de que la puntuación corresponda con el índice del vector es puramente circunstancial y no implica nada desde la perspectiva de la clasificación. Podríamos reordenar las columnas de dicho vector sin ninguna repercusión en la clasificación. Lo único importante es saber con qué columna se corresponde cada puntuación (_label_).\n",
    "\n",
    "El que nos decantemos por una opción u otra puede depender de ciertas cuestiones relacionadas con la naturaleza de la puntuación. El emplear un valor numérico discreto (opción 1) induce una ordenación en las puntuaciones y cierta noción de \"distancia\" entre ellas, que pueden ser representativo para nosotros. Por otro lado, si la puntuación es puramente discreta o nominal, la codificación _one-hot_ es más apropiada al no inducir orden o distancia.\n",
    "\n",
    "En PyTorch, podemos crear nuestro tensor de codificación _one-hot_ usando el método **scatter_**, que rellena el tensor con los valores de un tensor origen a lo largo de los índices indicados como argumentos:\n",
    "\n"
   ]
  },
  {
   "cell_type": "code",
   "execution_count": 14,
   "metadata": {},
   "outputs": [
    {
     "name": "stdout",
     "output_type": "stream",
     "text": [
      "torch.Size([4898, 10])\n"
     ]
    },
    {
     "data": {
      "text/plain": [
       "tensor([[0., 0., 0.,  ..., 0., 0., 0.],\n",
       "        [0., 0., 0.,  ..., 0., 0., 0.],\n",
       "        [0., 0., 0.,  ..., 0., 0., 0.],\n",
       "        ...,\n",
       "        [0., 0., 0.,  ..., 0., 0., 0.],\n",
       "        [0., 0., 0.,  ..., 1., 0., 0.],\n",
       "        [0., 0., 0.,  ..., 0., 0., 0.]])"
      ]
     },
     "execution_count": 14,
     "metadata": {},
     "output_type": "execute_result"
    }
   ],
   "source": [
    "target_onehot = torch.zeros(target.shape[0], 10)\n",
    "print(target_onehot.shape)\n",
    "\n",
    "target_onehot.scatter_(1, target.unsqueeze(1), 1.0)\n",
    "target_onehot"
   ]
  },
  {
   "cell_type": "markdown",
   "metadata": {},
   "source": [
    "El método **scatter_**, por cada fila del nuevo tensor (*target_onehot*), lee la puntuación correspondiente del tensor _target_ (convertido a formato columna y con las mismas dimensiones que *target_onehot* al hacer _unsqueeze(1)_) y usa su valor cómo índice para establecer el valor indicado (1.0 en este caso) en la columna correspondiente de *target_onehot*.\n",
    "\n",
    "PyTorch nos permite usar índices de clases directamente como _targets_ cuando entrenamos redes neuronales. Sin embargo, si quisiéramos utilizar la puntuación como entrada nominal de la red, tendremos que convertirla en un tensor _one-hot_."
   ]
  },
  {
   "cell_type": "markdown",
   "metadata": {},
   "source": [
    "#### 2.3.3 Valores ordinales\n",
    "---\n",
    "Ya hemos visto como tratar datos continuos y nominales. En el caso de datos ordinales no existe una receta simple para tratar con ellos. En general, podremos tratarlos como valores categóricos (perdiendo la información de ordenación) o como continuos (introduciendo cierta noción de distancia).\n",
    "\n",
    "<br>\n",
    "\n",
    "![](data/image-lect/ordinal_values.png)\n",
    "\n",
    "<br>\n",
    "\n",
    "Volvamos a nuestro tensor con los datos conteniendo las 11 variables asociadas a los análisis químicos de los vinos y obtengamos la media y desviación estándar de cada columna:"
   ]
  },
  {
   "cell_type": "code",
   "execution_count": 26,
   "metadata": {},
   "outputs": [
    {
     "name": "stdout",
     "output_type": "stream",
     "text": [
      "mean =  tensor([6.8548e+00, 2.7824e-01, 3.3419e-01, 6.3914e+00, 4.5772e-02, 3.5308e+01,\n",
      "        1.3836e+02, 9.9403e-01, 3.1883e+00, 4.8985e-01, 1.0514e+01]) \n",
      "shape =  torch.Size([11])\n",
      "\n",
      "var =  tensor([8.4387e-01, 1.0079e-01, 1.2102e-01, 5.0721e+00, 2.1848e-02, 1.7007e+01,\n",
      "        4.2498e+01, 2.9909e-03, 1.5100e-01, 1.1413e-01, 1.2306e+00]) \n",
      "shape =  torch.Size([11])\n"
     ]
    }
   ],
   "source": [
    "data_mean = torch.mean(data, dim=0)\n",
    "print(\"mean = \", data_mean, \"\\nshape = \", data_mean.shape)\n",
    "\n",
    "data_var = torch.std(data, dim=0)\n",
    "print(\"\\nvar = \", data_var, \"\\nshape = \", data_var.shape)"
   ]
  },
  {
   "cell_type": "markdown",
   "metadata": {},
   "source": [
    "En este caso, _dim=0_ indica que la reducción se realizará a lo largo de la dimensión 0. Ahora, podemos normalizar los datos restando la media y dividiendo por la desviación estándar"
   ]
  },
  {
   "cell_type": "code",
   "execution_count": 30,
   "metadata": {},
   "outputs": [
    {
     "data": {
      "text/plain": [
       "tensor([[ 1.5808e-01, -2.5958e-02,  7.4188e-02,  ..., -4.8449e-01,\n",
       "         -1.1795e-01, -1.5453e+00],\n",
       "        [-6.0393e-01,  6.8536e-02,  1.6697e-02,  ...,  2.8754e-01,\n",
       "          4.5344e-04, -9.1430e-01],\n",
       "        [ 1.3555e+00,  5.5402e-03,  1.8917e-01,  ...,  1.8460e-01,\n",
       "         -1.4755e-01, -3.7344e-01],\n",
       "        ...,\n",
       "        [-3.8622e-01, -1.2045e-01, -4.1449e-01,  ..., -5.1022e-01,\n",
       "         -8.8350e-02, -1.0044e+00],\n",
       "        [-1.4748e+00,  3.7038e-02, -9.8286e-02,  ...,  3.9047e-01,\n",
       "         -3.2516e-01,  2.0605e+00],\n",
       "        [-9.3051e-01, -2.1495e-01,  1.3168e-01,  ...,  1.8460e-01,\n",
       "         -5.0277e-01,  1.1590e+00]])"
      ]
     },
     "execution_count": 30,
     "metadata": {},
     "output_type": "execute_result"
    }
   ],
   "source": [
    "data_normalized = (data - data_mean) / torch.sqrt(data_var)\n",
    "data_normalized"
   ]
  },
  {
   "cell_type": "markdown",
   "metadata": {},
   "source": [
    "#### 2.3.4 Buscando umbrales\n",
    "---\n",
    "Finalmente, podemos hacer algunos análisis directos sobre los datos con objeto de hacer alguna asunción o predicción simple sobre los mismos.\n",
    "\n",
    "Por ejemplo, vamos a buscar aquellas muestras cuya puntuación sea igual o inferior a 3:"
   ]
  },
  {
   "cell_type": "code",
   "execution_count": 32,
   "metadata": {},
   "outputs": [
    {
     "name": "stdout",
     "output_type": "stream",
     "text": [
      "torch.Size([4898]) torch.bool tensor(20)\n",
      "tensor([False, False, False,  ..., False, False, False])\n"
     ]
    }
   ],
   "source": [
    "bad_indexes = target <= 3\n",
    "print(bad_indexes.shape, bad_indexes.dtype, bad_indexes.sum())\n",
    "print(bad_indexes)"
   ]
  },
  {
   "cell_type": "markdown",
   "metadata": {},
   "source": [
    "Obtendremos un tensor de _bool_, de la misma dimension que _target_, con un valor _True_ para aquellas filas (_samples_) que cumplan la condición. En nuestro caso, 20.\n",
    "\n",
    "Usando este nuevo tensor, podremos indexar _data_ para filtrar las muestras (_samples_) correspondientes"
   ]
  },
  {
   "cell_type": "code",
   "execution_count": 35,
   "metadata": {},
   "outputs": [
    {
     "data": {
      "text/plain": [
       "torch.Size([20, 11])"
      ]
     },
     "execution_count": 35,
     "metadata": {},
     "output_type": "execute_result"
    }
   ],
   "source": [
    "bad_data = data[bad_indexes]\n",
    "bad_data.shape"
   ]
  },
  {
   "cell_type": "markdown",
   "metadata": {},
   "source": [
    "Vamos ahora a \"dividir\" nuestras muestras en tres categorías diferentes (bad, mid, good) y obtener la media de cada una de las columnas"
   ]
  },
  {
   "cell_type": "code",
   "execution_count": 53,
   "metadata": {},
   "outputs": [
    {
     "name": "stdout",
     "output_type": "stream",
     "text": [
      "bad: 20; mid: 3818; good: 1060\n",
      "\n",
      "        PROPERTY            BAD    MID    GOOD \n",
      " 0 fixed acidity            7.60   6.89   6.73\n",
      " 1 volatile acidity         0.33   0.28   0.27\n",
      " 2 citric acid              0.34   0.34   0.33\n",
      " 3 residual sugar           6.39   6.71   5.26\n",
      " 4 chlorides                0.05   0.05   0.04\n",
      " 5 free sulfur dioxide     53.33  35.42  34.55\n",
      " 6 total sulfur dioxide   170.60 141.83 125.25\n",
      " 7 density                  0.99   0.99   0.99\n",
      " 8 pH                       3.19   3.18   3.22\n",
      " 9 sulphates                0.47   0.49   0.50\n",
      "10 alcohol                 10.34  10.26  11.42\n"
     ]
    }
   ],
   "source": [
    "bad_data = data[target<=3]\n",
    "mid_data = data[(target>3) & (target<7)]\n",
    "good_data = data[target>=7]\n",
    "\n",
    "print(f\"bad: {bad_data.shape[0]}; mid: {mid_data.shape[0]}; good: {good_data.shape[0]}\")\n",
    "\n",
    "bad_mean = bad_data.mean(dim=0)\n",
    "mid_mean = mid_data.mean(dim=0)\n",
    "good_mean = good_data.mean(dim=0)\n",
    "\n",
    "print(f\"\\n{'PROPERTY':^25s}  {'BAD':^6s} {'MID':^6s} {'GOOD':^6s}\")\n",
    "for i, name in enumerate(col_list[:-1]):\n",
    "    print(f\"{i:2d} {col_list[i]:<22s} {bad_mean[i]:>6.2f} {mid_mean[i]:>6.2f} {good_mean[i]:>6.2f}\")\n"
   ]
  },
  {
   "cell_type": "markdown",
   "metadata": {},
   "source": [
    "De este análisis simplista podríamos deducir que hay una correspondencia entre valores elevados de dióxido de sulfuro y una baja calidad del vino.\n",
    "\n",
    "Utilizando este criterio, vamos a tratar de encontrar vinos de alta calidad. Para ello, vamos a utilizar como umbral el valor medio de los vinos de calidad media."
   ]
  },
  {
   "cell_type": "code",
   "execution_count": 55,
   "metadata": {},
   "outputs": [
    {
     "data": {
      "text/plain": [
       "(torch.Size([4898]), torch.bool, tensor(2727))"
      ]
     },
     "execution_count": 55,
     "metadata": {},
     "output_type": "execute_result"
    }
   ],
   "source": [
    "total_sulfur_threshold = 141.83\n",
    "total_sulfur_data = data[:, 6] # extraemos la columna correspondiente\n",
    "predicted_indexes = torch.lt(total_sulfur_data, total_sulfur_threshold)\n",
    "\n",
    "predicted_indexes.shape, predicted_indexes.dtype, predicted_indexes.sum()"
   ]
  },
  {
   "cell_type": "markdown",
   "metadata": {},
   "source": [
    "Según esto, entorno a la mitad de los vinos serían de alta calidad. \n",
    "\n",
    "Vamos a buscar los índices de los vinos realmente buenos:"
   ]
  },
  {
   "cell_type": "code",
   "execution_count": 56,
   "metadata": {},
   "outputs": [
    {
     "data": {
      "text/plain": [
       "(torch.Size([4898]), torch.bool, tensor(3258))"
      ]
     },
     "execution_count": 56,
     "metadata": {},
     "output_type": "execute_result"
    }
   ],
   "source": [
    "actual_indexes = target > 5\n",
    "\n",
    "actual_indexes.shape, actual_indexes.dtype, actual_indexes.sum()"
   ]
  },
  {
   "cell_type": "markdown",
   "metadata": {},
   "source": [
    "Nos salen unos 500 más que los predichos.\n",
    "\n",
    "Finalmente, vamos a comparar nuestra predicción con el ranking real, a ver qué tal..."
   ]
  },
  {
   "cell_type": "code",
   "execution_count": 64,
   "metadata": {},
   "outputs": [
    {
     "data": {
      "text/plain": [
       "(2018, 0.74000733406674, 0.6193984039287906)"
      ]
     },
     "execution_count": 64,
     "metadata": {},
     "output_type": "execute_result"
    }
   ],
   "source": [
    "n_matches = torch.sum(actual_indexes & predicted_indexes).item() # cuántas filas coinciden?\n",
    "n_predicted = torch.sum(predicted_indexes).item()\n",
    "n_actual = torch.sum(actual_indexes).item()\n",
    "\n",
    "n_matches, n_matches/n_predicted, n_matches/n_actual"
   ]
  },
  {
   "cell_type": "markdown",
   "metadata": {},
   "source": [
    "Tenemos unos 2000 vinos bien! \n",
    "\n",
    "Sobre un 74% de nuestras predicciones son correctas (vinos que decimos que son buenos y lo son realmente). Sin embargo, sólo identificamos el 62% de los buenos vinos reales.\n",
    "\n",
    "Como se puede apreciar, una buena predicción está influenciada por muchas más variables que no hemos tenido en cuenta. "
   ]
  }
 ],
 "metadata": {
  "kernelspec": {
   "display_name": "Python 3",
   "language": "python",
   "name": "python3"
  },
  "language_info": {
   "codemirror_mode": {
    "name": "ipython",
    "version": 3
   },
   "file_extension": ".py",
   "mimetype": "text/x-python",
   "name": "python",
   "nbconvert_exporter": "python",
   "pygments_lexer": "ipython3",
   "version": "3.8.5"
  }
 },
 "nbformat": 4,
 "nbformat_minor": 4
}
