{
 "cells": [
  {
   "cell_type": "markdown",
   "metadata": {},
   "source": [
    "## Exercises\n",
    "___"
   ]
  },
  {
   "cell_type": "markdown",
   "metadata": {},
   "source": [
    "**1.**\n",
    "\n",
    "Create a tensor for _list(range(9))_. Predict and then check the size, offset and stride"
   ]
  },
  {
   "cell_type": "code",
   "execution_count": 6,
   "metadata": {},
   "outputs": [
    {
     "name": "stdout",
     "output_type": "stream",
     "text": [
      "a size: torch.Size([9])\n",
      "a offset: 0\n",
      "a stride: (1,)\n"
     ]
    }
   ],
   "source": [
    "import torch\n",
    "\n",
    "a = torch.tensor(list(range(9)))\n",
    "print(\"a size:\", a.size())               # torch.Size([9])\n",
    "print(\"a offset:\", a.storage_offset())   # 0\n",
    "print(\"a stride:\", a.stride())           # (1,)"
   ]
  },
  {
   "cell_type": "markdown",
   "metadata": {},
   "source": [
    "**1.a**\n",
    "\n",
    "Create a new tensor using _b = a.view(3, 3)_. What does _view_ do? Check that _a_ and _b_ share the same storage"
   ]
  },
  {
   "cell_type": "code",
   "execution_count": 7,
   "metadata": {},
   "outputs": [
    {
     "name": "stdout",
     "output_type": "stream",
     "text": [
      " 0\n",
      " 1\n",
      " 2\n",
      " 3\n",
      " 4\n",
      " 5\n",
      " 6\n",
      " 7\n",
      " 8\n",
      "[torch.LongStorage of size 9]\n",
      " 0\n",
      " 1\n",
      " 2\n",
      " 3\n",
      " 4\n",
      " 5\n",
      " 6\n",
      " 7\n",
      " 8\n",
      "[torch.LongStorage of size 9]\n",
      "b size: torch.Size([3, 3])\n",
      "b offset: 0\n",
      "b stride: (3, 1)\n"
     ]
    }
   ],
   "source": [
    "b = a.view(3, 3)  # creates a view from the same storage\n",
    "print(a.storage())\n",
    "print(b.storage())\n",
    "print(\"b size:\", b.size())              # torch.Size([3, 3])\n",
    "print(\"b offset:\", b.storage_offset())  # 0\n",
    "print(\"b stride:\", b.stride())          # (3, 1)"
   ]
  },
  {
   "cell_type": "markdown",
   "metadata": {},
   "source": [
    "**1.b**\n",
    "\n",
    "Create a tensor _c = b\\[1:,1:\\]_. Predict and then check the size, offset and stride"
   ]
  },
  {
   "cell_type": "code",
   "execution_count": 8,
   "metadata": {},
   "outputs": [
    {
     "name": "stdout",
     "output_type": "stream",
     "text": [
      "c size: torch.Size([2, 2])\n",
      "c offset: 4\n",
      "c stride: (3, 1)\n"
     ]
    }
   ],
   "source": [
    "c = b[1:, 1:]\n",
    "print(\"c size:\", c.size())              # torch.Size([2, 2])\n",
    "print(\"c offset:\", c.storage_offset())  # 4\n",
    "print(\"c stride:\", c.stride())          # (3, 1)"
   ]
  },
  {
   "cell_type": "markdown",
   "metadata": {},
   "source": [
    "___\n",
    "**2**\n",
    "\n",
    "Pick a mathematical operation like cosine or square root. Can you find a corresponding function in the _torch_library?"
   ]
  },
  {
   "cell_type": "code",
   "execution_count": null,
   "metadata": {},
   "outputs": [],
   "source": [
    "# torch.sqrt(t)\n",
    "# torch.sin(t)"
   ]
  },
  {
   "cell_type": "markdown",
   "metadata": {},
   "source": [
    "**a**\n",
    "\n",
    "Apply the function element-wise to _a_. Why does it return an error?"
   ]
  },
  {
   "cell_type": "code",
   "execution_count": 23,
   "metadata": {},
   "outputs": [
    {
     "data": {
      "text/plain": [
       "tensor([0.0000, 1.0000, 1.4142, 1.7321, 2.0000, 2.2361, 2.4495, 2.6458, 2.8284])"
      ]
     },
     "execution_count": 23,
     "metadata": {},
     "output_type": "execute_result"
    }
   ],
   "source": [
    "# torch.sqrt(a) # a must be a tensor of floating point values"
   ]
  },
  {
   "cell_type": "markdown",
   "metadata": {},
   "source": [
    "**b**\n",
    "\n",
    "What operation is required to make the function work?"
   ]
  },
  {
   "cell_type": "code",
   "execution_count": 27,
   "metadata": {},
   "outputs": [
    {
     "data": {
      "text/plain": [
       "tensor([0.0000, 1.0000, 1.4142, 1.7321, 2.0000, 2.2361, 2.4495, 2.6458, 2.8284],\n",
       "       dtype=torch.float64)"
      ]
     },
     "execution_count": 27,
     "metadata": {},
     "output_type": "execute_result"
    }
   ],
   "source": [
    "#torch.sqrt(a.float())\n",
    "torch.sqrt(a.to(dtype=float))"
   ]
  },
  {
   "cell_type": "markdown",
   "metadata": {},
   "source": [
    "**c**\n",
    "\n",
    "Is there a version of your function that operates in place?"
   ]
  },
  {
   "cell_type": "code",
   "execution_count": 33,
   "metadata": {},
   "outputs": [
    {
     "name": "stdout",
     "output_type": "stream",
     "text": [
      "tensor([0., 1., 2., 3., 4., 5., 6., 7., 8.])\n",
      "tensor([0.0000, 1.0000, 1.4142, 1.7321, 2.0000, 2.2361, 2.4495, 2.6458, 2.8284])\n",
      "tensor([0., 1., 2., 3., 4., 5., 6., 7., 8.])\n",
      "tensor([ 0.0000,  0.8415,  0.9093,  0.1411, -0.7568, -0.9589, -0.2794,  0.6570,\n",
      "         0.9894])\n"
     ]
    }
   ],
   "source": [
    "b = a.float()\n",
    "print(b)\n",
    "b.sqrt_()  # in-place operation\n",
    "print(b)\n",
    "b = a.float()\n",
    "print(b)\n",
    "torch.Tensor.sin_(b)  # in-place operation\n",
    "print(b)"
   ]
  }
 ],
 "metadata": {
  "kernelspec": {
   "display_name": "Python 3",
   "language": "python",
   "name": "python3"
  },
  "language_info": {
   "codemirror_mode": {
    "name": "ipython",
    "version": 3
   },
   "file_extension": ".py",
   "mimetype": "text/x-python",
   "name": "python",
   "nbconvert_exporter": "python",
   "pygments_lexer": "ipython3",
   "version": "3.8.5"
  }
 },
 "nbformat": 4,
 "nbformat_minor": 4
}
