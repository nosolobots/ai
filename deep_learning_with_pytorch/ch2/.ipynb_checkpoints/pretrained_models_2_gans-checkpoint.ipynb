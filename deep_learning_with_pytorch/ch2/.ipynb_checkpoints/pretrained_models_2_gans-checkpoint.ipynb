{
 "cells": [
  {
   "cell_type": "markdown",
   "metadata": {
    "id": "btKiwu6mneDN"
   },
   "source": [
    "# RNA preentrenadas II\n",
    "## (_GAN's, Generative Adversarial Networks_)\n",
    "___\n",
    "\n",
    "Imagina que quieres ganarte la vida como falsificador de arte, introduciendo en el mercado pinturas \"desaparecidas\" de famosos pintores como Rembrandt o Picasso. \n",
    "\n",
    "Aparte de las incontables horas que necesitarías para mejorar tu técnica pictórica, deberías encontrar un historiador de arte (de moral \"ligera\"), que inspeccionara tus obras y te informara de aquellos aspectos de tu trabajo que resultan más \"cantosos\" o alejados de la técnica del maestro que deseamos \"suplantar\". Con ese _feedback_, podrías mejorar tu nivel técnico hasta asemejarlo (teóricamente, claro) a la de esos pintores que deseas falsificar (y así tener nuestros propios \"Velázquez\" en el Museo del Prado!!)\n",
    "\n",
    "En el contexto del _Deep Learning_, lo que acabamos de describir se conoce como **_the GAN game_**, donde dos redes neuronales, una actuando como \"el pintor\" y la otra como \"el historiador\", competirían tratando de superarse entre sí: el pintor creando obras que pasen por \"reales\", y el historiador tratando de detectar dichas copias falsas. En dicho proceso, ambas redes se irán retroalimentando y aprendiendo, llegando a producir resultados realmente sorprendentes.\n",
    "\n",
    "Un ejemplo de estas arquitecturas es la red **StyleGAN**. Esta red, desarrollada por Nvidia en 2018, se utiliza para la generación de imágenes, principalmente de rostros. Nvidia publicó el código en febrero de 2019. Un ejemplo de implementación de esta red lo podemos ver en el sitio web: [https://www.thispersondoesnotexist.com/](https://www.thispersondoesnotexist.com/), donde todos los rostros mostrados son rostros generados artificialmente."
   ]
  },
  {
   "cell_type": "code",
   "execution_count": null,
   "metadata": {
    "id": "0LdIcVZmt9a1"
   },
   "outputs": [],
   "source": []
  }
 ],
 "metadata": {
  "colab": {
   "authorship_tag": "ABX9TyMG1+M1JRx1wdmIDjiBdj5y",
   "name": "pretrained_models_2_gans.ipynb",
   "provenance": []
  },
  "kernelspec": {
   "display_name": "Python 3",
   "language": "python",
   "name": "python3"
  },
  "language_info": {
   "codemirror_mode": {
    "name": "ipython",
    "version": 3
   },
   "file_extension": ".py",
   "mimetype": "text/x-python",
   "name": "python",
   "nbconvert_exporter": "python",
   "pygments_lexer": "ipython3",
   "version": "3.8.5"
  }
 },
 "nbformat": 4,
 "nbformat_minor": 1
}
