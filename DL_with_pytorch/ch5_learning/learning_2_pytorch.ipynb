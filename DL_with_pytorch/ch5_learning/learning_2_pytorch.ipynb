{
 "cells": [
  {
   "cell_type": "markdown",
   "metadata": {},
   "source": [
    "## Aprendizaje automático II. Pytorch\n",
    "___"
   ]
  },
  {
   "cell_type": "markdown",
   "metadata": {},
   "source": [
    "### 1. Autogradientes de PyTorch\n",
    "---\n",
    "En nuestro pequeñó experimento, vimos un ejemplo simple de propagación hacia atrás (_backpropagation_), el cálculo del gradiente de una composición de funciones (_model_ y _loss_) con respecto a sus parámetros (_w_ y _b_) mediante la propagación hacia atrás de sus derivadas parciales.\n",
    "\n",
    "Incluso aunque tuviéramos un modelo complicado con millones de parámetros, mientras el modelo sea diferenciable, definir el cálculo del gradiente de la función del error medido respecto de los parámetros no es más que un proceso analítico que debemos hacer una única vez. Eso sí, un proceso extremadamente aburrido y lento.\n",
    "\n",
    "Aquí es cuando PyTorch viene, de nuevo, al rescate con un componente denominado **_autograd_**. \n",
    "\n",
    "Los tensores de PyTorch pueden \"recordar\" de dónde proceden, es decir qué operaciones y tensores previos los originaron, y pueden proporcionar de forma automática la cadena de derivadas de dichas operaciones con respecto a sus entradas. Esto significa que ya no necesitamos derivar nuestro modelo _\"a mano\"_."
   ]
  },
  {
   "cell_type": "markdown",
   "metadata": {},
   "source": [
    "#### 1.1 Aplicando _autograd_\n",
    "---\n",
    "Vamos a recuperar nuestro modelo anterior del termómetro. Usaremos sobre él _autograd_ y veremos qué pasa.\n",
    "\n",
    "Primero, recuperamos el _dataset_..."
   ]
  },
  {
   "cell_type": "code",
   "execution_count": 1,
   "metadata": {},
   "outputs": [],
   "source": [
    "import torch\n",
    "\n",
    "# temperaturas ºC\n",
    "t_c = [0.5, 14.0, 15.0, 28.0, 11.0, 8.0, 3.0, -4.0, 6.0, 13.0, 21.0]\n",
    "\n",
    "# temperaturas en escala desconocida (unknown)\n",
    "t_u = [35.7, 55.9, 58.2, 81.9, 56.3, 48.9, 33.9, 21.8, 48.4, 60.4, 68.4]\n",
    "\n",
    "t_c = torch.tensor(t_c)\n",
    "t_u = torch.tensor(t_u)"
   ]
  },
  {
   "cell_type": "markdown",
   "metadata": {},
   "source": [
    "y ahora nuestras funciones de modelo y pérdida..."
   ]
  },
  {
   "cell_type": "code",
   "execution_count": 2,
   "metadata": {},
   "outputs": [],
   "source": [
    "def model(t_u, w, b):\n",
    "    return w * t_u + b\n",
    "\n",
    "def loss_fn(t_p, t_c):\n",
    "    return ((t_c - t_p)**2).mean()"
   ]
  },
  {
   "cell_type": "markdown",
   "metadata": {},
   "source": [
    "Vamos a inicializar nuevamente nuestro tensor de parámetros pero, en este caso, le indicaremos a PyTorch (opción _requires_\\__grad_) que haga un seguimiento y registro de todas las operaciones (y tensores resultantes) que realicemos sobre el tensor. En caso de que dichas operaciones sean diferenciables, el valor de la derivada estará automáticamente disponible en el atributo **_grad_** del tensor."
   ]
  },
  {
   "cell_type": "code",
   "execution_count": 3,
   "metadata": {},
   "outputs": [
    {
     "data": {
      "text/plain": [
       "True"
      ]
     },
     "execution_count": 3,
     "metadata": {},
     "output_type": "execute_result"
    }
   ],
   "source": [
    "params = torch.tensor([1.0, 0.0], requires_grad=True)\n",
    "params.grad is None "
   ]
  },
  {
   "cell_type": "markdown",
   "metadata": {},
   "source": [
    "Ahora, lo que único que tenemos que hacer es calcular el modelo sobre unos datos de entrada, aplicar nuestra función de pérdida (_loss_, en nuestro caso, _MCE_) para computar la diferencia con respecto al valor esperado. Finalmente, invocar **_backward_** en el tensor resultante, de forma que el atributo _grad_ de _params_ contenga las derivadas de la función de pérdida respecto a cada elemento de parámetros."
   ]
  },
  {
   "cell_type": "code",
   "execution_count": 4,
   "metadata": {},
   "outputs": [
    {
     "data": {
      "text/plain": [
       "tensor([4517.2969,   82.6000])"
      ]
     },
     "execution_count": 4,
     "metadata": {},
     "output_type": "execute_result"
    }
   ],
   "source": [
    "t_p = model(t_u, *params)\n",
    "loss = loss_fn(t_p, t_c)\n",
    "loss.backward()\n",
    "\n",
    "params.grad"
   ]
  },
  {
   "cell_type": "markdown",
   "metadata": {},
   "source": [
    "A partir del tensor original (_params_), PyTorch va creando un grafo con las diferentes operaciones realizadas sobre el tensor que, como resultado, producirán nuevos tensores. Cuando se invoca la función **_backward()_** sobre estos nuevos tensores, PyTorch atraviesa el grafo en orden inverso calculando las derivadas paraciales de las diferentes operaciones realizadas.\n",
    "\n",
    "NOTA: _backward_ sólo puede realizarse sobre tensores escalares (como ECM, cuyo resultado es un escalar)\n",
    "\n",
    "<br>\n",
    "\n",
    "![](data/image-lect/grad.png)\n",
    "\n",
    "<br>"
   ]
  },
  {
   "cell_type": "markdown",
   "metadata": {},
   "source": [
    "#### 1.4 Reescribiendo nuestro bucle de entrenamiento\n",
    "---\n",
    "Vamos a reescribir nuestro bucle de entrenamiento. Nos apoyaremos en esta funcionalidad de PyTorch para calcular las derivadas parciales de la función de pérdida respecto a los parámetros y actualizar sus valores.\n",
    "\n",
    "Dado que las operaciones de _backward_ son acumulativas, deberemos tmar la precaución de \"resetear\" a 0 el gradiente del tensor antes de cada iteración\n"
   ]
  },
  {
   "cell_type": "code",
   "execution_count": 5,
   "metadata": {},
   "outputs": [],
   "source": [
    "def training_loop(n_epochs, learning_rate, params, t_u, t_c, print_params=False):\n",
    "    t_params_list = torch.zeros([n_epochs, 2])\n",
    "    t_loss_list = torch.zeros(n_epochs)\n",
    "    \n",
    "    for epoch in range(1, n_epochs+1):\n",
    "        if params.grad is not None:\n",
    "            params.grad.zero_()\n",
    "                \n",
    "        t_p = model(t_u, *params)\n",
    "        loss = loss_fn(t_p, t_c)\n",
    "        loss.backward()   # sustituimos la llamada a nuestras funciones de derivación\n",
    "        \n",
    "        # update parameters\n",
    "        with torch.no_grad():  # deshabilitamos autograd para operar con params\n",
    "            params -= learning_rate * params.grad\n",
    "        \n",
    "        # almacenamos los resultado de cada época para analizar\n",
    "        t_loss_list[epoch-1] = loss\n",
    "        t_params_list[epoch-1] = params # new params learned\n",
    "        \n",
    "        if print_params:\n",
    "            print(f'Epoch {epoch}: loss {loss:.3f}')  \n",
    "            print(f'\\tParams:\\t{params}:\\n\\tGrad:\\t{grad}')         \n",
    "    \n",
    "    return t_loss_list, t_params_list"
   ]
  },
  {
   "cell_type": "markdown",
   "metadata": {},
   "source": [
    "Veamos si funciona..."
   ]
  },
  {
   "cell_type": "code",
   "execution_count": 6,
   "metadata": {},
   "outputs": [
    {
     "name": "stdout",
     "output_type": "stream",
     "text": [
      "tensor(2.9276, grad_fn=<SelectBackward>) tensor([ 9.0349, 10.5000], grad_fn=<SelectBackward>)\n"
     ]
    }
   ],
   "source": [
    "params = torch.tensor([1.0, 0.0], requires_grad=True)\n",
    "t_un = (t_u - t_u.mean())/t_u.std()\n",
    "t_loss, t_params = training_loop(\n",
    "    n_epochs = 5000,\n",
    "    learning_rate = 1e-2,\n",
    "    params = params,\n",
    "    t_u = t_un,\n",
    "    t_c = t_c)\n",
    "print(t_loss[-1], t_params[-1])"
   ]
  },
  {
   "cell_type": "markdown",
   "metadata": {},
   "source": [
    "El mismo resultado!! Ya no necesitamos calcular derivadas a mano!!"
   ]
  },
  {
   "cell_type": "markdown",
   "metadata": {},
   "source": [
    "#### 1.5 Optimizadores\n",
    "---\n",
    "Existen diversas estrategis de optimización y \"trucos\" que pueden facilitar la convergencia, especialmente cuando tratamos con modelos complicados.\n",
    "\n",
    "PyTorch proporciona a través del módulo **_optim_** diferentes algoritmos de optimización que nos facilitan la tarea de actualización de los parámetros en cada iteración de entrenamiento, ahorrándonos el trabajo de hacerlo por nosotros mismos."
   ]
  },
  {
   "cell_type": "code",
   "execution_count": 7,
   "metadata": {},
   "outputs": [
    {
     "data": {
      "text/plain": [
       "['ASGD',\n",
       " 'Adadelta',\n",
       " 'Adagrad',\n",
       " 'Adam',\n",
       " 'AdamW',\n",
       " 'Adamax',\n",
       " 'LBFGS',\n",
       " 'Optimizer',\n",
       " 'RMSprop',\n",
       " 'Rprop',\n",
       " 'SGD',\n",
       " 'SparseAdam',\n",
       " '__builtins__',\n",
       " '__cached__',\n",
       " '__doc__',\n",
       " '__file__',\n",
       " '__loader__',\n",
       " '__name__',\n",
       " '__package__',\n",
       " '__path__',\n",
       " '__spec__',\n",
       " '_multi_tensor',\n",
       " 'functional',\n",
       " 'lr_scheduler',\n",
       " 'swa_utils']"
      ]
     },
     "execution_count": 7,
     "metadata": {},
     "output_type": "execute_result"
    }
   ],
   "source": [
    "import torch.optim as optim\n",
    "dir(optim)"
   ]
  },
  {
   "cell_type": "markdown",
   "metadata": {},
   "source": [
    "El constructor de cada uno de los optimizadores anteriores tomará una lista de parámetros como entrada (un tensor con el atributo _requires_\\__grad_ a _True_. Los parámetros serán mantenidos dentro del optimizador de forma que pueda actualizarlos y acceder al atributo _grad_.\n",
    "\n",
    "<br>\n",
    "\n",
    "![](data/image-lect/optimizer.png)\n",
    "\n",
    "<br>\n",
    "\n",
    "Cada optimizador expone dos métodos, _zero_\\__grad_ y _step. _zero_\\__grad_ \"resetea\" a 0 el atributo _grad_ de todos los parámetros recibidos. _step_ actualiza los valores de los parámetros de acuerdo a la estrategia de optimización seleccionada.\n",
    "\n",
    "Veamos con un ejemplo:"
   ]
  },
  {
   "cell_type": "code",
   "execution_count": 11,
   "metadata": {},
   "outputs": [],
   "source": [
    "params = torch.tensor([1.0, 0.0], requires_grad=True)\n",
    "learning_rate = 1e-5\n",
    "optimizer = optim.SGD([params], lr=learning_rate)"
   ]
  },
  {
   "cell_type": "markdown",
   "metadata": {},
   "source": [
    "_SGD_ significa _stochastic gradient descent_. El términoc _stochastic_ hace referencia a que  calcula el gradiente promediando sobre un _subset_ aleatorio de las muestras del _dataset_ (_minibatch_). \n",
    "\n",
    "En todo caso, el optimizador no sabe si está evaluando la función de pérdida sobre todo el _dataset_ o un subconjunto.\n",
    "\n",
    "Vamos a probarlo sobre nuestro _dataset_"
   ]
  },
  {
   "cell_type": "code",
   "execution_count": 14,
   "metadata": {},
   "outputs": [
    {
     "data": {
      "text/plain": [
       "tensor([ 9.5483e-01, -8.2600e-04], requires_grad=True)"
      ]
     },
     "execution_count": 14,
     "metadata": {},
     "output_type": "execute_result"
    }
   ],
   "source": [
    "t_p = model(t_u, *params)\n",
    "loss = loss_fn(t_p, t_c)\n",
    "loss.backward()\n",
    "\n",
    "optimizer.step()\n",
    "\n",
    "params"
   ]
  },
  {
   "cell_type": "markdown",
   "metadata": {},
   "source": [
    "El valor de _params_ se ha actualizado después de invocar _step_ automáticamente! Del mismo modo que hacía nuestro código \"a mano\".\n",
    "\n",
    "Antes de modificar nuestra función de entrenamiento, debemos recordar inicializar a 0 nuestros gradientes o, de lo contrario, se acumularán en cada iteración del bucle cada vez que llamemos a _backward()_.\n",
    "\n",
    "Finalmente, nuestra función para el entrenamiento quedará de la siguiente manera:"
   ]
  },
  {
   "cell_type": "code",
   "execution_count": 15,
   "metadata": {},
   "outputs": [],
   "source": [
    "def training_loop(n_epochs, optimizer, params, t_u, t_c, print_params=False):\n",
    "    t_params_list = torch.zeros([n_epochs, 2])\n",
    "    t_loss_list = torch.zeros(n_epochs)\n",
    "    \n",
    "    for epoch in range(1, n_epochs+1):\n",
    "        t_p = model(t_u, *params) # aplica el modelo al dataset\n",
    "        loss = loss_fn(t_p, t_c)  # calcula el error\n",
    "\n",
    "        optimizer.zero_grad()  # inicializa los gradientes\n",
    "        loss.backward()        # calcula los gradientes\n",
    "        optimizer.step()       # actualiza los parámetros\n",
    "        \n",
    "        # almacenamos los resultado de cada época para analizar\n",
    "        t_loss_list[epoch-1] = loss\n",
    "        t_params_list[epoch-1] = params # new params learned\n",
    "        \n",
    "        if print_params:\n",
    "            print(f'Epoch {epoch}: loss {loss:.3f}')  \n",
    "            print(f'\\tParams:\\t{params}:\\n\\tGrad:\\t{grad}')         \n",
    "    \n",
    "    return t_loss_list, t_params_list"
   ]
  },
  {
   "cell_type": "markdown",
   "metadata": {},
   "source": [
    "Y procederemos a entrenar nuestro modelo como siempre (fíjate que se pasa el _dataset_ normalizado)"
   ]
  },
  {
   "cell_type": "code",
   "execution_count": 24,
   "metadata": {},
   "outputs": [
    {
     "name": "stdout",
     "output_type": "stream",
     "text": [
      "error: 2.928; [w = 5.367, b = -17.301]\n"
     ]
    }
   ],
   "source": [
    "t_un = 0.1*t_u\n",
    "params = torch.tensor([1.0, 0.0], requires_grad=True)\n",
    "learning_rate = 1e-2\n",
    "optimizer = optim.SGD([params], lr=learning_rate)\n",
    "\n",
    "t_loss, t_params = training_loop(\n",
    "    n_epochs = 5000,\n",
    "    optimizer = optimizer,\n",
    "    params = params,\n",
    "    t_u = t_un,\n",
    "    t_c = t_c)\n",
    "\n",
    "err = t_loss[-1].item()\n",
    "w,b = t_params[-1]\n",
    "print(f'error: {err:.3f}; [w = {w:.3f}, b = {b:.3f}]')"
   ]
  },
  {
   "cell_type": "markdown",
   "metadata": {},
   "source": [
    "##### Probando otros optimizadores (ADAM)\n",
    "---\n",
    "Podemos probar fácilmente otros optimizadores. Basta con crear una nueva instancia del optimizador seleccionado y pasárselo a la función de entrenamiento.\n",
    "\n",
    "Por ejemplo, vamos a usar **_Adam_**. Este optimizador, más sofisticado que _SGD_, usa un _learning rate_ adaptativo y, por tanto, es menos sensible al escalado de los parámetros. Por ejemplo, vamos a emplearlo sobre los datos sin normalizar y con un _learnning rate_ de un orden de magnitud superior:\n",
    "\n"
   ]
  },
  {
   "cell_type": "code",
   "execution_count": 26,
   "metadata": {},
   "outputs": [
    {
     "name": "stdout",
     "output_type": "stream",
     "text": [
      "error: 2.928; [w = 0.537, b = -17.305]\n"
     ]
    }
   ],
   "source": [
    "params = torch.tensor([1.0, 0.0], requires_grad=True)\n",
    "learning_rate = 1e-1 # learning rate mayor\n",
    "optimizer = optim.Adam([params], lr=learning_rate) # Optimizador Adam\n",
    "\n",
    "t_loss, t_params = training_loop(\n",
    "    n_epochs = 5000,\n",
    "    optimizer = optimizer,\n",
    "    params = params,\n",
    "    t_u = t_u, # _dataset_ sin normalizar\n",
    "    t_c = t_c)\n",
    "\n",
    "err = t_loss[-1].item()\n",
    "w,b = t_params[-1]\n",
    "print(f'error: {err:.3f}; [w = {w:.3f}, b = {b:.3f}]')"
   ]
  },
  {
   "cell_type": "markdown",
   "metadata": {},
   "source": [
    "El mismo resultado!!!!"
   ]
  },
  {
   "cell_type": "markdown",
   "metadata": {},
   "source": [
    "#### 1.6 Entrenamiento, validación y _overfitting_\n",
    "---\n",
    "Como hemos visto, cuando diseñamos y entrenamos un modelo, básicamente estamos buscando los valores de una serie de parámetros que nos permitan **_aproximar_** una determinada función, lo que nos permitirá hacer predicciones futuras a partir de datos de entrada no vistos durante el entrenamiento.\n",
    "\n",
    "Cuando nuestro modelo es extremandamente flexible y adaptable, como el proporcionado por las redes neuronales profundas, podemos _virtualmente_ aproximar cualquier función. Es decir, estos modelos de múltiples parámetros son capaces de ajustarse de forma que la pérdida sea mínima en las muestras del _dataset_ de entrenamiento. Pero esto no nos garantiza que el comportamiento del modelo sea correcto con muestras \"desconocidas\" o \"no vistas\" previamente, lo que invalidaría su uso como predictor. Este fenómeno es lo que se conoce como **_overfitting_**. El modelo ha sido capaz de predecir perfectamente los resultados esperados en el _dataset_ de entrenamiento, ajustando los parámetros hasta minimizar las pérdidas al máximo, pero con un comportamiento muy pobre con datos nuevos.\n",
    "\n",
    "<br>\n",
    "\n",
    "![](data/image-lect/overfitting.png)\n",
    "\n",
    "<br>\n",
    "\n",
    "Un fenómeno contrario es el denominado **_underfitting_**. En este caso, no conseguimos disminuir la pérdida con el entrenamiento. Esto puede ser debido a dos razones fundamentales:\n",
    "\n",
    "1. El modelo es demasiado simple (pocos parámetros) y no consigue aproximar la función \n",
    "2. El _dataset_ de entrenamiento es pobre, bien porque contiene pocas muestras o porque los datos contenidos no aportan suficiente información para \"descubrir\" relaciones\n"
   ]
  },
  {
   "cell_type": "markdown",
   "metadata": {},
   "source": [
    "##### _Training_\\__set_ y _Validation_\\__set_\n",
    "---\n",
    "Con objeto de poder validar el comportamiento de nuestro modelo, antes de proceder a sus entrenamiento, deberemos dividir el _dataset_ original (de forma aleatoria) en dos conjuntos independientes: el **_training_\\__set_** y el **_validation_\\__set_**\n",
    "\n",
    "Como su nombre indica, el primero lo utilizaremos para entrenar el modelo, mientra que el segundo sólo se utilizará para evaluar sus predicciones sobre conjuntos de datos no vistos previamente, lo que nos dará una idea de su comportamiento real. \n",
    "\n",
    "<br>\n",
    "\n",
    "![data/image-lect/split.png](data/image-lect/split.png)\n",
    "\n",
    "<br>\n",
    "\n",
    "Generalmente, el _validation_\\__set_ suele tener un tamaño en torno al 20% del _dataset_ original.\n",
    "\n",
    "Podemos hacer la división del _dataset_ fácilmente creando un vector con los índices del _dataset_ ordenados al azar (_torch.randperm_) y emplearlo para extraer dos subconjuntos diferenciados."
   ]
  },
  {
   "cell_type": "code",
   "execution_count": 48,
   "metadata": {},
   "outputs": [],
   "source": [
    "n_samples = t_u.shape[0]\n",
    "n_val = int(0.2 * n_samples)\n",
    "\n",
    "shuffled_indices = torch.randperm(n_samples)\n",
    "\n",
    "train_indices = shuffled_indices[:-n_val]\n",
    "val_indices = shuffled_indices[-n_val:]"
   ]
  },
  {
   "cell_type": "markdown",
   "metadata": {},
   "source": [
    "Una vez creados los dos conjuntos de índices, los usaremos para construir los dos nuevos _datasets_ a partir del original."
   ]
  },
  {
   "cell_type": "code",
   "execution_count": 49,
   "metadata": {},
   "outputs": [],
   "source": [
    "# training dataset\n",
    "train_t_u = t_u[train_indices]\n",
    "train_t_c = t_c[train_indices]\n",
    "\n",
    "# validation dataset\n",
    "val_t_u = t_u[val_indices]\n",
    "val_t_c = t_c[val_indices]\n",
    "\n",
    "# normalization (if necessary)\n",
    "train_t_un = 0.1 * train_t_u\n",
    "val_t_un = 0.1 * val_t_u"
   ]
  },
  {
   "cell_type": "markdown",
   "metadata": {},
   "source": [
    "Ahora procederíamos a entrenar nuestro modelo sobre el _training_\\__dataset_ para, posteriormente, una vez determinados los parámetros, evaluar su rendimiento sobre el _validation_\\__dataset_\n",
    "\n",
    "Dado que nuestra función de entrenamiento nos devuelve los parámetros de cada iteración, podemos evaluar cada época y ver como se ha ido decreciendo el error en el _validation_\\__dataset_ (esto mismo lo podíamos hacer añadiendo la validación dentro del bucle de entrenamiento y devolviendo un nuevo valor, el _error_ en el _validation_\\__dataset_)"
   ]
  },
  {
   "cell_type": "code",
   "execution_count": 50,
   "metadata": {},
   "outputs": [
    {
     "name": "stdout",
     "output_type": "stream",
     "text": [
      "error: 2.733; [w = 5.315, b = -17.421]\n"
     ]
    }
   ],
   "source": [
    "# Training\n",
    "params = torch.tensor([1.0, 0.0], requires_grad=True)\n",
    "learning_rate = 1e-2\n",
    "optimizer = optim.SGD([params], lr=learning_rate)\n",
    "\n",
    "t_loss, t_params = training_loop(\n",
    "    n_epochs = 5000,\n",
    "    optimizer = optimizer,\n",
    "    params = params,\n",
    "    t_u = train_t_un,   # training data (samples)\n",
    "    t_c = train_t_c)    # training data (labels)\n",
    "\n",
    "err = t_loss[-1].item()\n",
    "w,b = t_params[-1]\n",
    "print(f'error: {err:.3f}; [w = {w:.3f}, b = {b:.3f}]')"
   ]
  },
  {
   "cell_type": "code",
   "execution_count": 54,
   "metadata": {},
   "outputs": [
    {
     "name": "stdout",
     "output_type": "stream",
     "text": [
      "error: 4.672;\n"
     ]
    }
   ],
   "source": [
    "# Validation\n",
    "t_val_loss = torch.zeros(t_params.size()[0])\n",
    "with torch.no_grad(): # podemos deshabilitar el cálculo de gradientes (nota final)\n",
    "    for i, params in enumerate(t_params):\n",
    "        val_t_p = model(val_t_un, *params)\n",
    "        t_val_loss[i] = loss_fn(val_t_p, val_t_c)\n",
    "    \n",
    "err = t_val_loss[-1].item()\n",
    "print(f'error: {err:.3f};')"
   ]
  },
  {
   "cell_type": "markdown",
   "metadata": {},
   "source": [
    "Como podemos observar, existe una pequeña discrepancia entre el error final _training_\\__set_ y en el _validation_\\__set_. Este error, como es lógico, siempre será mayor en la validación. De todas formas, lo que realmente nos importa es ver que el error vaya descendiendo a lo largo del proceso de entrenamiento.\n",
    "\n",
    "Vamos a imprimir la evolución de ambos errores (en el _training_\\__set_ y en el _validation_\\__set_)"
   ]
  },
  {
   "cell_type": "code",
   "execution_count": 55,
   "metadata": {},
   "outputs": [
    {
     "data": {
      "image/png": "[encoded data removed]",
      "text/plain": [
       "<Figure size 432x288 with 1 Axes>"
      ]
     },
     "metadata": {
      "needs_background": "light"
     },
     "output_type": "display_data"
    }
   ],
   "source": [
    "from matplotlib import pyplot as plt\n",
    "t_x = torch.arange(t_loss.size()[0])\n",
    "plt.plot(t_loss.detach().numpy(), label = 'training') # detach().numpy() porque tiene gradientes\n",
    "plt.plot(t_val_loss, label = 'validation') # no tiene gradientes. No necesitamos convertirlo\n",
    "plt.title(f\"Curva de aprendizaje\")\n",
    "plt.ylabel(\"Error\")\n",
    "plt.xlabel(\"Época\")\n",
    "plt.legend()\n",
    "plt.show()"
   ]
  },
  {
   "cell_type": "markdown",
   "metadata": {},
   "source": [
    "Aunque el ejemplo propuesto no es muy representativo, pues el _validation_\\__set_ es demasiado pequeño, podemos apreciar el descenso en ambos _datasets_ a medida que avanza el entrenamiento.\n",
    "\n",
    "El estudio de estas gráficas comparadas es tremendamente útil, tal como podemos apreciar en la siguiente imagen. Nos permitirá, tanto observar comportamientos ideales (C) o aceptables (D), como detectar fácilmente situaciones de _underfitting_ (A) como de _overfitting_ (B).\n",
    "\n",
    "<br>\n",
    "\n",
    "![data/image-lect/train_vs_val_loss.png](data/image-lect/train_vs_val_loss.png)\n",
    "\n",
    "<br>\n"
   ]
  },
  {
   "cell_type": "markdown",
   "metadata": {},
   "source": [
    "##### NOTA: Autograd switch off\n",
    "---\n",
    "Una pequeña nota final sobre el proceso anterior de evaluación. Debemos tener presente que se van a crear dos grafos independientes a partir de _params_.\n",
    "\n",
    "<br>\n",
    "\n",
    "![data/image-lect/params_graph.png](data/image-lect/params_graph.png)\n",
    "\n",
    "<br>\n",
    "\n",
    "Dado que sólo entrenamos sobre el _training_\\__set_, sólo vamos a realizar _backpropagation_ en las operaciones sobre este _set_. Por tanto, no necesitamos el segundo grafo para nada y podemos desactivar _autograd_ haciendo uso de _torch.no_\\__grad_ en la validación\n",
    "\n"
   ]
  }
 ],
 "metadata": {
  "kernelspec": {
   "display_name": "Python 3",
   "language": "python",
   "name": "python3"
  },
  "language_info": {
   "codemirror_mode": {
    "name": "ipython",
    "version": 3
   },
   "file_extension": ".py",
   "mimetype": "text/x-python",
   "name": "python",
   "nbconvert_exporter": "python",
   "pygments_lexer": "ipython3",
   "version": "3.8.5"
  }
 },
 "nbformat": 4,
 "nbformat_minor": 4
}
