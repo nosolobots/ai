{
 "cells": [
  {
   "cell_type": "markdown",
   "metadata": {},
   "source": [
    "### Aprendizaje automático II. Pytorch\n",
    "___"
   ]
  },
  {
   "cell_type": "markdown",
   "metadata": {},
   "source": [
    "#### Exercise 1\n",
    "---\n",
    "\n",
    "Redefine the model to be `w2*t_u**3 + w1*t_u + b`"
   ]
  },
  {
   "cell_type": "code",
   "execution_count": 7,
   "metadata": {},
   "outputs": [],
   "source": [
    "import torch \n",
    "\n",
    "def model(t_u, w2, w1, b):\n",
    "    return w2*t_u**2 + w1*t_u + b\n",
    "\n",
    "def loss_fn(t_p, t_c):\n",
    "    return ((t_p - t_c)**2).mean()\n",
    "\n",
    "def split(t_u, t_c, val_size=0.2):\n",
    "    n = t_u.size()[0]  # dataset size\n",
    "    indices = torch.randperm(n) # shuffle indices\n",
    "    p = int(val_size * n)  # partition index\n",
    "    \n",
    "    # training set\n",
    "    t_train_u = t_u[indices[:-p]] \n",
    "    t_train_c = t_c[indices[:-p]]\n",
    "    \n",
    "    # validation set\n",
    "    t_val_u = t_u[indices[-p:]]  \n",
    "    t_val_c = t_c[indices[-p:]]\n",
    "    \n",
    "    return t_train_u, t_train_c, t_val_u, t_val_c\n",
    "\n",
    "def training_loop(n_epochs, optimizer, params, t_train_u, t_train_c, \n",
    "                  t_val_u, t_val_c, output=False, output_step=1):\n",
    "    # loss and params per epoch registers\n",
    "    t_loss_reg = torch.zeros(n_epochs)\n",
    "    t_val_loss_reg = torch.zeros(n_epochs)\n",
    "    t_params_reg = torch.zeros([n_epochs, params.size()[0]])\n",
    "        \n",
    "    for i in range(n_epochs):\n",
    "        # training\n",
    "        t_p = model(t_train_u, *params)\n",
    "        loss = loss_fn(t_p, t_train_c)\n",
    "    \n",
    "        # update\n",
    "        optimizer.zero_grad()\n",
    "        loss.backward()\n",
    "        optimizer.step()\n",
    "        \n",
    "        t_loss_reg[i] = loss\n",
    "        t_params_reg[i] = params\n",
    "        \n",
    "        # validation\n",
    "        with torch.no_grad():\n",
    "            t_p = model(t_val_u, *params)\n",
    "            loss = loss_fn(t_p, t_val_c)\n",
    "            t_val_loss_reg[i] = loss\n",
    "            \n",
    "        if output and i%output_step==0:\n",
    "            print(f'Epoch: {i}, train_loss: {t_loss_reg[i].item():.3f}, val_loss: {t_val_loss_reg[i].item():.3f}')\n",
    "    \n",
    "    return t_loss_reg, t_val_loss_reg, t_params_reg"
   ]
  },
  {
   "cell_type": "code",
   "execution_count": 12,
   "metadata": {},
   "outputs": [
    {
     "name": "stdout",
     "output_type": "stream",
     "text": [
      "Epoch: 0, train_loss: 12565346.000, val_loss: 101.425\n",
      "Epoch: 500, train_loss: 6.158, val_loss: 136.934\n",
      "Epoch: 1000, train_loss: 6.013, val_loss: 137.147\n",
      "Epoch: 1500, train_loss: 5.809, val_loss: 137.456\n",
      "Epoch: 2000, train_loss: 5.551, val_loss: 137.868\n",
      "Epoch: 2500, train_loss: 5.244, val_loss: 138.392\n",
      "Epoch: 3000, train_loss: 4.900, val_loss: 139.038\n",
      "Epoch: 3500, train_loss: 4.534, val_loss: 139.811\n",
      "Epoch: 4000, train_loss: 4.170, val_loss: 140.712\n",
      "Epoch: 4500, train_loss: 3.836, val_loss: 141.729\n",
      "Loss - train: 3.559 validation: 142.837\n"
     ]
    }
   ],
   "source": [
    "import torch.optim as optim\n",
    "\n",
    "# temperaturas ºC\n",
    "t_c = [0.5, 14.0, 15.0, 28.0, 11.0, 8.0, 3.0, -4.0, 6.0, 13.0, 21.0]\n",
    "\n",
    "# temperaturas en escala desconocida (unknown)\n",
    "t_u = [35.7, 55.9, 58.2, 81.9, 56.3, 48.9, 33.9, 21.8, 48.4, 60.4, 68.4]\n",
    "\n",
    "#t_c = torch.tensor(t_c, device='cuda')\n",
    "#t_u = torch.tensor(t_u, device='cuda')\n",
    "t_c = torch.tensor(t_c)\n",
    "t_u = torch.tensor(t_u)\n",
    "\n",
    "# split \n",
    "t_train_u, t_train_c, t_val_u, t_val_c = split(t_u, t_c)\n",
    "\n",
    "# normalize\n",
    "t_train_un = (t_train_u - t_train_u.mean())/t_train_u.std()\n",
    "t_val_un = (t_val_u - t_val_u.mean())/t_val_u.std()\n",
    "\n",
    "# initialize params\n",
    "#params = torch.tensor([1., 1., 0.], requires_grad=True, device='cuda')\n",
    "params = torch.tensor([1., 1., 0.], requires_grad=True)\n",
    "\n",
    "# optimizer\n",
    "learning_rate = 1e-2\n",
    "optimizer = optim.Adam([params], lr=learning_rate)\n",
    "\n",
    "# training loop\n",
    "n_epochs = 5000\n",
    "t_loss_reg, t_val_loss_reg, t_params_reg = training_loop(\n",
    "    n_epochs=n_epochs, \n",
    "    optimizer=optimizer, \n",
    "    params=params, \n",
    "    t_train_u=t_train_u, \n",
    "    t_train_c=t_train_c,\n",
    "    t_val_u=t_val_un, \n",
    "    t_val_c=t_val_c,\n",
    "    output=True, output_step=500)\n",
    "\n",
    "print(f\"Loss - train: {t_loss_reg[-1]:.3f} validation: {t_val_loss_reg[-1]:.3f}\")\n"
   ]
  },
  {
   "cell_type": "code",
   "execution_count": 9,
   "metadata": {},
   "outputs": [
    {
     "data": {
      "image/png": "[encoded data removed]",
      "text/plain": [
       "<Figure size 432x288 with 1 Axes>"
      ]
     },
     "metadata": {
      "needs_background": "light"
     },
     "output_type": "display_data"
    }
   ],
   "source": [
    "from matplotlib import pyplot as plt\n",
    "\n",
    "# Plot error loss\n",
    "plt.plot(t_loss_reg.detach().numpy(), label=\"training\")\n",
    "plt.plot(t_val_loss_reg, label=\"validation\")\n",
    "plt.title(f\"Curva de aprendizaje\")\n",
    "plt.ylabel(\"Error\")\n",
    "plt.xlabel(\"Época\")\n",
    "plt.legend()\n",
    "plt.show()\n"
   ]
  },
  {
   "cell_type": "code",
   "execution_count": 13,
   "metadata": {},
   "outputs": [
    {
     "data": {
      "image/png": "[encoded data removed]",
      "text/plain": [
       "<Figure size 432x288 with 1 Axes>"
      ]
     },
     "metadata": {
      "needs_background": "light"
     },
     "output_type": "display_data"
    }
   ],
   "source": [
    "# plot model\n",
    "x = torch.arange(0, 100).float()\n",
    "t_p = model(x, *t_params_reg[-1])   \n",
    "\n",
    "# si el training set estaba normalizado, tenemos que aplicar \n",
    "# el modelo sobre datos normalizados. SGD sí, Adam no\n",
    "# x_n = (x - x.mean())/x.std()\n",
    "# t_p = model(x_n, *t_params_reg[-1]) \n",
    "\n",
    "plt.plot(x, t_p.detach().numpy(), '#e377c2', zorder=1)\n",
    "plt.scatter(t_u, t_c, zorder=2)\n",
    "#plt.scatter(t_u.cpu(), t_c.cpu(), zorder=2)\n",
    "\n",
    "plt.title(\"Aproximando la función\")\n",
    "plt.ylabel(\"Temperatura ºC\")\n",
    "plt.xlabel(\"Medida termómetro\")\n",
    "plt.show()"
   ]
  }
 ],
 "metadata": {
  "kernelspec": {
   "display_name": "Python 3",
   "language": "python",
   "name": "python3"
  },
  "language_info": {
   "codemirror_mode": {
    "name": "ipython",
    "version": 3
   },
   "file_extension": ".py",
   "mimetype": "text/x-python",
   "name": "python",
   "nbconvert_exporter": "python",
   "pygments_lexer": "ipython3",
   "version": "3.8.5"
  }
 },
 "nbformat": 4,
 "nbformat_minor": 4
}
