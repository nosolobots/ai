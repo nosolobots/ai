{
 "cells": [
  {
   "cell_type": "markdown",
   "metadata": {},
   "source": [
    "## Redes neuronales II. PyTorch\n",
    "___"
   ]
  },
  {
   "cell_type": "markdown",
   "metadata": {},
   "source": [
    "#### Ejercicio 2.a\n",
    "---"
   ]
  },
  {
   "cell_type": "markdown",
   "metadata": {},
   "source": [
    "Crea un modelo para la predicción de la calidad del vino (\"vinho verde\" _dataset_).\n",
    "\n",
    "OPCIÓN A) La puntuación de calidad (_target_) se trata como un valor **continuo**"
   ]
  },
  {
   "cell_type": "markdown",
   "metadata": {},
   "source": [
    "##### GLOBALS\n",
    "---"
   ]
  },
  {
   "cell_type": "code",
   "execution_count": 88,
   "metadata": {},
   "outputs": [],
   "source": [
    "import torch\n",
    "import torch.nn as nn\n",
    "import torch.optim as optim\n",
    "from matplotlib import pyplot as plt\n",
    "import csv\n",
    "import numpy as np\n",
    "\n",
    "NORM = True\n",
    "GPU = True"
   ]
  },
  {
   "cell_type": "markdown",
   "metadata": {},
   "source": [
    "##### LOADING DATA\n",
    "---"
   ]
  },
  {
   "cell_type": "code",
   "execution_count": 67,
   "metadata": {},
   "outputs": [
    {
     "name": "stdout",
     "output_type": "stream",
     "text": [
      "--------------------------------------------------------------------------------\n",
      "DATASET: torch.Size([4898, 12])\n",
      "COLUMNS:\n",
      "['fixed acidity', 'volatile acidity', 'citric acid', 'residual sugar', 'chlorides', 'free sulfur dioxide', 'total sulfur dioxide', 'density', 'pH', 'sulphates', 'alcohol', 'quality']\n",
      "DATA:\n",
      "tensor([[ 7.0000,  0.2700,  0.3600,  ...,  0.4500,  8.8000,  6.0000],\n",
      "        [ 6.3000,  0.3000,  0.3400,  ...,  0.4900,  9.5000,  6.0000],\n",
      "        [ 8.1000,  0.2800,  0.4000,  ...,  0.4400, 10.1000,  6.0000],\n",
      "        ...,\n",
      "        [ 6.5000,  0.2400,  0.1900,  ...,  0.4600,  9.4000,  6.0000],\n",
      "        [ 5.5000,  0.2900,  0.3000,  ...,  0.3800, 12.8000,  7.0000],\n",
      "        [ 6.0000,  0.2100,  0.3800,  ...,  0.3200, 11.8000,  6.0000]])\n",
      "--------------------------------------------------------------------------------\n",
      "TRAINING DATASET: samples: torch.Size([3919, 11]) target: torch.Size([3919, 1])\n",
      "VALIDATION DATASET: samples: torch.Size([979, 11]) target: torch.Size([979, 1])\n"
     ]
    }
   ],
   "source": [
    "# --> Load data, skip row of column names\n",
    "wine_path = 'data/winequality-white.csv'\n",
    "wineq_np = np.loadtxt(wine_path, dtype=np.float32, delimiter=\";\", skiprows=1)\n",
    "wineq = torch.from_numpy(wineq_np)\n",
    "\n",
    "# --> Print dataset info\n",
    "column_list = next(csv.reader(open(wine_path), delimiter=';'))\n",
    "print(\"-\"*80)\n",
    "print(f\"DATASET: {wineq.shape}\")\n",
    "print(\"COLUMNS:\")\n",
    "print(column_list)\n",
    "print(\"DATA:\")\n",
    "print(wineq)\n",
    "\n",
    "# Samples and target data\n",
    "t_samples = wineq[:, :-1]\n",
    "t_target = wineq[:, -1].unsqueeze(1)\n",
    "\n",
    "# samples, features\n",
    "M,N = t_samples.shape\n",
    "\n",
    "# --> splitting\n",
    "print(\"-\"*80)\n",
    "n_samples = wineq.shape[0]\n",
    "n_val = int(0.2 * n_samples)\n",
    "\n",
    "# create indices\n",
    "shuffled_indices = torch.randperm(n_samples)\n",
    "train_indices = shuffled_indices[:-n_val]\n",
    "val_indices = shuffled_indices[-n_val:]\n",
    "\n",
    "# training dataset\n",
    "t_samples_train = t_samples[train_indices]\n",
    "t_target_train = t_target[train_indices]\n",
    "print(f\"TRAINING DATASET: samples: {t_samples_train.shape} target: {t_target_train.shape}\")\n",
    "\n",
    "# validation dataset\n",
    "t_samples_val = t_samples[val_indices]\n",
    "t_target_val = t_target[val_indices]\n",
    "print(f\"VALIDATION DATASET: samples: {t_samples_val.shape} target: {t_target_val.shape}\")\n",
    "\n",
    "# move to GPU\n",
    "if GPU:\n",
    "    t_samples_train = t_samples_train.cuda()\n",
    "    t_target_train = t_target_train.cuda()\n",
    "    t_samples_val = t_samples_val.cuda()\n",
    "    t_target_val = t_target_val.cuda()\n",
    "\n",
    "# normalización (si es necesaria). Importante: indicar dimensión en mean() y std()\n",
    "if NORM:\n",
    "    t_samples_train_n = (t_samples_train - t_samples_train.mean(dim=0))/t_samples_train.std(dim=0)\n",
    "    t_samples_val_n = (t_samples_val - t_samples_val.mean(dim=0))/t_samples_val.std(dim=0)\n",
    "else:\n",
    "    t_samples_train_n = t_samples_train\n",
    "    t_samples_val_n = t_samples_val"
   ]
  },
  {
   "cell_type": "markdown",
   "metadata": {},
   "source": [
    "##### MODELO\n",
    "---"
   ]
  },
  {
   "cell_type": "code",
   "execution_count": 132,
   "metadata": {},
   "outputs": [
    {
     "data": {
      "text/plain": [
       "Sequential(\n",
       "  (0): Linear(in_features=11, out_features=24, bias=True)\n",
       "  (1): Tanh()\n",
       "  (2): Linear(in_features=24, out_features=12, bias=True)\n",
       "  (3): Tanh()\n",
       "  (4): Linear(in_features=12, out_features=1, bias=True)\n",
       ")"
      ]
     },
     "execution_count": 132,
     "metadata": {},
     "output_type": "execute_result"
    }
   ],
   "source": [
    "seq_model = nn.Sequential(\n",
    "            nn.Linear(N, 24),\n",
    "            nn.Tanh(),\n",
    "            nn.Linear(24, 12),\n",
    "            nn.Tanh(),\n",
    "            nn.Linear(12, 1))\n",
    "if GPU:\n",
    "    seq_model.cuda()\n",
    "seq_model"
   ]
  },
  {
   "cell_type": "markdown",
   "metadata": {},
   "source": [
    "##### TRAINING LOOP\n",
    "---"
   ]
  },
  {
   "cell_type": "code",
   "execution_count": 90,
   "metadata": {},
   "outputs": [],
   "source": [
    "def training_loop(n_epochs, optimizer, model, loss_fn, \n",
    "                  t_samples_train, t_samples_val, t_target_train, t_target_val, \n",
    "                  output=True):\n",
    "    t_loss = torch.zeros([n_epochs+1, 2])\n",
    "    for epoch in range(1, n_epochs+1):\n",
    "        t_predict_train = model(t_samples_train) # usamos el modelo suministrado\n",
    "        loss_train = loss_fn(t_predict_train, t_target_train)  # calcula el error \n",
    "        \n",
    "        optimizer.zero_grad()  # inicializa los gradientes\n",
    "        loss_train.backward()        # calcula los gradientes\n",
    "        optimizer.step()       # actualiza los parámetros\n",
    "        \n",
    "        # validación\n",
    "        with torch.no_grad():\n",
    "            t_predict_val = model(t_samples_val) \n",
    "            loss_val = loss_fn(t_predict_val, t_target_val)  \n",
    "            \n",
    "        t_loss[epoch] = torch.tensor([loss_train, loss_val])\n",
    "        \n",
    "        if output and (epoch==1 or epoch%250==0):\n",
    "            print(f\"Epoch {epoch}, Training loss {loss_train.item():.4f},\"\n",
    "                    f\" Validation loss {loss_val.item():.4f}\")\n",
    "    return t_loss"
   ]
  },
  {
   "cell_type": "markdown",
   "metadata": {},
   "source": [
    "##### TRAINING THE MODEL\n",
    "---"
   ]
  },
  {
   "cell_type": "code",
   "execution_count": 133,
   "metadata": {},
   "outputs": [
    {
     "name": "stdout",
     "output_type": "stream",
     "text": [
      "Epoch 1, Training loss 35.9178, Validation loss 35.1990\n",
      "Epoch 250, Training loss 1.0323, Validation loss 0.9172\n",
      "Epoch 500, Training loss 0.6362, Validation loss 0.5722\n",
      "Epoch 750, Training loss 0.6126, Validation loss 0.5521\n",
      "Epoch 1000, Training loss 0.5994, Validation loss 0.5418\n",
      "Epoch 1250, Training loss 0.5911, Validation loss 0.5358\n",
      "Epoch 1500, Training loss 0.5854, Validation loss 0.5320\n",
      "Epoch 1750, Training loss 0.5813, Validation loss 0.5294\n",
      "Epoch 2000, Training loss 0.5781, Validation loss 0.5274\n"
     ]
    }
   ],
   "source": [
    "optimizer = optim.SGD(seq_model.parameters(), lr=1e-3)\n",
    "t_loss = training_loop(\n",
    "    n_epochs=2000,\n",
    "    optimizer=optimizer,\n",
    "    model=seq_model,       # <-- ANN model\n",
    "    loss_fn=nn.MSELoss(),\n",
    "    t_samples_train=t_samples_train_n,\n",
    "    t_samples_val=t_samples_val_n,\n",
    "    t_target_train=t_target_train,\n",
    "    t_target_val=t_target_val)"
   ]
  },
  {
   "cell_type": "markdown",
   "metadata": {},
   "source": [
    "##### PLOTTING ERROR\n",
    "---"
   ]
  },
  {
   "cell_type": "code",
   "execution_count": 134,
   "metadata": {},
   "outputs": [
    {
     "data": {
      "image/png": "[encoded data removed]",
      "text/plain": [
       "<Figure size 432x288 with 1 Axes>"
      ]
     },
     "metadata": {
      "needs_background": "light"
     },
     "output_type": "display_data"
    }
   ],
   "source": [
    "from matplotlib import pyplot as plt\n",
    "\n",
    "t_x = torch.arange(t_loss.size()[0])\n",
    "plt.plot(t_loss[1:,0].detach().numpy(), label = 'training') # detach().numpy() porque tiene gradientes\n",
    "plt.plot(t_loss[1:,1], label = 'validation') # no tiene gradientes. No necesitamos convertirlo\n",
    "plt.title(f\"Curva de aprendizaje\")\n",
    "plt.ylabel(\"Error\")\n",
    "plt.xlabel(\"Época\")\n",
    "plt.legend()\n",
    "plt.show()"
   ]
  },
  {
   "cell_type": "markdown",
   "metadata": {},
   "source": [
    "##### PLOTTING MODEL & PREDICTION\n",
    "---"
   ]
  },
  {
   "cell_type": "code",
   "execution_count": 135,
   "metadata": {},
   "outputs": [
    {
     "data": {
      "image/png": "[encoded data removed]",
      "text/plain": [
       "<Figure size 432x288 with 1 Axes>"
      ]
     },
     "metadata": {
      "needs_background": "light"
     },
     "output_type": "display_data"
    }
   ],
   "source": [
    "# Take NS random samples from validation set\n",
    "NS = 20\n",
    "indices = torch.randperm(t_samples_val_n.shape[0])[-NS:]\n",
    "t_samples = t_samples_val_n[indices]\n",
    "#t_predict = torch.round(seq_model(t_samples))\n",
    "t_predict = seq_model(t_samples)\n",
    "t_target = t_target_val[indices]\n",
    "plt.plot(t_target.cpu(), \"bo\", label='sample')\n",
    "plt.plot(t_predict.cpu().detach().numpy(), \"r+\", label='prediction')\n",
    "plt.ylim([0, 10])\n",
    "plt.legend()\n",
    "plt.show()"
   ]
  }
 ],
 "metadata": {
  "kernelspec": {
   "display_name": "Python 3",
   "language": "python",
   "name": "python3"
  },
  "language_info": {
   "codemirror_mode": {
    "name": "ipython",
    "version": 3
   },
   "file_extension": ".py",
   "mimetype": "text/x-python",
   "name": "python",
   "nbconvert_exporter": "python",
   "pygments_lexer": "ipython3",
   "version": "3.8.5"
  }
 },
 "nbformat": 4,
 "nbformat_minor": 4
}
