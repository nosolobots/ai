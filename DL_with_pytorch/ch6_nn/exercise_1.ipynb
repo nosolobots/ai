{
 "cells": [
  {
   "cell_type": "markdown",
   "metadata": {},
   "source": [
    "## Redes neuronales II. PyTorch\n",
    "___"
   ]
  },
  {
   "cell_type": "markdown",
   "metadata": {},
   "source": [
    "#### Exercise 1\n",
    "---\n",
    "Experimenta con el número de neuronas de la capa oculta del modelo"
   ]
  },
  {
   "cell_type": "markdown",
   "metadata": {},
   "source": [
    "##### GLOBALS"
   ]
  },
  {
   "cell_type": "code",
   "execution_count": 1,
   "metadata": {},
   "outputs": [],
   "source": [
    "import torch\n",
    "import torch.nn as nn\n",
    "import torch.optim as optim\n",
    "\n",
    "NORM = True\n",
    "GPU = False"
   ]
  },
  {
   "cell_type": "markdown",
   "metadata": {},
   "source": [
    "##### LOADING DATA"
   ]
  },
  {
   "cell_type": "code",
   "execution_count": 2,
   "metadata": {},
   "outputs": [],
   "source": [
    "# temperaturas ºC\n",
    "t_c = [0.5, 14.0, 15.0, 28.0, 11.0, 8.0, 3.0, -4.0, 6.0, 13.0, 21.0]\n",
    "\n",
    "# temperaturas en escala desconocida (unknown)\n",
    "t_u = [35.7, 55.9, 58.2, 81.9, 56.3, 48.9, 33.9, 21.8, 48.4, 60.4, 68.4]\n",
    "\n",
    "# convertimos en matrices añadiendo nueva dimensión en el eje 1\n",
    "t_c = torch.tensor(t_c).unsqueeze(1) \n",
    "t_u = torch.tensor(t_u).unsqueeze(1)\n",
    "\n",
    "# splitting\n",
    "n_samples = t_u.shape[0]\n",
    "n_val = int(0.2 * n_samples)\n",
    "\n",
    "shuffled_indices = torch.randperm(n_samples)\n",
    "\n",
    "train_indices = shuffled_indices[:-n_val]\n",
    "val_indices = shuffled_indices[-n_val:]\n",
    "\n",
    "# training dataset\n",
    "train_t_u = t_u[train_indices]\n",
    "train_t_c = t_c[train_indices]\n",
    "\n",
    "# validation dataset\n",
    "val_t_u = t_u[val_indices]\n",
    "val_t_c = t_c[val_indices]\n",
    "\n",
    "# move to GPU\n",
    "if GPU:\n",
    "    train_t_u = train_t_u.cuda()\n",
    "    train_t_c = train_t_c.cuda()\n",
    "    val_t_u = val_t_u.cuda()\n",
    "    val_t_c = val_t_c.cuda()\n",
    "\n",
    "# normalización (si es necesaria)\n",
    "if NORM:\n",
    "    train_t_un = 0.1 * train_t_u\n",
    "    val_t_un = 0.1 * val_t_u\n",
    "else:\n",
    "    train_t_un = train_t_u\n",
    "    val_t_un = val_t_u"
   ]
  },
  {
   "cell_type": "markdown",
   "metadata": {},
   "source": [
    "##### MODELO"
   ]
  },
  {
   "cell_type": "code",
   "execution_count": 3,
   "metadata": {},
   "outputs": [],
   "source": [
    "seq_model = nn.Sequential(\n",
    "            nn.Linear(1, 8),\n",
    "            nn.Tanh(),\n",
    "            nn.Linear(8, 1))\n",
    "if GPU:\n",
    "    seq_model.cuda()"
   ]
  },
  {
   "cell_type": "markdown",
   "metadata": {},
   "source": [
    "##### TRAINING LOOP"
   ]
  },
  {
   "cell_type": "code",
   "execution_count": 4,
   "metadata": {},
   "outputs": [],
   "source": [
    "def training_loop(n_epochs, optimizer, model, loss_fn, \n",
    "                  t_u_train, t_u_val, t_c_train, t_c_val, \n",
    "                  output=True):\n",
    "    t_loss = torch.zeros([n_epochs+1, 2])\n",
    "    for epoch in range(1, n_epochs+1):\n",
    "        t_p_train = model(t_u_train) # usamos el modelo suministrado\n",
    "        loss_train = loss_fn(t_p_train, t_c_train)  # calcula el error \n",
    "        \n",
    "        optimizer.zero_grad()  # inicializa los gradientes\n",
    "        loss_train.backward()        # calcula los gradientes\n",
    "        optimizer.step()       # actualiza los parámetros\n",
    "        \n",
    "        # validación\n",
    "        with torch.no_grad():\n",
    "            t_p_val = model(t_u_val) \n",
    "            loss_val = loss_fn(t_p_val, t_c_val)  \n",
    "            \n",
    "        t_loss[epoch] = torch.tensor([loss_train, loss_val])\n",
    "        \n",
    "        if output and (epoch==1 or epoch%1000==0):\n",
    "            print(f\"Epoch {epoch}, Training loss {loss_train.item():.4f},\"\n",
    "                    f\" Validation loss {loss_val.item():.4f}\")\n",
    "    return t_loss"
   ]
  },
  {
   "cell_type": "markdown",
   "metadata": {},
   "source": [
    "##### TRAINING THE MODEL"
   ]
  },
  {
   "cell_type": "code",
   "execution_count": 5,
   "metadata": {},
   "outputs": [
    {
     "name": "stdout",
     "output_type": "stream",
     "text": [
      "Epoch 1, Training loss 163.6395, Validation loss 234.0281\n",
      "Epoch 1000, Training loss 6.2167, Validation loss 3.0337\n",
      "Epoch 2000, Training loss 5.4808, Validation loss 1.3483\n",
      "Epoch 3000, Training loss 3.2339, Validation loss 0.3915\n",
      "Epoch 4000, Training loss 2.4090, Validation loss 0.1217\n",
      "Epoch 5000, Training loss 2.1814, Validation loss 0.1069\n"
     ]
    }
   ],
   "source": [
    "optimizer = optim.SGD(seq_model.parameters(), lr=1e-3) # <-- parameters del modelo\n",
    "t_loss = training_loop(\n",
    "    n_epochs=5000,\n",
    "    optimizer=optimizer,\n",
    "    model=seq_model,       # <-- ANN model\n",
    "    loss_fn=nn.MSELoss(),\n",
    "    t_u_train=train_t_un,\n",
    "    t_u_val=val_t_un,\n",
    "    t_c_train=train_t_c,\n",
    "    t_c_val=val_t_c)"
   ]
  },
  {
   "cell_type": "markdown",
   "metadata": {},
   "source": [
    "##### PLOTTING ERROR"
   ]
  },
  {
   "cell_type": "code",
   "execution_count": 6,
   "metadata": {},
   "outputs": [
    {
     "data": {
      "image/png": "[encoded data removed]",
      "text/plain": [
       "<Figure size 432x288 with 1 Axes>"
      ]
     },
     "metadata": {
      "needs_background": "light"
     },
     "output_type": "display_data"
    }
   ],
   "source": [
    "from matplotlib import pyplot as plt\n",
    "\n",
    "t_x = torch.arange(t_loss.size()[0])\n",
    "plt.plot(t_loss[:,0].detach().numpy(), label = 'training') # detach().numpy() porque tiene gradientes\n",
    "plt.plot(t_loss[:,1], label = 'validation') # no tiene gradientes. No necesitamos convertirlo\n",
    "plt.title(f\"Curva de aprendizaje\")\n",
    "plt.ylabel(\"Error\")\n",
    "plt.xlabel(\"Época\")\n",
    "plt.legend()\n",
    "plt.show()"
   ]
  },
  {
   "cell_type": "markdown",
   "metadata": {},
   "source": [
    "##### PLOTTING MODEL & PREDICTION"
   ]
  },
  {
   "cell_type": "code",
   "execution_count": 7,
   "metadata": {},
   "outputs": [
    {
     "data": {
      "image/png": "[encoded data removed]",
      "text/plain": [
       "<Figure size 432x288 with 1 Axes>"
      ]
     },
     "metadata": {
      "needs_background": "light"
     },
     "output_type": "display_data"
    }
   ],
   "source": [
    "t_x = torch.arange(15, 90).unsqueeze(1).float()\n",
    "\n",
    "if GPU:\n",
    "    t_x = t_x.cuda()\n",
    "    \n",
    "if NORM:\n",
    "    t_nx = 0.1*t_x # normalize\n",
    "else:\n",
    "    t_nx = t_x\n",
    "\n",
    "t_p = seq_model(t_nx) # predictions\n",
    "\n",
    "if GPU:\n",
    "    t_p = t_p.cpu()\n",
    "    t_x = t_x.cpu()\n",
    "\n",
    "plt.plot(t_x, t_p.detach().numpy(), '#e377c2', zorder=1) # visualiz\n",
    "plt.scatter(t_u, t_c, zorder=2)\n",
    "\n",
    "plt.title(\"Aproximando la función\")\n",
    "plt.ylabel(\"Temperatura ºC\")\n",
    "plt.xlabel(\"Medida termómetro\")\n",
    "plt.show()"
   ]
  }
 ],
 "metadata": {
  "kernelspec": {
   "display_name": "Python 3",
   "language": "python",
   "name": "python3"
  },
  "language_info": {
   "codemirror_mode": {
    "name": "ipython",
    "version": 3
   },
   "file_extension": ".py",
   "mimetype": "text/x-python",
   "name": "python",
   "nbconvert_exporter": "python",
   "pygments_lexer": "ipython3",
   "version": "3.8.5"
  }
 },
 "nbformat": 4,
 "nbformat_minor": 4
}
