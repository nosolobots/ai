{
 "cells": [
  {
   "cell_type": "markdown",
   "metadata": {},
   "source": [
    "## Redes neuronales II. PyTorch\n",
    "___"
   ]
  },
  {
   "cell_type": "markdown",
   "metadata": {},
   "source": [
    "### 1. El módulo _nn_\n",
    "---\n",
    "PyTorch disponde de un submódulo específico para redes neuronales, el módulo **_torch.nn_**. Contiene todos los bloques constructivos necesarios para crear todo tipo de arquitecturas de redes neuronales. \n",
    "\n",
    "Estos bloques fundacionales se denominan **_módulos_** en PyTorch. Básicamente, son clases que derivan de **_nn.Module_**. Pueden tener una o más instancias de **_Parameter_** como atributos, los cuales son **tensores** que serán optimizados durante el proceso de entrenamiento. Un módulo podría tener también otros submódulos (subclases de _nn.Module_) como atributos y monitorizar sus parámetros.\n",
    "\n",
    "Uno de estos módulos es la subclase **_nn.Linear_** que proporciona una transformación lineal afín de su entrada (a través de los parámetros _weight_ y _bias_) como luego veremos al reescribir nuestro ejemplo del termómetro.\n"
   ]
  },
  {
   "cell_type": "markdown",
   "metadata": {},
   "source": [
    "#### 1.1 Usando \\_\\__call_\\_\\_ en lugar de _forward_\n",
    "---\n",
    "Todas las subclases del módulo _nn.Module_ tienen definido el método \\_\\__call_\\_\\_. Esto nos permitiría instanciar un _nn.Linear_ e invocarlo como si fuera una función.\n"
   ]
  },
  {
   "cell_type": "code",
   "execution_count": 1,
   "metadata": {},
   "outputs": [
    {
     "data": {
      "text/plain": [
       "tensor([0.0622], grad_fn=<AddBackward0>)"
      ]
     },
     "execution_count": 1,
     "metadata": {},
     "output_type": "execute_result"
    }
   ],
   "source": [
    "import torch\n",
    "import torch.nn as nn\n",
    "\n",
    "t_un_val = torch.ones([1]) \n",
    "linear_model = nn.Linear(1, 1) # input size=1, output_size=1, bias=True\n",
    "linear_model(t_un_val)"
   ]
  },
  {
   "cell_type": "markdown",
   "metadata": {},
   "source": [
    "Invocar una instancia de _nn.Module_ con un conjunto de argumentos deriva en la llamada al método **_forward_** con los mismos argumentos. En teoría, podemos llamar directamente a este método. Sin embargo, no debemos hacerlo pues en la propia función \\_\\__call_\\_\\_ se realizan diversas \"preparaciones\" antes de invocar el método _forward_."
   ]
  },
  {
   "cell_type": "markdown",
   "metadata": {},
   "source": [
    "### 1.2 _nn.Linear_\n",
    "___\n",
    "Volviendo a nuestro modelo lineal, el contructor de _nn.Linear_ acepta tres argumentos: el número de parámetros de entrada (_input features_), el número de valores de salida (_output feaures_) y si el modelo incluye _bias_ (por defecto, _True_).\n",
    "\n",
    "Dado que sólo definimos un parámetro de entrada, nuestro modelo sólo tendrá un peso (_w_) (el _bias_ está a True por defecto)"
   ]
  },
  {
   "cell_type": "code",
   "execution_count": 2,
   "metadata": {},
   "outputs": [
    {
     "data": {
      "text/plain": [
       "Parameter containing:\n",
       "tensor([[-0.1404]], requires_grad=True)"
      ]
     },
     "execution_count": 2,
     "metadata": {},
     "output_type": "execute_result"
    }
   ],
   "source": [
    "linear_model.weight"
   ]
  },
  {
   "cell_type": "code",
   "execution_count": 3,
   "metadata": {},
   "outputs": [
    {
     "data": {
      "text/plain": [
       "Parameter containing:\n",
       "tensor([0.2026], requires_grad=True)"
      ]
     },
     "execution_count": 3,
     "metadata": {},
     "output_type": "execute_result"
    }
   ],
   "source": [
    "linear_model.bias"
   ]
  },
  {
   "cell_type": "markdown",
   "metadata": {},
   "source": [
    "El método **_parameters()_** devuelve un generador que nos permite acceder a la colección de parámetros (incluído _bias_)"
   ]
  },
  {
   "cell_type": "code",
   "execution_count": 4,
   "metadata": {},
   "outputs": [
    {
     "name": "stdout",
     "output_type": "stream",
     "text": [
      "Parameter containing:\n",
      "tensor([[-0.1404]], requires_grad=True)\n",
      "Parameter containing:\n",
      "tensor([0.2026], requires_grad=True)\n"
     ]
    },
    {
     "data": {
      "text/plain": [
       "[Parameter containing:\n",
       " tensor([[-0.1404]], requires_grad=True),\n",
       " Parameter containing:\n",
       " tensor([0.2026], requires_grad=True)]"
      ]
     },
     "execution_count": 4,
     "metadata": {},
     "output_type": "execute_result"
    }
   ],
   "source": [
    "# traverse parameters\n",
    "for p in linear_model.parameters():\n",
    "    print(p)\n",
    "    \n",
    "# create a list\n",
    "list(linear_model.parameters())"
   ]
  },
  {
   "cell_type": "markdown",
   "metadata": {},
   "source": [
    "##### 1.2.1 Batching inputs\n",
    "---\n",
    "En nuestro ejemplo anterior, sólo proporcionamos una única **muestra** (_sample_) al modelo. Normalmente, la entrada consistirá en un _batch_ conteniendo múltiples muestras. Esta entrada será un tensor de tamaño **_B x N_\\__in_**, donde _B_ es el tamaño del _batch_ y _N_\\__in_ el número de parámetros de entrada (_input features_).\n",
    "\n",
    "Por su parte, la salida será un tensor de tamaño **_B x N_\\__out_**, donde _B_ es el tamaño del _batch_ y _N_\\__out_ el número de valores de la salida (_output features_)\n",
    "\n",
    "Por ejemplo,"
   ]
  },
  {
   "cell_type": "code",
   "execution_count": 5,
   "metadata": {},
   "outputs": [
    {
     "data": {
      "text/plain": [
       "tensor([[0.0622],\n",
       "        [0.0622],\n",
       "        [0.0622],\n",
       "        [0.0622],\n",
       "        [0.0622],\n",
       "        [0.0622],\n",
       "        [0.0622],\n",
       "        [0.0622],\n",
       "        [0.0622],\n",
       "        [0.0622]], grad_fn=<AddmmBackward>)"
      ]
     },
     "execution_count": 5,
     "metadata": {},
     "output_type": "execute_result"
    }
   ],
   "source": [
    "x = torch.ones([10, 1])\n",
    "linear_model(x)"
   ]
  },
  {
   "cell_type": "markdown",
   "metadata": {},
   "source": [
    "En la siguiente imagen, se puede observar una situación similar. En este caso, la entrada será  **_B x C x H x W_** in consitirá en un _batch_ de 3 imágenes, 3 canales y un número determinado de píxeles. La salida será un tensor de **_B x N_\\__out_**, siendo _N_\\__out_ = 4 en este caso.\n",
    "\n",
    "<br>\n",
    "\n",
    "![data/image-lect/rgb_batch.png](data/image-lect/rgb_batch.png)\n",
    "\n",
    "<br>\n"
   ]
  },
  {
   "cell_type": "markdown",
   "metadata": {},
   "source": [
    "##### 1.2.1.1 Optimizando los batches\n",
    "___\n",
    "Las razones para enviar las muestras a la red neuronal en _batches_ son varias. Por un lado, se aprovecha mejor el alto grado de paralelización proporcionado por las GPU's. Por otro, algunos modelos avanzados, emplean informción estadística a partir del _batch_.\n",
    "\n",
    "Volviendo a nuestro ejemplo del termómetro, tanto **t_u** como **t_c** son tensores **1D**, por lo que debemos convertirlos en **matrices** donde las filas representan las **muestras** (_samples_) y las columnas los **atributos** (_features_)"
   ]
  },
  {
   "cell_type": "code",
   "execution_count": 6,
   "metadata": {},
   "outputs": [
    {
     "data": {
      "text/plain": [
       "(torch.Size([11, 1]), torch.Size([11, 1]))"
      ]
     },
     "execution_count": 6,
     "metadata": {},
     "output_type": "execute_result"
    }
   ],
   "source": [
    "# temperaturas ºC\n",
    "t_c = [0.5, 14.0, 15.0, 28.0, 11.0, 8.0, 3.0, -4.0, 6.0, 13.0, 21.0]\n",
    "\n",
    "# temperaturas en escala desconocida (unknown)\n",
    "t_u = [35.7, 55.9, 58.2, 81.9, 56.3, 48.9, 33.9, 21.8, 48.4, 60.4, 68.4]\n",
    "\n",
    "t_c = torch.tensor(t_c).unsqueeze(1) # añade la nueva dimensión en el eje 1\n",
    "t_u = torch.tensor(t_u).unsqueeze(1)\n",
    "\n",
    "t_u.shape, t_c.shape"
   ]
  },
  {
   "cell_type": "markdown",
   "metadata": {},
   "source": [
    "Vamos a actualizar ahora nuestro código para el entrenamiento"
   ]
  },
  {
   "cell_type": "code",
   "execution_count": 7,
   "metadata": {},
   "outputs": [],
   "source": [
    "import torch.nn as nn\n",
    "import torch.optim as optim\n",
    "\n",
    "linear_model = nn.Linear(1, 1)\n",
    "optimizer = optim.SGD(linear_model.parameters(), lr=1e-2)"
   ]
  },
  {
   "cell_type": "markdown",
   "metadata": {},
   "source": [
    "Lógicamente, nuestra función de entrenamiento va a sufrir pequeñas modificaciones. En lugar de pasarle los parámetros iniciales, le pasaremos el **modelo**. En lugar de emplear nuestra propia función de _loss_, le pasaremos una de las definidas en PyTorch"
   ]
  },
  {
   "cell_type": "code",
   "execution_count": 43,
   "metadata": {},
   "outputs": [],
   "source": [
    "def training_loop(n_epochs, optimizer, model, loss_fn, t_u_train, t_u_val, t_c_train, t_c_val):\n",
    "    for epoch in range(1, n_epochs+1):\n",
    "        t_p_train = model(t_u_train) # usamos el modelo suministrado\n",
    "        loss_train = loss_fn(t_p_train, t_c_train)  # calcula el error con la loss_funcion indicada\n",
    "        \n",
    "        t_p_val = model(t_u_val) # validación\n",
    "        loss_val = loss_fn(t_p_val, t_c_val)  \n",
    "\n",
    "        optimizer.zero_grad()  # inicializa los gradientes\n",
    "        loss_train.backward()        # calcula los gradientes\n",
    "        optimizer.step()       # actualiza los parámetros\n",
    "        \n",
    "        if epoch==1 or epoch%1000==0:\n",
    "            print(f\"Epoch {epoch}, Training loss {loss_train.item():.4f},\"\n",
    "                    f\" Validation loss {loss_val.item():.4f}\")"
   ]
  },
  {
   "cell_type": "markdown",
   "metadata": {},
   "source": [
    "Probemos el nuevo modelo..."
   ]
  },
  {
   "cell_type": "code",
   "execution_count": 9,
   "metadata": {},
   "outputs": [
    {
     "name": "stdout",
     "output_type": "stream",
     "text": [
      "Epoch 1, Training loss 349.1432, Validation loss 68.2939\n",
      "Epoch 1000, Training loss 5.2327, Validation loss 2.1905\n",
      "Epoch 2000, Training loss 3.2498, Validation loss 1.5185\n",
      "Epoch 3000, Training loss 3.0666, Validation loss 2.7755\n"
     ]
    }
   ],
   "source": [
    "n_samples = t_u.shape[0]\n",
    "n_val = int(0.2 * n_samples)\n",
    "\n",
    "shuffled_indices = torch.randperm(n_samples)\n",
    "\n",
    "train_indices = shuffled_indices[:-n_val]\n",
    "val_indices = shuffled_indices[-n_val:]\n",
    "\n",
    "# training dataset\n",
    "train_t_u = t_u[train_indices]\n",
    "train_t_c = t_c[train_indices]\n",
    "\n",
    "# validation dataset\n",
    "val_t_u = t_u[val_indices]\n",
    "val_t_c = t_c[val_indices]\n",
    "\n",
    "# normalization (if necessary)\n",
    "train_t_un = 0.1 * train_t_u\n",
    "val_t_un = 0.1 * val_t_u\n",
    "\n",
    "training_loop(\n",
    "    n_epochs=3000,\n",
    "    optimizer=optimizer,\n",
    "    model=linear_model,\n",
    "    loss_fn=nn.MSELoss(),\n",
    "    t_u_train=train_t_un,\n",
    "    t_u_val=val_t_un,\n",
    "    t_c_train=train_t_c,\n",
    "    t_c_val=val_t_c)"
   ]
  },
  {
   "cell_type": "code",
   "execution_count": 10,
   "metadata": {},
   "outputs": [
    {
     "data": {
      "image/png": "[encoded data removed]",
      "text/plain": [
       "<Figure size 432x288 with 1 Axes>"
      ]
     },
     "metadata": {
      "needs_background": "light"
     },
     "output_type": "display_data"
    }
   ],
   "source": [
    "from matplotlib import pyplot as plt\n",
    "\n",
    "t_x = torch.arange(15, 90).unsqueeze(1)\n",
    "t_nx = 0.1*t_x # normalize\n",
    "\n",
    "t_p = linear_model(t_nx) # predictions\n",
    "\n",
    "plt.plot(t_x, t_p.detach().numpy(), '#e377c2', zorder=1) # visualize\n",
    "plt.scatter(t_u, t_c, zorder=2)\n",
    "\n",
    "plt.title(\"Aproximando la función\")\n",
    "plt.ylabel(\"Temperatura ºC\")\n",
    "plt.xlabel(\"Medida termómetro\")\n",
    "plt.show()"
   ]
  },
  {
   "cell_type": "markdown",
   "metadata": {},
   "source": [
    "### 1.3 _nn.Sequential_\n",
    "___\n",
    "Vamos a reemplazar nuestro modelo lineal por una **red neuronal** como función de aproximación. Dado que, en este caso, nuestro problema es fundamentalmente lineal, esta solución no es la más apropiada pero nos servirá como ejemplo de implementación.\n",
    "\n",
    "Del código anterior, sólo tendremos que reemplazar el **modelo**. Construiremos la red neuronal más simple posible: un módulo lineal seguido por una función de activación que, a su vez, alimentarán otro módulo lineal. La primera capa (primer módulo lineal + activación) se denomina **_capa oculta (hidden layer)_**, ya que su salida no es directamente observable sino que alimenta a la **_capa de salida (output layer)_**. Mientras que la entrada y salida de la red son ambos 1 (en este caso), la salida del primer módulo lineal es generalmente mayor que 1. Esto deriva en que diferentes unidades de nuestro modelo responderán a rangos diferentes de la entrada, lo que incrementa la capacidad de nuestro modelo. La última capa lineal combinará linealmente las salidas de las activaciones de la _capa oculta_ para producir el valor de salida.\n",
    "\n",
    "En la siguiente imagen, podemos ver dos formas alternativas de representar redes neuronales:\n",
    "\n",
    "<br>\n",
    "\n",
    "![data/image-lect/ann_repr.png](data/image-lect/ann_repr.png)\n",
    "\n",
    "<br>"
   ]
  },
  {
   "cell_type": "markdown",
   "metadata": {},
   "source": [
    "#### 1.3.1 _nn.Sequential_\n",
    "___\n",
    "El módulo **_nn_** proporciona un mecanismo simple para la concatenación de módulo: el contenedor **_nn.Sequential_**"
   ]
  },
  {
   "cell_type": "code",
   "execution_count": 11,
   "metadata": {},
   "outputs": [
    {
     "data": {
      "text/plain": [
       "Sequential(\n",
       "  (0): Linear(in_features=1, out_features=13, bias=True)\n",
       "  (1): Tanh()\n",
       "  (2): Linear(in_features=13, out_features=1, bias=True)\n",
       ")"
      ]
     },
     "execution_count": 11,
     "metadata": {},
     "output_type": "execute_result"
    }
   ],
   "source": [
    "seq_model = nn.Sequential(\n",
    "            nn.Linear(1, 13),\n",
    "            nn.Tanh(),\n",
    "            nn.Linear(13, 1))\n",
    "seq_model"
   ]
  },
  {
   "cell_type": "markdown",
   "metadata": {},
   "source": [
    "El modelo anterior recibe un atributo de entrada (_feature_) y lo deriva sobre 13 unidades, cada una con su función lineal (con sus correspondientes parámetros, tantos como _input features_ más el _bias_) y su función de activación (_tanh_ en este caso). Las salidas de estas unidades se combinan _linealmente_ para generar una única salida (1 _output feature_)"
   ]
  },
  {
   "cell_type": "markdown",
   "metadata": {},
   "source": [
    "##### 1.3.1.1 Inspeccionando los parámetros\n",
    "___\n",
    "La invocación de **_model.parameters()_** nod devolverá el **_weight_** y **_bias_** del primer y segundo módulos lineales."
   ]
  },
  {
   "cell_type": "code",
   "execution_count": 18,
   "metadata": {},
   "outputs": [
    {
     "data": {
      "text/plain": [
       "[torch.Size([13, 1]), torch.Size([13]), torch.Size([1, 13]), torch.Size([1])]"
      ]
     },
     "execution_count": 18,
     "metadata": {},
     "output_type": "execute_result"
    }
   ],
   "source": [
    "# params shape\n",
    "[param.shape for param in seq_model.parameters()]"
   ]
  },
  {
   "cell_type": "code",
   "execution_count": 27,
   "metadata": {},
   "outputs": [
    {
     "name": "stdout",
     "output_type": "stream",
     "text": [
      "HIDDEN LAYER:\n",
      "--> hidden_layer linear weights [unit, w]: torch.Size([13, 1])\n",
      "Parameter containing:\n",
      "tensor([[-0.4706],\n",
      "        [-0.9453],\n",
      "        [-0.9112],\n",
      "        [-0.6549],\n",
      "        [-0.4481],\n",
      "        [-0.8820],\n",
      "        [ 0.4000],\n",
      "        [-0.7400],\n",
      "        [ 0.7559],\n",
      "        [ 0.1205],\n",
      "        [-0.2735],\n",
      "        [-0.3420],\n",
      "        [-0.5090]], requires_grad=True)\n",
      "--> hidden_layer linear bias [unit, b]: torch.Size([13])\n",
      "Parameter containing:\n",
      "tensor([-0.6323,  0.6508,  0.3101,  0.7852, -0.6560, -0.4273, -0.3161,  0.0783,\n",
      "        -0.3875,  0.6387, -0.5971, -0.0456, -0.0661], requires_grad=True)\n",
      "OUTPUT LAYER:\n",
      "--> output_layer linear weights [unit, w]: torch.Size([1, 13])\n",
      "Parameter containing:\n",
      "tensor([[-0.1106, -0.2771, -0.2056, -0.2535, -0.2681,  0.2159,  0.0320, -0.0974,\n",
      "         -0.2637,  0.2323, -0.2323,  0.0878, -0.0679]], requires_grad=True)\n",
      "--> output_layer linear bias [unit, b]: torch.Size([1])\n",
      "Parameter containing:\n",
      "tensor([0.1662], requires_grad=True)\n"
     ]
    }
   ],
   "source": [
    "params = list(seq_model.parameters())\n",
    "print(\"HIDDEN LAYER:\")\n",
    "print(f\"--> hidden_layer linear weights [unit, w]: {params[0].shape}\\n{params[0]}\")\n",
    "print(f\"--> hidden_layer linear bias [unit, b]: {params[1].shape}\\n{params[1]}\")\n",
    "print(\"OUTPUT LAYER:\")\n",
    "print(f\"--> output_layer linear weights [unit, w]: {params[2].shape}\\n{params[2]}\")\n",
    "print(f\"--> output_layer linear bias [unit, b]: {params[3].shape}\\n{params[3]}\")"
   ]
  },
  {
   "cell_type": "markdown",
   "metadata": {},
   "source": [
    "           tanh(w1_0*a0 + b1_0) = z1_0\n",
    "           tanh(w1_1*a0 + b1_1) = z1_1\n",
    "    a0 --> tanh(w1_2*a0 + b1_2) = z1_2 --> (w2_0*z1_0 + w2_1*z1_1 + ... + \n",
    "                                            w2_12*z1_12 + b2_0)\n",
    "                ... (13) ...\n",
    "           tanh(w1_12*a0 + b1_12) = z1_12\n",
    "\n",
    "          "
   ]
  },
  {
   "cell_type": "markdown",
   "metadata": {},
   "source": [
    "En general, cuando inspeccionamos los parámetros de de un modelo formado por varios submódulos, es conveniente identificar los parámetros por nombre. Existe un método para ello denominado **_named_\\__parameters_**. El nombre de cada módulo será simplemente el ordinal del módulo cuando fue creada la secuencia."
   ]
  },
  {
   "cell_type": "code",
   "execution_count": 30,
   "metadata": {},
   "outputs": [
    {
     "name": "stdout",
     "output_type": "stream",
     "text": [
      "0.weight torch.Size([13, 1])\n",
      "0.bias torch.Size([13])\n",
      "2.weight torch.Size([1, 13])\n",
      "2.bias torch.Size([1])\n"
     ]
    }
   ],
   "source": [
    "for name, param in seq_model.named_parameters():\n",
    "    print(name, param.shape)"
   ]
  },
  {
   "cell_type": "markdown",
   "metadata": {},
   "source": [
    "Por otro lado, **_Sequential_** también acepta un **_OrderedDict_** en el que podemos indicar el nombre de cada módulo:"
   ]
  },
  {
   "cell_type": "code",
   "execution_count": 47,
   "metadata": {},
   "outputs": [
    {
     "name": "stdout",
     "output_type": "stream",
     "text": [
      "hidden_linear.weight torch.Size([8, 1])\n",
      "hidden_linear.bias torch.Size([8])\n",
      "output_linear.weight torch.Size([1, 8])\n",
      "output_linear.bias torch.Size([1])\n"
     ]
    }
   ],
   "source": [
    "from collections import OrderedDict\n",
    "\n",
    "seq_model = nn.Sequential(OrderedDict([\n",
    "            ('hidden_linear', nn.Linear(1, 8)),\n",
    "            ('hidden_activation', nn.Tanh()),\n",
    "            ('output_linear', nn.Linear(8, 1))\n",
    "]))\n",
    "\n",
    "for name, param in seq_model.named_parameters():\n",
    "    print(name, param.shape)"
   ]
  },
  {
   "cell_type": "markdown",
   "metadata": {},
   "source": [
    "Además podremos acceder directamente a un _Parameter_ usando el _submodulo_ como atributo"
   ]
  },
  {
   "cell_type": "code",
   "execution_count": 34,
   "metadata": {},
   "outputs": [
    {
     "data": {
      "text/plain": [
       "Parameter containing:\n",
       "tensor([-0.3330], requires_grad=True)"
      ]
     },
     "execution_count": 34,
     "metadata": {},
     "output_type": "execute_result"
    }
   ],
   "source": [
    "seq_model.output_linear.bias"
   ]
  },
  {
   "cell_type": "markdown",
   "metadata": {},
   "source": [
    "##### 1.3.1.2 Probando el nuevo modelo\n",
    "___\n",
    "Para probar el nuevo modelo, no tenemos más que pasárselo a nuestro nuevo método de entrenamiento"
   ]
  },
  {
   "cell_type": "code",
   "execution_count": 48,
   "metadata": {},
   "outputs": [
    {
     "name": "stdout",
     "output_type": "stream",
     "text": [
      "Epoch 1, Training loss 226.9303, Validation loss 42.8379\n",
      "Epoch 1000, Training loss 5.1758, Validation loss 2.1434\n",
      "Epoch 2000, Training loss 5.5477, Validation loss 4.3047\n",
      "Epoch 3000, Training loss 3.1169, Validation loss 5.3812\n",
      "Epoch 4000, Training loss 2.2835, Validation loss 6.1796\n",
      "Epoch 5000, Training loss 2.0433, Validation loss 6.6167\n"
     ]
    }
   ],
   "source": [
    "optimizer = optim.SGD(seq_model.parameters(), lr=1e-3) # <-- parameters del nuevo modelo\n",
    "training_loop(\n",
    "    n_epochs=5000,\n",
    "    optimizer=optimizer,\n",
    "    model=seq_model,       # <-- ANN model\n",
    "    loss_fn=nn.MSELoss(),\n",
    "    t_u_train=train_t_un,\n",
    "    t_u_val=val_t_un,\n",
    "    t_c_train=train_t_c,\n",
    "    t_c_val=val_t_c)"
   ]
  },
  {
   "cell_type": "code",
   "execution_count": 49,
   "metadata": {},
   "outputs": [
    {
     "data": {
      "image/png": "[encoded data removed]",
      "text/plain": [
       "<Figure size 432x288 with 1 Axes>"
      ]
     },
     "metadata": {
      "needs_background": "light"
     },
     "output_type": "display_data"
    }
   ],
   "source": [
    "from matplotlib import pyplot as plt\n",
    "\n",
    "t_x = torch.arange(15, 90).unsqueeze(1)\n",
    "t_nx = 0.1*t_x # normalize\n",
    "\n",
    "t_p = seq_model(t_nx) # predictions\n",
    "\n",
    "plt.plot(t_x, t_p.detach().numpy(), '#e377c2', zorder=1) # visualize\n",
    "plt.scatter(t_u, t_c, zorder=2)\n",
    "\n",
    "plt.title(\"Aproximando la función\")\n",
    "plt.ylabel(\"Temperatura ºC\")\n",
    "plt.xlabel(\"Medida termómetro\")\n",
    "plt.show()"
   ]
  }
 ],
 "metadata": {
  "kernelspec": {
   "display_name": "Python 3",
   "language": "python",
   "name": "python3"
  },
  "language_info": {
   "codemirror_mode": {
    "name": "ipython",
    "version": 3
   },
   "file_extension": ".py",
   "mimetype": "text/x-python",
   "name": "python",
   "nbconvert_exporter": "python",
   "pygments_lexer": "ipython3",
   "version": "3.8.5"
  }
 },
 "nbformat": 4,
 "nbformat_minor": 4
}
