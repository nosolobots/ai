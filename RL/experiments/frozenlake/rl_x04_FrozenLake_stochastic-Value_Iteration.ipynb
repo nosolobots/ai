{
 "cells": [
  {
   "cell_type": "markdown",
   "metadata": {},
   "source": [
    "#### [RL-X-04]\n",
    "## OpenAI gym FrozenLake-v0 (stochastic)\n",
    "_Value Iteration Algorithm_\n",
    "---\n",
    "[FrozenLake-v0 doc](https://gym.openai.com/envs/FrozenLake-v0/)\n",
    "\n",
    "[FrozenLake-v0 src](https://github.com/openai/gym/tree/master/gym/envs/toy_text/frozen_lake.py)\n",
    "\n",
    "---"
   ]
  },
  {
   "cell_type": "markdown",
   "metadata": {},
   "source": [
    "### 1. Funciones V y Q\n",
    "---\n",
    "La **función de Valor** (_Value function_), **V(s)**, representa **cómo de bueno** es para el agente encontrarse en un determinado estado. Es igual al **retorno** (recompensa total futura) empezando desde dicho estado _s_.\n",
    "\n",
    "Dado que el retorno puede ser distinto en cada episodio, empleamos la **esperanza matemática** del retorno con descuento promediando múltiples episodios (sumatorio de la probabilidad de cada suceso aleatorio por el valor de dicho suceso).\n",
    "\n",
    "Para un entorno estocástico, tendremos que:\n",
    "\n",
    "<br><img src=\"funcion_v.png\"/><br>\n",
    "\n",
    "\n",
    "La función de Valor depende de la política (_policy_) seguida por el agente para tomar acciones:\n",
    "\n",
    "<br><img src=\"value_function.png\" width=400/><br>\n",
    "\n",
    "donde **T** es la longitud del episodio (_steps_) y **𝛾** el factor de descuento (_discount factor_) con valor ```[0,1)```. **E(x)** representa la esperanza matemática ó valor medio de una variable aleatoria _x_.\n",
    "\n",
    "Dado que pueden existir múltiples políticas, existe una **función de Valor óptima** que presentará el valor más alto para cada uno de los diferentes estados:\n",
    "\n",
    "<br><img src=\"value_function_star.png\" width=400/><br>\n",
    "\n",
    "Siendo la **política óptima** la que se corresponda con la **función de Valor óptima**:\n",
    "\n",
    "<br><img src=\"policy_star.png\" width=400/><br>\n",
    "\n",
    "Por otro lado, relacionando nuestra nueva **función de Valor** con la **función Q**, que es una indicación de **cómo de bueno** es realizar una acción estando en un estado determinado, obtendremos:\n",
    "\n",
    "<br><img src=\"value_q_star.png\" width=400/><br>\n",
    "\n",
    "Y si conocemos la **función Q óptima**, la **política óptima** se puede extraer facilmente eligiendo la acción que nos proporcione el mejor valor de **Q(s,a)** para un estado _s_.\n",
    "\n",
    "<br><img src=\"policy_q_star.png\" width=400/><br>\n",
    "\n",
    "Finalmente, relacionando las ecuaciones anteriores con la **ecuación de Bellman**, llegaremos a:\n",
    "\n",
    "<br><img src=\"value_bellman.png\" width=450/><br>\n",
    "\n"
   ]
  },
  {
   "cell_type": "markdown",
   "metadata": {},
   "source": [
    "### 2. Value Iteration\n",
    "---\n",
    "El método de **Value Iteration** trata de computar la **función de Valor óptima** de los estados a partir de estimaciones sucesivas de **V(s)**. Partiendo de valores arbitrarios de **V(s)** (por ejemplo, cero), se irá actualizando el valor de cada estado (calculando Q(s, a)) hasta que la función **converja**.\n",
    "\n",
    "De las ecuaciones anteriores observamos que necesitamos conocer la tabla de transiciones **p** del entorno. Esta tabla contiene las probabilidades de \"saltar\" desde un estado a otro tras tomar una determinada acción. Es por ello que se trata de un método **model-based**, donde podremos calcular dicha función de Valor óptima y la política a seguir antes de que el agente interaccione con el entorno. En contraposición, con los métodos **model-free**, el agente debe interactuar con el entorno para ir obteniendo información de él que le lleve a tomar mejores decisiones.\n",
    "\n",
    "<br>\n",
    "\n",
    "##### Algoritmo:\n",
    "\n",
    "<br><img src=\"value_iter_algo.png\" width=600/><br>\n"
   ]
  },
  {
   "cell_type": "markdown",
   "metadata": {},
   "source": [
    "### 3. Implementación\n",
    "#### 3.1. El modelo (agente)\n",
    "---"
   ]
  },
  {
   "cell_type": "code",
   "execution_count": 2,
   "metadata": {},
   "outputs": [],
   "source": [
    "import torch\n",
    "import numpy as np\n",
    "\n",
    "class FrozenLakeAgent_VI():\n",
    "    \"\"\"Agent class for deterministic/stochastic FrozenLake environment.\n",
    "    \n",
    "       Implementation fo the value-iteration algorithm.\n",
    "    \"\"\"\n",
    "    def __init__(self, env, gamma=1.0):\n",
    "        self._env = env\n",
    "        self._nA = env.action_space.n\n",
    "        self._nS = env.observation_space.n\n",
    "        self._P = env.P\n",
    "        self._gamma = gamma\n",
    "        self._state = 0\n",
    "        self._V = torch.zeros(self._nS)\n",
    "\n",
    "    @property\n",
    "    def state(self):\n",
    "        return self._state\n",
    "    \n",
    "    @state.setter\n",
    "    def state(self, s):\n",
    "        self._state = s\n",
    "        \n",
    "    def reset(self, state=0):\n",
    "        self._state = state\n",
    "        \n",
    "    def select_action(self):\n",
    "        \"\"\"Selecciona la acción que maximiza Q(s,a) para el estado actual.\"\"\"\n",
    "        return np.argmax([self.get_action_value(self._state, a_) \n",
    "                          for a_ in range(self._nA)])\n",
    "    \n",
    "    def get_action_value(self, s, a):\n",
    "        return sum([p * (r + self._gamma * self._V[s_]) for p, s_, r, _ in self._P[s][a]])\n",
    "\n",
    "    def value_iteration(self):\n",
    "        \"\"\"Actualiza el valor de los estados al máximo de los Q(s,a) del estado.\"\"\"\n",
    "        for s_ in range(self._nS):\n",
    "            self._V[s_] = max([self.get_action_value(s_, a_)\n",
    "                                for a_ in range(self._env.action_space.n)])\n",
    "    \"\"\"\n",
    "    def train(self, eps=1E-12, num_iter=0, output=True):\n",
    "        #Estimates the V values of the environment.\n",
    "        #By default, the loop iterates until convergence.\n",
    "        #Alternatively, you can supply number of iterations\n",
    "        \n",
    "        if output: print(\"Training...\")\n",
    "        \n",
    "        # Initialize V values of every state\n",
    "        self._V = torch.zeros(self._nS)\n",
    "        \n",
    "        # repeat until convergence or number of iterations\n",
    "        niter = 0\n",
    "        while True:\n",
    "            new_V = torch.zeros(self._nS)\n",
    "            for s in range(self._nS): # for every state\n",
    "                Qs = torch.zeros(self._nA)\n",
    "                for a in range(self._nA): # for every action\n",
    "                    Qs[a] = self.get_action_value(s, a)\n",
    "                new_V[s] = torch.max(Qs)\n",
    "            niter += 1\n",
    "            convg = torch.square(self._V - new_V).mean().item() # convergence: Mean Square Error\n",
    "            self._V = new_V.detach().clone() # update V values\n",
    "            if num_iter:\n",
    "                if niter == num_iter: break\n",
    "            elif convg < eps: break\n",
    "        \n",
    "        if output: print(f\"Num of iterations: {niter}\\nConvergence: {convg:.6f}\")\n",
    "    \"\"\"            \n",
    "    def load_model(self, file_name):\n",
    "        nV = np.loadtxt(file_name, dtype=np.float32, delimiter=\";\")\n",
    "        self._V = torch.from_numpy(nV)\n",
    "        \n",
    "    def save_model(self, file_name):\n",
    "        np.savetxt(file_name, self._V.detach().cpu().numpy(), delimiter=\";\")\n",
    "        \n",
    "    def print_model(self):\n",
    "        # show V-values\n",
    "        print(\"\\nV-values:\")\n",
    "        print(\"=\" * 9)        \n",
    "        for r in range(self._V.shape[0]):\n",
    "            print(f\"{r:02d}: {self._V[r]:.9f}\")\n",
    "            \n",
    "    def get_policy(self):\n",
    "        \"\"\"Devuelve la política que maximiza el valor de Q(s,a).\"\"\"\n",
    "        policy = np.zeros(self._nS, dtype=int)\n",
    "        for s in range(self._nS):\n",
    "            policy[s] = np.argmax([self.get_action_value(s, a_)\n",
    "                                   for a_ in range(self._nA)])\n",
    "        return policy\n",
    "    \n",
    "    def print_policy(self):\n",
    "        policy = self.get_policy()\n",
    "        arrows = ('←', '↓', '→', '↑')\n",
    "        print(\"\\nPolicy:\")\n",
    "        print(\"=\" * 7, end=\"\")        \n",
    "        nsq = int(np.sqrt(self._nS))\n",
    "        for s in range(self._nS):\n",
    "            if s % nsq == 0: print()\n",
    "            print(arrows[policy[s]], end=\" \")"
   ]
  },
  {
   "cell_type": "markdown",
   "metadata": {},
   "source": [
    "### 4. Entrenando el agente (recompensa media)\n",
    "----\n",
    "La forma de entrenar a nuestro agente será la siguiente: \n",
    "1. Actualizaremos la función valor de estado (V) del agente (value_iteration method)\n",
    "2. Ejecutaremos una iteración de N episodios y calcularemos la recompensa media de dichos episodios\n",
    "3. Repetiremos el proceso hasta alcanzar el valor umbral deseado de recompensa media"
   ]
  },
  {
   "cell_type": "markdown",
   "metadata": {},
   "source": [
    "La siguiente celda crea la función encargada de lanzar cada una de las iteraciones compuestas de N episodios para testear el comportamiento del agente"
   ]
  },
  {
   "cell_type": "code",
   "execution_count": 3,
   "metadata": {},
   "outputs": [],
   "source": [
    "from time import sleep\n",
    "\n",
    "def process_iteration(agent, n, show=False, pause=.0):\n",
    "    \"\"\"Lanza una iteración de N episodios y devuelve la recompesa media.\"\"\"\n",
    "    it_rwd = 0\n",
    "    for i in range(n):\n",
    "        eps_rwd = 0.0\n",
    "\n",
    "        state = agent._env.reset()\n",
    "        if show:\n",
    "            agent._env.render()\n",
    "            sleep(pause)\n",
    "\n",
    "        is_done = False\n",
    "        while not is_done:\n",
    "            action = agent.select_action()\n",
    "            new_state, rwd, is_done, _ = agent._env.step(action)\n",
    "            eps_rwd += rwd\n",
    "            agent.state = new_state\n",
    "            if show:\n",
    "                agent._env.render()\n",
    "                sleep(pause)\n",
    "\n",
    "        it_rwd += eps_rwd\n",
    "\n",
    "    return it_rwd/n"
   ]
  },
  {
   "cell_type": "markdown",
   "metadata": {},
   "source": [
    "Creamos ahora el bucle principal de entrenamiento que finalizará cuando se alcance la convergencia. \n",
    "\n",
    "Vamos a usar **tensorboard** para registrar la recompensa media en cada iteración y poder visualizar el proceso de aprendizaje a medida que avanzan las iteraciones de entrenamiento."
   ]
  },
  {
   "cell_type": "code",
   "execution_count": 4,
   "metadata": {},
   "outputs": [],
   "source": [
    "%load_ext tensorboard"
   ]
  },
  {
   "cell_type": "code",
   "execution_count": 5,
   "metadata": {
    "scrolled": false
   },
   "outputs": [
    {
     "name": "stdout",
     "output_type": "stream",
     "text": [
      "pygame 2.0.1 (SDL 2.0.14, Python 3.8.10)\n",
      "Hello from the pygame community. https://www.pygame.org/contribute.html\n",
      "Best reward updated 0.28 at iteration 3\n",
      "Best reward updated 0.33 at iteration 4\n",
      "Best reward updated 0.45 at iteration 6\n",
      "Best reward updated 0.57 at iteration 7\n",
      "Best reward updated 0.60 at iteration 14\n",
      "Best reward updated 0.82 at iteration 15\n",
      "Best reward updated 0.90 at iteration 29\n",
      "\n",
      "Saving model... OK\n",
      "\n",
      "V-values:\n",
      "=========\n",
      "00: 0.161732376\n",
      "01: 0.140273377\n",
      "02: 0.143842757\n",
      "03: 0.122078776\n",
      "04: 0.193592727\n",
      "05: 0.000000000\n",
      "06: 0.171827495\n",
      "07: 0.000000000\n",
      "08: 0.259216309\n",
      "09: 0.367933512\n",
      "10: 0.399298787\n",
      "11: 0.000000000\n",
      "12: 0.000000000\n",
      "13: 0.504457831\n",
      "14: 0.721452773\n",
      "15: 0.000000000\n",
      "\n",
      "Policy:\n",
      "=======\n",
      "← ↑ ← ↑ \n",
      "← ← ← ← \n",
      "↑ ↓ ← ← \n",
      "← → ↓ ← "
     ]
    }
   ],
   "source": [
    "# Import the wrapper library\n",
    "import sys\n",
    "sys.path.insert(0, \"../lib/gym_wrappers\")\n",
    "from frozen_lake_wrappers import FrozenLakeWinWrapper\n",
    "\n",
    "import gym\n",
    "from torch.utils.tensorboard import SummaryWriter\n",
    "\n",
    "# -- TUNNING ----------------------------------------------------------------------\n",
    "_TEST_EPISODES = 40\n",
    "_GAMMA = 0.95  \n",
    "_RWD_THRESHOLD = 0.9\n",
    "# ---------------------------------------------------------------------------------\n",
    "\n",
    "# create the environment wrapper\n",
    "#env = FrozenLakeWinWrapper(\"Demo\", slippery=True, render=False)\n",
    "env = gym.make(\"FrozenLake-v0\")\n",
    "\n",
    "# the agent\n",
    "agent = FrozenLakeAgent_VI(env, gamma=_GAMMA)\n",
    "\n",
    "# ---------------------------------------------------------------------------------\n",
    "# TRAINING\n",
    "# ---------------------------------------------------------------------------------\n",
    "\n",
    "# Tensorboard record file init\n",
    "writer = SummaryWriter(\"runs/working_directory\")\n",
    "\n",
    "it = 0\n",
    "best_rwd = 0.0\n",
    "while best_rwd < _RWD_THRESHOLD:\n",
    "    agent.value_iteration() # actualiza el valor de los estados\n",
    "\n",
    "    it += 1 # iteración\n",
    "\n",
    "    # lanza una iteración de N episodios y obtiene la recompensa media\n",
    "    it_rwd = process_iteration(agent, _TEST_EPISODES)\n",
    "\n",
    "    # guardamos la recompensa media para Tensorboard\n",
    "    writer.add_scalar(\"reward\", it_rwd, it)\n",
    "\n",
    "    if it_rwd > best_rwd:\n",
    "        print(f\"Best reward updated {it_rwd:.2f} at iteration {it}\")\n",
    "        best_rwd = it_rwd\n",
    "\n",
    "# Tensorboard file close\n",
    "writer.close()\n",
    "# ---------------------------------------------------------------------------------\n",
    "\n",
    "# save model\n",
    "print(\"\\nSaving model... \", end=\"\")\n",
    "agent.save_model(\"frozenlake_VI_model.csv\")\n",
    "print(\"OK\")\n",
    "\n",
    "# show V-values\n",
    "agent.print_model()\n",
    "agent.print_policy()"
   ]
  },
  {
   "cell_type": "code",
   "execution_count": 6,
   "metadata": {},
   "outputs": [
    {
     "data": {
      "text/html": [
       "\n",
       "      <iframe id=\"tensorboard-frame-62d995a61c6c11f6\" width=\"100%\" height=\"800\" frameborder=\"0\">\n",
       "      </iframe>\n",
       "      <script>\n",
       "        (function() {\n",
       "          const frame = document.getElementById(\"tensorboard-frame-62d995a61c6c11f6\");\n",
       "          const url = new URL(\"/\", window.location);\n",
       "          const port = 6006;\n",
       "          if (port) {\n",
       "            url.port = port;\n",
       "          }\n",
       "          frame.src = url;\n",
       "        })();\n",
       "      </script>\n",
       "    "
      ],
      "text/plain": [
       "<IPython.core.display.HTML object>"
      ]
     },
     "metadata": {},
     "output_type": "display_data"
    }
   ],
   "source": [
    "tensorboard --logdir=\"runs\""
   ]
  },
  {
   "cell_type": "markdown",
   "metadata": {},
   "source": [
    "### 5. Evaluando al agente\n",
    "----\n",
    "Vamos a resolver una serie de episodios con el modelo entrenado previamente para analizar cómo se comporta el agente en este entorno estocástico"
   ]
  },
  {
   "cell_type": "code",
   "execution_count": 7,
   "metadata": {
    "scrolled": false
   },
   "outputs": [
    {
     "data": {
      "application/vnd.jupyter.widget-view+json": {
       "model_id": "e2c3d51aba2c43a8814465451d9f3a67",
       "version_major": 2,
       "version_minor": 0
      },
      "text/plain": [
       "IntProgress(value=0, description='Episodes [250]:', max=250, style=ProgressStyle(bar_color='#44a0fd'))"
      ]
     },
     "metadata": {},
     "output_type": "display_data"
    },
    {
     "name": "stdout",
     "output_type": "stream",
     "text": [
      "Cargando el modelo... OK\n",
      "\n",
      "Episodes solved:  178\n",
      "Average episodes solved:  0.712\n",
      "\n",
      "Average steps:  43.72\n"
     ]
    },
    {
     "data": {
      "image/png": "[encoded data removed]",
      "text/plain": [
       "<Figure size 432x288 with 1 Axes>"
      ]
     },
     "metadata": {
      "needs_background": "light"
     },
     "output_type": "display_data"
    },
    {
     "name": "stdout",
     "output_type": "stream",
     "text": [
      "\n",
      "Average reward:  0.712\n"
     ]
    },
    {
     "data": {
      "image/png": "[encoded data removed]",
      "text/plain": [
       "<Figure size 432x288 with 1 Axes>"
      ]
     },
     "metadata": {
      "needs_background": "light"
     },
     "output_type": "display_data"
    }
   ],
   "source": [
    "# Jupyter widgets\n",
    "import ipywidgets as widgets\n",
    "\n",
    "# Import the wrapper library\n",
    "import sys\n",
    "sys.path.insert(0, \"../lib/gym_wrappers\")\n",
    "from frozen_lake_wrappers import FrozenLakeWinWrapper\n",
    "\n",
    "import time\n",
    "import torch\n",
    "from matplotlib import pyplot as plt\n",
    "\n",
    "# -- TUNNING ----------------------------------------------------------------------\n",
    "_EPISODES = 250\n",
    "_GAMMA = 1  \n",
    "# ---------------------------------------------------------------------------------\n",
    "\n",
    "# progress bar widget\n",
    "w_bar = widgets.IntProgress(\n",
    "    value=0,\n",
    "    min=0,\n",
    "    max=_EPISODES,\n",
    "    description=f'Episodes [{_EPISODES}]:',\n",
    "    bar_style='', # 'success', 'info', 'warning', 'danger' or ''\n",
    "    style={'bar_color': '#44a0fd'},\n",
    "    orientation='horizontal'\n",
    ")\n",
    "display(w_bar)\n",
    "\n",
    "# create the environment wrapper\n",
    "env = FrozenLakeWinWrapper(\"Demo\", slippery=True, render=False)\n",
    "\n",
    "# Agent\n",
    "agent = FrozenLakeAgent_VI(env)\n",
    "\n",
    "# load model\n",
    "print(\"Cargando el modelo... \", end=\"\")\n",
    "agent.load_model(\"frozenlake_VI_model.csv\")\n",
    "print(\"OK\")\n",
    "\n",
    "# stats\n",
    "episodes_rewards = []\n",
    "episodes_steps = []\n",
    "episodes_solved = []\n",
    "\n",
    "for i in range(_EPISODES):\n",
    "    # widget update\n",
    "    w_bar.description = f'Episode [{i+1:03}]:'\n",
    "    w_bar.value = i+1\n",
    "    \n",
    "    eps_steps = 0  # total episode steps\n",
    "    eps_reward = 0 # total episode reward\n",
    "    \n",
    "    state = env.reset() # initial state\n",
    "    agent.reset(state)\n",
    "    \n",
    "    done = False  # episode done?\n",
    "    while not done:\n",
    "        # perform action\n",
    "        new_state, reward, done, _ = env.step(agent.select_action())\n",
    "        \n",
    "        # update agent state\n",
    "        agent.state = new_state\n",
    "        \n",
    "        # update stats\n",
    "        eps_steps += 1\n",
    "        eps_reward += reward\n",
    "        \n",
    "    episodes_rewards.append(eps_reward)\n",
    "    episodes_steps.append(eps_steps)\n",
    "    episodes_solved.append(1 if env.goal else 0)\n",
    "            \n",
    "# show stats\n",
    "print(f\"\\nEpisodes solved: \", sum(episodes_solved))\n",
    "print(f\"Average episodes solved: \", sum(episodes_solved)/len(episodes_solved))\n",
    "\n",
    "print(f\"\\nAverage steps: \", sum(episodes_steps)/len(episodes_steps))\n",
    "plt.plot(episodes_steps)\n",
    "plt.title(\"steps per episode\")\n",
    "plt.show()\n",
    "\n",
    "print(f\"\\nAverage reward: \", sum(episodes_rewards)/len(episodes_rewards))\n",
    "\n",
    "plt.plot(episodes_rewards)\n",
    "plt.title(\"reward per episode\")\n",
    "plt.show()"
   ]
  },
  {
   "cell_type": "markdown",
   "metadata": {},
   "source": [
    "### 6. Visualizando el agente\n",
    "----\n",
    "De los resultados anteriores podemos comprobar que se trata de un rendimiento bastante decente para este entorno estocástico. En general, si analizamos la política del agente (mostrada al final del entrenamiento), éste va a tratar de evitar aquellas acciones que puedan provocar una caída en un hoyo. Por ello, el número de pasos hasta encontrar la salida es muy elevado (en promedio: ~40).\n",
    "\n",
    "Vamos a ejecutar varios espisodios de muestra con la visualización activada"
   ]
  },
  {
   "cell_type": "code",
   "execution_count": 8,
   "metadata": {},
   "outputs": [
    {
     "name": "stdout",
     "output_type": "stream",
     "text": [
      "Cargando el modelo... OK\n",
      "\n",
      "Episode: 1... goal! (episode done)\n",
      "\n",
      "Episode: 2... goal! (episode done)\n",
      "\n",
      "Episode: 3... goal! (episode done)\n"
     ]
    }
   ],
   "source": [
    "# -- TUNNING ----------------------------------------------------------------------\n",
    "_EPISODES = 3\n",
    "# ---------------------------------------------------------------------------------\n",
    "\n",
    "# create the environment wrapper\n",
    "env = FrozenLakeWinWrapper(\"Demo\", slippery=True, sound=True)\n",
    "\n",
    "env.set_im_goal('art/batt.png')\n",
    "\n",
    "env.hole_color = (25, 25, 25)\n",
    "env.grid_color = (220, 220, 255)\n",
    "env.home_color = (200, 255, 200)\n",
    "env.goal_color = (255, 200, 200)\n",
    "\n",
    "# Agent\n",
    "agent = FrozenLakeAgent_VI(env)\n",
    "\n",
    "# load model\n",
    "print(\"Cargando el modelo... \", end=\"\")\n",
    "agent.load_model(\"frozenlake_VI_model.csv\")\n",
    "print(\"OK\")\n",
    "\n",
    "for i in range(_EPISODES):\n",
    "    print(f\"\\nEpisode: {i+1}... \", end=\"\")\n",
    "    \n",
    "    # initial state\n",
    "    state = env.reset() \n",
    "    agent.reset(state)\n",
    "    \n",
    "    env.run_once()\n",
    "    time.sleep(1)\n",
    "    \n",
    "    done = False  # episode done?\n",
    "    while env.is_alive and not done:\n",
    "        # perform action\n",
    "        new_state, reward, done, _ = env.step(agent.select_action())\n",
    "        \n",
    "        # update agent state\n",
    "        agent.state = new_state\n",
    "        \n",
    "        # update window\n",
    "        env.run_once()\n",
    "        time.sleep(0.25)\n",
    "    \n",
    "    if env.goal: print(\"goal! \", end=\"\")\n",
    "    print(\"(episode done)\")\n",
    "    time.sleep(1)\n",
    "    \n",
    "    if not env.is_alive:\n",
    "        break\n",
    "\n",
    "# wait until window closes\n",
    "while env.is_alive:\n",
    "    env.run_once()"
   ]
  }
 ],
 "metadata": {
  "kernelspec": {
   "display_name": "Python 3.6.9 64-bit",
   "language": "python",
   "name": "python36964bit09843068ca764152bafed6cbc49e42a2"
  },
  "language_info": {
   "codemirror_mode": {
    "name": "ipython",
    "version": 3
   },
   "file_extension": ".py",
   "mimetype": "text/x-python",
   "name": "python",
   "nbconvert_exporter": "python",
   "pygments_lexer": "ipython3",
   "version": "3.8.10"
  }
 },
 "nbformat": 4,
 "nbformat_minor": 4
}
