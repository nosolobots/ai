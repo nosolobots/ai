{
 "cells": [
  {
   "cell_type": "markdown",
   "id": "144b275b",
   "metadata": {},
   "source": [
    "### 1. TicTacToe (3-en-raya)\n",
    "---"
   ]
  },
  {
   "cell_type": "markdown",
   "id": "61ef087d",
   "metadata": {},
   "source": [
    "El tres en raya (tic-tac-toe) es un juego de tablero entre dos jugadores: X (primer jugador) y O (segundo jugador), que marcan los espacios de una cuadrícula de 3×3 alternadamente hasta que uno de ellos gana o la partida termina en empate.\n",
    "\n",
    "<br>Cada jugador solo debe colocar su símbolo una vez por turno y no debe ser sobre una casilla ya jugada.\n",
    "\n",
    "<br><img src=\"https://upload.wikimedia.org/wikipedia/commons/3/33/Tictactoe1.gif\">\n",
    "\n",
    "<br>Consigue la **vitoria** aquel que consiga \"marcar\" tres casillas consecutivas, es decir, de la misma fila, columna o diagonal (3 en raya).\n",
    "\n",
    "<br>En caso de que se marquen todas las casillas del tablero y ninguno consiga 3 en raya, la partida finaliza en **empate**.\n",
    "\n",
    "<br>\n",
    "\n",
    "#### Ejemplos:\n",
    "\n",
    "<br>\n",
    "\n",
    "- Una partida ganada por el primer jugador, X:\n",
    "\n",
    "<br><img src=\"https://upload.wikimedia.org/wikipedia/commons/e/e1/Tic-tac-toe-game-1.png\" width=\"400\">\n",
    "\n",
    "- Una partida que termina en empate:\n",
    "\n",
    "<br>\n",
    "<img src=\"https://upload.wikimedia.org/wikipedia/commons/d/db/Tic-tac-toe-game-2.png\" width=\"500\">\n",
    "\n",
    "<br>\n",
    "\n"
   ]
  },
  {
   "cell_type": "markdown",
   "id": "91f30aec",
   "metadata": {},
   "source": [
    "### 2. Estrategia\n",
    "---"
   ]
  },
  {
   "cell_type": "markdown",
   "id": "7bac462b",
   "metadata": {},
   "source": [
    "El 3-en-raya es lo que se considera un **juego resuelto**, es decir un juego cuyo resultado (ganar, perder o empatar) se puede predecir desde cualquier posición asumiendo un juego perfecto por parte de ambos jugadores\n",
    "\n",
    "<br>Un jugador puede jugar una partida perfecta de 3-en-raya (ganar o, al menos, empatar) si, cada vez que sea su turno, elige el primer movimiento disponible de la siguiente lista:\n",
    "\n",
    "- **Victoria:** si el jugador tiene 2 en una línea, puede marcar la tercera para hacer 3 en raya\n",
    "- **Bloqueo:** si el oponente tiene 2 en una línea, el jugador debe jugar a la tercera posición en la línea para bloquear al oponente\n",
    "- **Bifurcación:** provocar un escenario en el que el jugador tiene dos formas para ganar (dos líneas de 2 no bloquedas)\n",
    "- **Bloquear una bifurcación:** si existe una única posibilidad de bifurcación para el oponente, el jugador debe bloquearla. Si existe más de una posibilidad, el jugador debe tratar de bloquearlas tratando de hacer un 2 en fila que obligue al oponente a defenderse\n",
    "- **Centro:** jugar al centro. Si es el primer movimiento, jugar una esquina maximiza las posibilidades de que el segundo jugador cometa un error. Hay, sin embargo, [estudios](http://blog.maxant.co.uk/pebble/2018/04/07/1523086680000.html) que indican que, si los jugadores no son perfectos, jugar al centro en la apertura es lo mejor para X.\n",
    "- **Esquina opuesta:** si el oponente está en una esquina, el jugador mueve a la esquina opuesta\n",
    "- **Esquina vacía:** el jugador mueve a una esquina\n",
    "- **Lado vacío:** el jugador mueve al medio de uno de los laterales"
   ]
  }
 ],
 "metadata": {
  "kernelspec": {
   "display_name": "Python 3",
   "language": "python",
   "name": "python3"
  },
  "language_info": {
   "codemirror_mode": {
    "name": "ipython",
    "version": 3
   },
   "file_extension": ".py",
   "mimetype": "text/x-python",
   "name": "python",
   "nbconvert_exporter": "python",
   "pygments_lexer": "ipython3",
   "version": "3.8.10"
  },
  "toc": {
   "base_numbering": 1,
   "nav_menu": {},
   "number_sections": false,
   "sideBar": true,
   "skip_h1_title": false,
   "title_cell": "Table of Contents",
   "title_sidebar": "Contents",
   "toc_cell": true,
   "toc_position": {},
   "toc_section_display": true,
   "toc_window_display": false
  }
 },
 "nbformat": 4,
 "nbformat_minor": 5
}