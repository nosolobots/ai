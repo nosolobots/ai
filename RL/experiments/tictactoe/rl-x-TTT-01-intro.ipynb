{
 "cells": [
  {
   "cell_type": "markdown",
   "id": "e257397c",
   "metadata": {
    "toc": true
   },
   "source": [
    "<h1>Table of Contents<span class=\"tocSkip\"></span></h1>\n",
    "<div class=\"toc\"><ul class=\"toc-item\"><li><span><a href=\"#1.-TicTacToe-(3-en-raya)\" data-toc-modified-id=\"1.-TicTacToe-(3-en-raya)-1\">1. TicTacToe (3-en-raya)</a></span><ul class=\"toc-item\"><li><span><a href=\"#Ejemplos:\" data-toc-modified-id=\"Ejemplos:-1.1\">Ejemplos:</a></span></li></ul></li><li><span><a href=\"#2.-Estrategia\" data-toc-modified-id=\"2.-Estrategia-2\">2. Estrategia</a></span></li><li><span><a href=\"#1.-TicTacToe-(3-en-raya)\" data-toc-modified-id=\"1.-TicTacToe-(3-en-raya)-3\">1. TicTacToe (3-en-raya)</a></span><ul class=\"toc-item\"><li><span><a href=\"#Descripción\" data-toc-modified-id=\"Descripción-3.1\">Descripción</a></span></li><li><span><a href=\"#Observaciones\" data-toc-modified-id=\"Observaciones-3.2\">Observaciones</a></span></li><li><span><a href=\"#Acciones\" data-toc-modified-id=\"Acciones-3.3\">Acciones</a></span></li><li><span><a href=\"#Recompensas\" data-toc-modified-id=\"Recompensas-3.4\">Recompensas</a></span><ul class=\"toc-item\"><li><ul class=\"toc-item\"><li><span><a href=\"#NOTA:\" data-toc-modified-id=\"NOTA:-3.4.0.1\">NOTA:</a></span></li></ul></li></ul></li></ul></li><li><span><a href=\"#2.-Probando-el-entorno-con-un-agente-humano\" data-toc-modified-id=\"2.-Probando-el-entorno-con-un-agente-humano-4\">2. Probando el entorno con un agente humano</a></span><ul class=\"toc-item\"><li><span><a href=\"#El-Agente:\" data-toc-modified-id=\"El-Agente:-4.1\">El Agente:</a></span></li><li><span><a href=\"#El-juego:\" data-toc-modified-id=\"El-juego:-4.2\">El juego:</a></span></li></ul></li></ul></div>"
   ]
  },
  {
   "cell_type": "markdown",
   "id": "144b275b",
   "metadata": {},
   "source": [
    "### 1. TicTacToe (3-en-raya)\n",
    "---"
   ]
  },
  {
   "cell_type": "markdown",
   "id": "61ef087d",
   "metadata": {},
   "source": [
    "El tres en raya (tic-tac-toe) es un juego de tablero entre dos jugadores: X (primer jugador) y O (segundo jugador), que marcan los espacios de una cuadrícula de 3×3 alternadamente hasta que uno de ellos gana o la partida termina en empate.\n",
    "\n",
    "<br>Cada jugador solo debe colocar su símbolo una vez por turno y no debe ser sobre una casilla ya jugada.\n",
    "\n",
    "<br><img src=\"https://upload.wikimedia.org/wikipedia/commons/3/33/Tictactoe1.gif\">\n",
    "\n",
    "<br>Consigue la **vitoria** aquel que consiga \"marcar\" tres casillas consecutivas, es decir, de la misma fila, columna o diagonal (3 en raya).\n",
    "\n",
    "<br>En caso de que se marquen todas las casillas del tablero y ninguno consiga 3 en raya, la partida finaliza en **empate**.\n",
    "\n",
    "<br>\n",
    "\n",
    "#### Ejemplos:\n",
    "\n",
    "<br>\n",
    "\n",
    "- Una partida ganada por el primer jugador, X:\n",
    "\n",
    "<br><img src=\"https://upload.wikimedia.org/wikipedia/commons/e/e1/Tic-tac-toe-game-1.png\" width=\"400\">\n",
    "\n",
    "- Una partida que termina en empate:\n",
    "\n",
    "<br>\n",
    "<img src=\"https://upload.wikimedia.org/wikipedia/commons/d/db/Tic-tac-toe-game-2.png\" width=\"500\">\n",
    "\n",
    "<br>\n",
    "\n"
   ]
  },
  {
   "cell_type": "markdown",
   "id": "91f30aec",
   "metadata": {},
   "source": [
    "### 2. Estrategia\n",
    "---"
   ]
  },
  {
   "cell_type": "code",
   "execution_count": null,
   "id": "1d578afa",
   "metadata": {},
   "outputs": [],
   "source": []
  },
  {
   "cell_type": "markdown",
   "id": "f4cd224a",
   "metadata": {},
   "source": [
    "### 1. TicTacToe (3-en-raya)\n",
    "---\n",
    "#### Descripción\n",
    "El Blackjack es un juego de cartas donde el objetivo es obtener cartas que sumen una valor lo más próximo a 21 sin pasarse. En este entorno simulado de gym el agente (_jugador_) juega sólo contra el crupier (_dealer_).\n",
    "\n",
    "Se juega con la baraja inglesa. Para determinar el valor total de las cartas de los jugadores, se aplican las siguientes reglas:\n",
    "- Las cartas del 2 al 10 suman su valor numérico\n",
    "- Las cartas de figuras (J, Q, K) tienen valor 10\n",
    "- El as (1) puede sumar 1 ó 10, a elección del jugador\n",
    "- Se juega sin comodines\n",
    "\n",
    "Al empezar el juego, tanto el jugador como el crupier, reciben dos cartas. Las dos cartas del jugador están boca arriba por una sola del crupier.\n",
    "\n",
    "El jugador puede solicitar nuevas cartas (hit=1), una a una, hasta que decida plantarse (stick=0) o se pase de 21 (bust).\n",
    "\n",
    "Una vez que el jugador se planta, el crupier le dará la vuelta a su carta y sacará nuevas cartas hasta que su suma sea 17 o mayor. Si el crupier se pasa, gana el jugador.\n",
    "\n",
    "Si ninguno de los dos, jugador y crupier, se pasan, el resultado (win, lose, draw) se decide en función de quién se quedó más cerca de 21. \n",
    "\n",
    "<br>\n",
    "\n",
    "#### Observaciones\n",
    "Consiste en una tupla con tres valores: la suma actual del jugador, el valor de la carta vista del crupier, y si el jugador tiene o no un as.\n",
    "\n",
    "<br>\n",
    "\n",
    "#### Acciones\n",
    "El espacio discreto de acciones que puede tomar el agente es el siguiente:\n",
    "\n",
    "- 0: plantarse\n",
    "- 1: pedir carta\n",
    "\n",
    "<br>\n",
    "\n",
    "#### Recompensas\n",
    "La recompensa por ganar es **+1**, por el empate es **0**, y por perder es **-1**.\n",
    "\n",
    "<br>\n",
    "\n",
    "###### NOTA: \n",
    "Este entorno se corresponde con la versión del problema de blackjack descrito en el Ejemplo 5.1 del libro [Reinforcement Learning: An Introduction by Sutton and Burton](http://incompleteideas.net/book/the-book-2nd.html).\n",
    "\n",
    "\n"
   ]
  },
  {
   "cell_type": "markdown",
   "id": "65fa314a",
   "metadata": {},
   "source": [
    "### 2. Probando el entorno con un agente humano\n",
    "---\n",
    "El siguiente código nos permite interactuar como jugador con el entorno Blackjack-v0 de gym.\n",
    "\n",
    "<br>\n",
    "\n",
    "#### El Agente:"
   ]
  },
  {
   "cell_type": "code",
   "execution_count": 1,
   "id": "4b086ea4",
   "metadata": {},
   "outputs": [],
   "source": [
    "class BJConsoleHumanAgent():\n",
    "    def __init__(self, env):\n",
    "        self._env = env\n",
    "        self._state = None\n",
    "        \n",
    "    @property\n",
    "    def state(self):\n",
    "        return self._state\n",
    "    \n",
    "    @state.setter\n",
    "    def state(self, state):\n",
    "        self._state = state\n",
    "        \n",
    "    def action(self):\n",
    "        return int(input(\"action [stick=0 | hit=1]? \"))"
   ]
  },
  {
   "cell_type": "markdown",
   "id": "52fcfaf0",
   "metadata": {},
   "source": [
    "#### El juego:"
   ]
  },
  {
   "cell_type": "code",
   "execution_count": 2,
   "id": "6c15bb4f",
   "metadata": {
    "scrolled": true
   },
   "outputs": [
    {
     "name": "stdout",
     "output_type": "stream",
     "text": [
      "New Blackjack game...\n",
      "\n",
      "Current state: (6, 10, False)\n"
     ]
    },
    {
     "ename": "KeyboardInterrupt",
     "evalue": "Interrupted by user",
     "output_type": "error",
     "traceback": [
      "\u001b[0;31m---------------------------------------------------------------------------\u001b[0m",
      "\u001b[0;31mKeyboardInterrupt\u001b[0m                         Traceback (most recent call last)",
      "\u001b[0;32m<ipython-input-2-d31003164754>\u001b[0m in \u001b[0;36m<module>\u001b[0;34m\u001b[0m\n\u001b[1;32m     21\u001b[0m     \u001b[0;32mwhile\u001b[0m \u001b[0;32mnot\u001b[0m \u001b[0mdone\u001b[0m\u001b[0;34m:\u001b[0m\u001b[0;34m\u001b[0m\u001b[0;34m\u001b[0m\u001b[0m\n\u001b[1;32m     22\u001b[0m         \u001b[0mprint\u001b[0m\u001b[0;34m(\u001b[0m\u001b[0;34m\"\\nCurrent state:\"\u001b[0m\u001b[0;34m,\u001b[0m \u001b[0magent\u001b[0m\u001b[0;34m.\u001b[0m\u001b[0mstate\u001b[0m\u001b[0;34m)\u001b[0m\u001b[0;34m\u001b[0m\u001b[0;34m\u001b[0m\u001b[0m\n\u001b[0;32m---> 23\u001b[0;31m         \u001b[0maction\u001b[0m \u001b[0;34m=\u001b[0m \u001b[0magent\u001b[0m\u001b[0;34m.\u001b[0m\u001b[0maction\u001b[0m\u001b[0;34m(\u001b[0m\u001b[0;34m)\u001b[0m\u001b[0;34m\u001b[0m\u001b[0;34m\u001b[0m\u001b[0m\n\u001b[0m\u001b[1;32m     24\u001b[0m         \u001b[0mnew_state\u001b[0m\u001b[0;34m,\u001b[0m \u001b[0mreward\u001b[0m\u001b[0;34m,\u001b[0m \u001b[0mdone\u001b[0m\u001b[0;34m,\u001b[0m \u001b[0m_\u001b[0m \u001b[0;34m=\u001b[0m \u001b[0menv\u001b[0m\u001b[0;34m.\u001b[0m\u001b[0mstep\u001b[0m\u001b[0;34m(\u001b[0m\u001b[0maction\u001b[0m\u001b[0;34m)\u001b[0m\u001b[0;34m\u001b[0m\u001b[0;34m\u001b[0m\u001b[0m\n\u001b[1;32m     25\u001b[0m         \u001b[0magent\u001b[0m\u001b[0;34m.\u001b[0m\u001b[0mstate\u001b[0m \u001b[0;34m=\u001b[0m \u001b[0mnew_state\u001b[0m\u001b[0;34m\u001b[0m\u001b[0;34m\u001b[0m\u001b[0m\n",
      "\u001b[0;32m<ipython-input-1-e080a9ba08a3>\u001b[0m in \u001b[0;36maction\u001b[0;34m(self)\u001b[0m\n\u001b[1;32m     13\u001b[0m \u001b[0;34m\u001b[0m\u001b[0m\n\u001b[1;32m     14\u001b[0m     \u001b[0;32mdef\u001b[0m \u001b[0maction\u001b[0m\u001b[0;34m(\u001b[0m\u001b[0mself\u001b[0m\u001b[0;34m)\u001b[0m\u001b[0;34m:\u001b[0m\u001b[0;34m\u001b[0m\u001b[0;34m\u001b[0m\u001b[0m\n\u001b[0;32m---> 15\u001b[0;31m         \u001b[0;32mreturn\u001b[0m \u001b[0mint\u001b[0m\u001b[0;34m(\u001b[0m\u001b[0minput\u001b[0m\u001b[0;34m(\u001b[0m\u001b[0;34m\"action [stick=0 | hit=1]? \"\u001b[0m\u001b[0;34m)\u001b[0m\u001b[0;34m)\u001b[0m\u001b[0;34m\u001b[0m\u001b[0;34m\u001b[0m\u001b[0m\n\u001b[0m",
      "\u001b[0;32m~/.local/lib/python3.8/site-packages/ipykernel/kernelbase.py\u001b[0m in \u001b[0;36mraw_input\u001b[0;34m(self, prompt)\u001b[0m\n\u001b[1;32m    846\u001b[0m                 \u001b[0;34m\"raw_input was called, but this frontend does not support input requests.\"\u001b[0m\u001b[0;34m\u001b[0m\u001b[0;34m\u001b[0m\u001b[0m\n\u001b[1;32m    847\u001b[0m             )\n\u001b[0;32m--> 848\u001b[0;31m         return self._input_request(str(prompt),\n\u001b[0m\u001b[1;32m    849\u001b[0m             \u001b[0mself\u001b[0m\u001b[0;34m.\u001b[0m\u001b[0m_parent_ident\u001b[0m\u001b[0;34m,\u001b[0m\u001b[0;34m\u001b[0m\u001b[0;34m\u001b[0m\u001b[0m\n\u001b[1;32m    850\u001b[0m             \u001b[0mself\u001b[0m\u001b[0;34m.\u001b[0m\u001b[0m_parent_header\u001b[0m\u001b[0;34m,\u001b[0m\u001b[0;34m\u001b[0m\u001b[0;34m\u001b[0m\u001b[0m\n",
      "\u001b[0;32m~/.local/lib/python3.8/site-packages/ipykernel/kernelbase.py\u001b[0m in \u001b[0;36m_input_request\u001b[0;34m(self, prompt, ident, parent, password)\u001b[0m\n\u001b[1;32m    890\u001b[0m             \u001b[0;32mexcept\u001b[0m \u001b[0mKeyboardInterrupt\u001b[0m\u001b[0;34m:\u001b[0m\u001b[0;34m\u001b[0m\u001b[0;34m\u001b[0m\u001b[0m\n\u001b[1;32m    891\u001b[0m                 \u001b[0;31m# re-raise KeyboardInterrupt, to truncate traceback\u001b[0m\u001b[0;34m\u001b[0m\u001b[0;34m\u001b[0m\u001b[0;34m\u001b[0m\u001b[0m\n\u001b[0;32m--> 892\u001b[0;31m                 \u001b[0;32mraise\u001b[0m \u001b[0mKeyboardInterrupt\u001b[0m\u001b[0;34m(\u001b[0m\u001b[0;34m\"Interrupted by user\"\u001b[0m\u001b[0;34m)\u001b[0m \u001b[0;32mfrom\u001b[0m \u001b[0;32mNone\u001b[0m\u001b[0;34m\u001b[0m\u001b[0;34m\u001b[0m\u001b[0m\n\u001b[0m\u001b[1;32m    893\u001b[0m             \u001b[0;32mexcept\u001b[0m \u001b[0mException\u001b[0m \u001b[0;32mas\u001b[0m \u001b[0me\u001b[0m\u001b[0;34m:\u001b[0m\u001b[0;34m\u001b[0m\u001b[0;34m\u001b[0m\u001b[0m\n\u001b[1;32m    894\u001b[0m                 \u001b[0mself\u001b[0m\u001b[0;34m.\u001b[0m\u001b[0mlog\u001b[0m\u001b[0;34m.\u001b[0m\u001b[0mwarning\u001b[0m\u001b[0;34m(\u001b[0m\u001b[0;34m\"Invalid Message:\"\u001b[0m\u001b[0;34m,\u001b[0m \u001b[0mexc_info\u001b[0m\u001b[0;34m=\u001b[0m\u001b[0;32mTrue\u001b[0m\u001b[0;34m)\u001b[0m\u001b[0;34m\u001b[0m\u001b[0;34m\u001b[0m\u001b[0m\n",
      "\u001b[0;31mKeyboardInterrupt\u001b[0m: Interrupted by user"
     ]
    }
   ],
   "source": [
    "import gym\n",
    "from IPython.display import clear_output\n",
    "\n",
    "env = gym.make(\"Blackjack-v0\")\n",
    "agent = BJConsoleHumanAgent(env)\n",
    "\n",
    "total_games = 0\n",
    "total_reward = 0\n",
    "total_wins = 0\n",
    "total_losses = 0\n",
    "total_draws = 0\n",
    "\n",
    "while True:\n",
    "    clear_output(wait=True)\n",
    "    print(\"New Blackjack game...\")\n",
    "\n",
    "    agent.state = env.reset()\n",
    "    total_games += 1\n",
    "    \n",
    "    done = False\n",
    "    while not done:\n",
    "        print(\"\\nCurrent state:\", agent.state)\n",
    "        action = agent.action()\n",
    "        new_state, reward, done, _ = env.step(action)\n",
    "        agent.state = new_state\n",
    "\n",
    "    print(\"\\nGame done...\")\n",
    "    print(\"Finale state:\", agent.state)\n",
    "    total_reward += reward\n",
    "    if reward == 1:\n",
    "        print(\"You win!!\")\n",
    "        total_wins += 1\n",
    "    elif reward == -1:\n",
    "        print(\"You lose!!\")\n",
    "        total_losses += 1\n",
    "    else:\n",
    "        print(\"Draw!!\")\n",
    "        total_draws += 1\n",
    "        \n",
    "    new = str()\n",
    "    while new not in('Y','N'):\n",
    "        new = input(\"New game [Y/N]? \").upper()\n",
    "    if new == 'N':\n",
    "        break\n",
    "\n",
    "# STATS\n",
    "clear_output(wait=True)\n",
    "print(\"\\nStats:\")\n",
    "print(\"------\")\n",
    "print(\"Total games:\", total_games)\n",
    "print(\"Total wins:\", total_wins)\n",
    "print(\"Total losses:\", total_losses)\n",
    "print(\"Total draws:\", total_draws)\n",
    "print(\"Total reward:\", total_reward)"
   ]
  }
 ],
 "metadata": {
  "kernelspec": {
   "display_name": "Python 3",
   "language": "python",
   "name": "python3"
  },
  "language_info": {
   "codemirror_mode": {
    "name": "ipython",
    "version": 3
   },
   "file_extension": ".py",
   "mimetype": "text/x-python",
   "name": "python",
   "nbconvert_exporter": "python",
   "pygments_lexer": "ipython3",
   "version": "3.8.10"
  },
  "toc": {
   "base_numbering": 1,
   "nav_menu": {},
   "number_sections": false,
   "sideBar": true,
   "skip_h1_title": false,
   "title_cell": "Table of Contents",
   "title_sidebar": "Contents",
   "toc_cell": true,
   "toc_position": {},
   "toc_section_display": true,
   "toc_window_display": false
  }
 },
 "nbformat": 4,
 "nbformat_minor": 5
}
