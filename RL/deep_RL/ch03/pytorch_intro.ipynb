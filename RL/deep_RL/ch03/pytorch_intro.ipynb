{
 "cells": [
  {
   "cell_type": "markdown",
   "metadata": {},
   "source": [
    "## PyTorch\n",
    "---"
   ]
  },
  {
   "cell_type": "markdown",
   "metadata": {},
   "source": [
    "Creando tensores"
   ]
  },
  {
   "cell_type": "code",
   "execution_count": 1,
   "metadata": {},
   "outputs": [
    {
     "name": "stdout",
     "output_type": "stream",
     "text": [
      "a1: tensor([[7.1221e+08, 4.5776e-41],\n",
      "        [6.2201e-37, 0.0000e+00],\n",
      "        [0.0000e+00, 0.0000e+00]])\n",
      "a2: tensor([[1., 2., 3.],\n",
      "        [4., 5., 6.]])\n",
      "a3: tensor([[1., 1., 1.],\n",
      "        [1., 1., 1.]])\n",
      "a4: 4.5\n"
     ]
    }
   ],
   "source": [
    "import torch\n",
    "import numpy as np\n",
    "\n",
    "# specifying the shape of the new tensor\n",
    "a1 = torch.FloatTensor(3, 2)\n",
    "print(\"a1:\", a1)\n",
    "\n",
    "# providing an iterable of values\n",
    "a2 = torch.FloatTensor([[1, 2, 3], [4, 5, 6]])\n",
    "print(\"a2:\", a2)\n",
    "\n",
    "# using a numpy array\n",
    "n = np.ones((2, 3))\n",
    "a3 = torch.FloatTensor(n)\n",
    "print(\"a3:\", a3)\n",
    "\n",
    "# scalar tensor. We use item() method to access the scalar value\n",
    "a4 = torch.tensor(4.5)\n",
    "print(\"a4:\", a4.item())"
   ]
  },
  {
   "cell_type": "markdown",
   "metadata": {},
   "source": [
    "---\n",
    "### Operaciones"
   ]
  },
  {
   "cell_type": "markdown",
   "metadata": {},
   "source": [
    "Hay dos tipos de operaciones para tensores: **_inplace_** y **_functional_**. Las primeras llevan _underscore_ y operan sobre el contenido del tensor, modificando el original. Las segundas, devuelven un nuevo tensor a partir del original y de la operación realizada"
   ]
  },
  {
   "cell_type": "code",
   "execution_count": 2,
   "metadata": {},
   "outputs": [
    {
     "name": "stdout",
     "output_type": "stream",
     "text": [
      "t1: tensor([[7.4593e-38, 0.0000e+00],\n",
      "        [0.0000e+00, 0.0000e+00],\n",
      "        [3.0875e-36, 6.5563e-39]])\n",
      "t1: tensor([[0., 0.],\n",
      "        [0., 0.],\n",
      "        [0., 0.]])\n",
      "t2: tensor([0., 0., 0., 0., 0.])\n"
     ]
    }
   ],
   "source": [
    "t1 = torch.FloatTensor(3, 2)\n",
    "print(\"t1:\", t1)\n",
    "\n",
    "t1.zero_()\n",
    "print(\"t1:\", t1)\n",
    "\n",
    "t2 = torch.zeros(5)\n",
    "print(\"t2:\", t2)"
   ]
  },
  {
   "cell_type": "markdown",
   "metadata": {},
   "source": [
    "Existen múltiples operaciones que podemos realizar sobre tensores (http://pytorch.org/docs)\n",
    "\n",
    "Muchas de estas operaciones coinciden con su equivalente en NumPy: torch.stack(), torch.transpose(), torch.cat(),..."
   ]
  },
  {
   "cell_type": "code",
   "execution_count": 3,
   "metadata": {},
   "outputs": [
    {
     "name": "stdout",
     "output_type": "stream",
     "text": [
      "m: tensor([[1., 2., 3.],\n",
      "        [4., 5., 6.]])\n",
      "m: tensor([[1., 4.],\n",
      "        [2., 5.],\n",
      "        [3., 6.]])\n"
     ]
    }
   ],
   "source": [
    "m = torch.FloatTensor([[1, 2, 3], [4, 5, 6]]) \n",
    "print(\"m:\", m)\n",
    "m.transpose_(0,1)\n",
    "print(\"m:\", m)\n"
   ]
  },
  {
   "cell_type": "markdown",
   "metadata": {},
   "source": [
    "---\n",
    "### GPU tensors"
   ]
  },
  {
   "cell_type": "markdown",
   "metadata": {},
   "source": [
    "PyTorch soporta CUDA GPU's de forma transparente, con la condición de que los tensores que empleemos en las operaciones se definan en la GPU"
   ]
  },
  {
   "cell_type": "code",
   "execution_count": 4,
   "metadata": {},
   "outputs": [
    {
     "name": "stdout",
     "output_type": "stream",
     "text": [
      "gpu_t1: tensor([[2., 4., 6.],\n",
      "        [2., 4., 6.]], device='cuda:0')\n",
      "cpu_t: tensor([[1., 1., 1.],\n",
      "        [1., 1., 1.],\n",
      "        [1., 1., 1.]])\n",
      "gpu_t2: tensor([[6., 6., 6.],\n",
      "        [6., 6., 6.],\n",
      "        [6., 6., 6.]], device='cuda:0')\n"
     ]
    }
   ],
   "source": [
    "gpu_t1 = torch.cuda.FloatTensor([[1, 2, 3], [1, 2, 3]])\n",
    "gpu_t1 *= 2.\n",
    "print(\"gpu_t1:\", gpu_t1)\n",
    "\n",
    "cpu_t = torch.ones((3, 3))\n",
    "print(\"cpu_t:\", cpu_t)\n",
    "#gpu_t2 = cpu_t.cuda()\n",
    "gpu_t2 = cpu_t.to('cuda:0')\n",
    "gpu_t2 += 5.\n",
    "print(\"gpu_t2:\", gpu_t2)"
   ]
  }
 ],
 "metadata": {
  "kernelspec": {
   "display_name": "Python 3",
   "language": "python",
   "name": "python3"
  },
  "language_info": {
   "codemirror_mode": {
    "name": "ipython",
    "version": 3
   },
   "file_extension": ".py",
   "mimetype": "text/x-python",
   "name": "python",
   "nbconvert_exporter": "python",
   "pygments_lexer": "ipython3",
   "version": "3.8.5"
  }
 },
 "nbformat": 4,
 "nbformat_minor": 4
}
