{
 "cells": [
  {
   "cell_type": "markdown",
   "metadata": {},
   "source": [
    "## Tensorflow Fashion MNIST (callback)\n",
    "---"
   ]
  },
  {
   "cell_type": "markdown",
   "metadata": {},
   "source": [
    "Implementamos un callback para finalizar el entrenamiento cuando se alcancen las condiciones deseadas (en este caso, loss<0.3 o se llegue al número de épocas)"
   ]
  },
  {
   "cell_type": "code",
   "execution_count": 12,
   "metadata": {},
   "outputs": [
    {
     "name": "stdout",
     "output_type": "stream",
     "text": [
      "Epoch 1/10\n",
      "60000/60000 [==============================] - 5s 85us/sample - loss: 0.4839 - acc: 0.8274\n",
      "Epoch 2/10\n",
      "60000/60000 [==============================] - 5s 83us/sample - loss: 0.3641 - acc: 0.8673\n",
      "Epoch 3/10\n",
      "60000/60000 [==============================] - 5s 80us/sample - loss: 0.3270 - acc: 0.8794\n",
      "Epoch 4/10\n",
      "60000/60000 [==============================] - 5s 84us/sample - loss: 0.3034 - acc: 0.8885\n",
      "Epoch 5/10\n",
      "60000/60000 [==============================] - 5s 83us/sample - loss: 0.2846 - acc: 0.8936\n",
      "Epoch 6/10\n",
      "60000/60000 [==============================] - 5s 84us/sample - loss: 0.2698 - acc: 0.9001\n",
      "10000/10000 [==============================] - 1s 63us/sample - loss: 0.3247 - acc: 0.8857\n"
     ]
    },
    {
     "data": {
      "text/plain": [
       "[0.3246813590168953, 0.8857]"
      ]
     },
     "execution_count": 12,
     "metadata": {},
     "output_type": "execute_result"
    }
   ],
   "source": [
    "import tensorflow as tf\n",
    "import numpy as np\n",
    "from tensorflow import keras\n",
    "\n",
    "# callback\n",
    "class myCallback(tf.keras.callbacks.Callback):\n",
    "    def __init__(self, loss=0.0, accuracy=0.0):\n",
    "        self.loss = loss\n",
    "        self.accuracy = accuracy\n",
    "    def on_epoch_end(self, epoch, logs={}):\n",
    "        if self.loss>0.0 and logs.get('loss')<self.loss:\n",
    "            self.model.stop_training = True\n",
    "        elif self.accuracy>0.0 and logs.get('acc')>self.accuracy:\n",
    "            self.model.stop_training = True            \n",
    "            \n",
    "            \n",
    "# data \n",
    "fmnist = tf.keras.datasets.fashion_mnist\n",
    "(train_data, train_labels), (test_data, test_labels) = fmnist.load_data()\n",
    "train_data = train_data/255.0\n",
    "test_data = test_data/250.0\n",
    "\n",
    "# model\n",
    "model = tf.keras.models.Sequential([tf.keras.layers.Flatten(),\n",
    "                                   tf.keras.layers.Dense(256, activation=tf.nn.relu),\n",
    "                                   tf.keras.layers.Dense(10, activation=tf.nn.softmax)])\n",
    "model.compile(optimizer=tf.keras.optimizers.Adam(), \n",
    "             loss='sparse_categorical_crossentropy',\n",
    "             metrics=['accuracy'])\n",
    "\n",
    "# training\n",
    "#callbacks = myCallback(loss=0.3)\n",
    "callbacks = myCallback(accuracy=0.9)\n",
    "model.fit(train_data, train_labels, epochs=10, callbacks=[callbacks])\n",
    "\n",
    "# evaluate\n",
    "model.evaluate(test_data, test_labels)"
   ]
  }
 ],
 "metadata": {
  "kernelspec": {
   "display_name": "Python 3",
   "language": "python",
   "name": "python3"
  },
  "language_info": {
   "codemirror_mode": {
    "name": "ipython",
    "version": 3
   },
   "file_extension": ".py",
   "mimetype": "text/x-python",
   "name": "python",
   "nbconvert_exporter": "python",
   "pygments_lexer": "ipython3",
   "version": "3.6.9"
  }
 },
 "nbformat": 4,
 "nbformat_minor": 4
}
