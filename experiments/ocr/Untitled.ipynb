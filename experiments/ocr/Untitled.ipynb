{
 "cells": [
  {
   "cell_type": "code",
   "execution_count": 6,
   "metadata": {
    "scrolled": true
   },
   "outputs": [
    {
     "data": {
      "application/vnd.jupyter.widget-view+json": {
       "model_id": "d87630278a474e8dad751e08e5cf72f7",
       "version_major": 2,
       "version_minor": 0
      },
      "text/plain": [
       "Canvas(height=28, layout=Layout(height='200px', width='200px'), width=28)"
      ]
     },
     "metadata": {},
     "output_type": "display_data"
    }
   ],
   "source": [
    "from ipycanvas import Canvas\n",
    "\n",
    "canvas = Canvas(width=28, height=28)\n",
    "\n",
    "canvas.layout.width = '200px'\n",
    "canvas.layout.height = '200px'\n",
    "\n",
    "canvas.fill_style = 'green'\n",
    "canvas.stroke_style = 'blue'\n",
    "\n",
    "canvas.fill_rect(0, 0, 1, 1)\n",
    "\n",
    "canvas.fill()\n",
    "\n",
    "canvas\n"
   ]
  }
 ],
 "metadata": {
  "kernelspec": {
   "display_name": "Python 3",
   "language": "python",
   "name": "python3"
  },
  "language_info": {
   "codemirror_mode": {
    "name": "ipython",
    "version": 3
   },
   "file_extension": ".py",
   "mimetype": "text/x-python",
   "name": "python",
   "nbconvert_exporter": "python",
   "pygments_lexer": "ipython3",
   "version": "3.6.9"
  }
 },
 "nbformat": 4,
 "nbformat_minor": 4
}
