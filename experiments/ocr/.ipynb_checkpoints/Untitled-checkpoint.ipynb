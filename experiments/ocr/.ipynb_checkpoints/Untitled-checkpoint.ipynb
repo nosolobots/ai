{
 "cells": [
  {
   "cell_type": "code",
   "execution_count": 9,
   "metadata": {},
   "outputs": [
    {
     "data": {
      "application/vnd.jupyter.widget-view+json": {
       "model_id": "cfd2422c06754c0d9e73c185218a51f5",
       "version_major": 2,
       "version_minor": 0
      },
      "text/plain": [
       "Canvas(height=200, width=200)"
      ]
     },
     "metadata": {},
     "output_type": "display_data"
    }
   ],
   "source": [
    "from ipycanvas import Canvas\n",
    "\n",
    "canvas = Canvas(width=200, height=200)\n",
    "\n",
    "canvas.fill_style = 'green'\n",
    "canvas.stroke_style = 'blue'\n",
    "\n",
    "canvas.fill_rect(25, 25, 100, 100)\n",
    "canvas.clear_rect(45, 45, 60, 60)\n",
    "canvas.stroke_rect(50, 50, 50, 50)\n",
    "\n",
    "# Draw simple triangle shape\n",
    "canvas.begin_path()\n",
    "canvas.move_to(75, 50)\n",
    "canvas.line_to(100, 75)\n",
    "canvas.line_to(100, 25)\n",
    "canvas.fill()\n",
    "\n",
    "canvas\n"
   ]
  }
 ],
 "metadata": {
  "kernelspec": {
   "display_name": "Python 3",
   "language": "python",
   "name": "python3"
  },
  "language_info": {
   "codemirror_mode": {
    "name": "ipython",
    "version": 3
   },
   "file_extension": ".py",
   "mimetype": "text/x-python",
   "name": "python",
   "nbconvert_exporter": "python",
   "pygments_lexer": "ipython3",
   "version": "3.6.9"
  }
 },
 "nbformat": 4,
 "nbformat_minor": 4
}
